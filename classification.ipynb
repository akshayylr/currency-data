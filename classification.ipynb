{
 "cells": [
  {
   "cell_type": "markdown",
   "metadata": {},
   "source": [
    "The `process_csv` function is responsible for processing CSV files in a given folder and creating hourly data from them. Let's go through the implementation step by step:\n",
    "\n",
    "1. The function takes two parameters: `folder_path` (the path to the folder containing the CSV files) and `output_folder` (the path to the folder where the hourly data will be saved).\n",
    "\n",
    "2. It uses a `for` loop to iterate over each file in the `folder_path` directory. The `os.listdir` function returns a list of all files and directories in the specified path.\n",
    "\n",
    "3. The `if` statement checks if the file has a `.csv` extension using the `endswith` method. If it does, the file is considered a CSV file and further processing is performed.\n",
    "\n",
    "4. The `file_path` is created by joining the `folder_path` and `file_name` using the `os.path.join` function.\n",
    "\n",
    "5. The CSV file is read into a Pandas DataFrame using the `pd.read_csv` function, and the resulting DataFrame is stored in the `data` variable.\n",
    "\n",
    "6. The 'datetime' column in the DataFrame is converted to datetime format using the `pd.to_datetime` function.\n",
    "\n",
    "7. The DataFrame index is set to the '_id' column using the `data.set_index` method. This assumes that '_id' is a unique identifier for each row.\n",
    "\n",
    "8. The data is resampled by hour using the `data.resample` method with a frequency of 'H' (hourly) and the 'datetime' column as the time reference.\n",
    "\n",
    "9. Inside the `resample` method, a lambda function is used to calculate the weighted average price and total volume for each hour. The lambda function returns a Pandas Series with two columns: 'weighted_avg_price' and 'total_volume'. If the resampled data is empty (no data for that hour), the lambda function returns 0 for both columns.\n",
    "\n",
    "10. The columns in the `hourly_data` DataFrame are rearranged to have 'total_volume' first using the indexing operation `hourly_data[['total_volume', 'weighted_avg_price']]`.\n",
    "\n",
    "11. The filename without the extension is extracted using the `os.path.splitext` function.\n",
    "\n",
    "12. An `if` statement checks if the `output_directory` (specified in the main code) exists. If it doesn't, the function creates the directory using `os.makedirs(output_directory)`.\n",
    "\n",
    "13. The new filename is created by appending '_hourly' to the original filename, and the new file path is created by joining the `output_folder` and the new filename.\n",
    "\n",
    "14. Another `if` statement checks if the new file path already exists. If it does, it means that hourly data for that file already exists. In this case, the existing hourly data is read from the file using `pd.read_csv` with the '_id' column set as the index.\n",
    "\n",
    "15. The existing hourly data and the newly calculated hourly data are appended together using the `existing_hourly_data.append(hourly_data)` method.\n",
    "\n",
    "16. The combined hourly data is then sorted by the index ('_id') using the `combined_hourly_data.sort_index` method.\n",
    "\n",
    "17. Finally, the combined hourly data is saved to the new file path using the `combined_hourly_data.to_csv` method. If the new file path doesn't exist, indicating that hourly data for that file doesn't exist yet, the hourly data is simply saved to the new file path.\n"
   ]
  },
  {
   "cell_type": "code",
   "execution_count": null,
   "metadata": {},
   "outputs": [],
   "source": [
    "import pandas as pd\n",
    "import os\n",
    "\n",
    "# Root directory containing subdirectories\n",
    "root_directory = r'C:\\Users\\aksha\\Downloads\\data_eng_fin\\classification'\n",
    "\n",
    "# Function to process CSV files and create hourly data\n",
    "def process_csv(folder_path, output_folder):\n",
    "    for file_name in os.listdir(folder_path):\n",
    "        if file_name.endswith('.csv'):\n",
    "            file_path = os.path.join(folder_path, file_name)\n",
    "\n",
    "            # Read the CSV file into a Pandas DataFrame\n",
    "            data = pd.read_csv(file_path)\n",
    "\n",
    "            # Convert 'datetime' column to datetime format\n",
    "            data['datetime'] = pd.to_datetime(data['datetime'])\n",
    "\n",
    "            # Set '_id' as the DataFrame index (assuming it's a unique identifier)\n",
    "            data.set_index('_id', inplace=True)\n",
    "\n",
    "            # Resample the data by hour and calculate weighted average price and total volume\n",
    "            hourly_data = data.resample('H', on='datetime').apply(\n",
    "                lambda x: pd.Series({\n",
    "                    'weighted_avg_price': (x['v'] * x['vw']).sum() / x['v'].sum() if not x.empty else 0,\n",
    "                    'total_volume': x['v'].sum() if not x.empty else 0\n",
    "                })\n",
    "            )\n",
    "\n",
    "            # Rearrange columns to include 'volume' first\n",
    "            hourly_data = hourly_data[['total_volume', 'weighted_avg_price']]\n",
    "\n",
    "            # Get filename without extension\n",
    "            filename_without_extension, extension = os.path.splitext(file_name)\n",
    "            if not os.path.exists(output_directory):\n",
    "            # Create the hourly_data folder\n",
    "                 os.makedirs(output_directory)\n",
    "                 print(f\"Created {output_directory}\")\n",
    "\n",
    "            # New filename with '_hourly' added\n",
    "            new_filename = f\"{filename_without_extension}_hourly{extension}\"\n",
    "            new_file_path = os.path.join(output_folder, new_filename)\n",
    "            print(new_file_path)\n",
    "\n",
    "            # If hourly file already exists, append the data and sort by index (_id)\n",
    "            if os.path.exists(new_file_path):\n",
    "                existing_hourly_data = pd.read_csv(new_file_path, index_col='_id')\n",
    "                combined_hourly_data = existing_hourly_data.append(hourly_data)\n",
    "                combined_hourly_data.sort_index(inplace=True)\n",
    "                combined_hourly_data.to_csv(new_file_path)\n",
    "            else:\n",
    "                # Save the hourly data to a new CSV file\n",
    "                hourly_data.to_csv(new_file_path)\n",
    "\n",
    "# Iterate through subdirectories\n",
    "historical_fx_rates_folder = os.path.join(root_directory, 'historical_fx_rates')\n",
    "output_directory = os.path.join(root_directory, 'hourly_data')\n",
    "print(historical_fx_rates_folder)\n",
    "if os.path.exists(historical_fx_rates_folder):\n",
    "    print(f\"Processing {historical_fx_rates_folder}\")\n",
    "    process_csv(historical_fx_rates_folder, output_directory)\n"
   ]
  },
  {
   "cell_type": "code",
   "execution_count": null,
   "metadata": {},
   "outputs": [],
   "source": [
    "\n",
    "\"\"\"\n",
    "This script performs fractal dimension (FD) calculation and normalization on hourly data files.\n",
    "It reads each CSV file in the input directory, calculates the FD values for each 6-hour interval,\n",
    "and saves the original and normalized FD values into separate files.\n",
    "\n",
    "Parameters:\n",
    "    input_directory (str): The directory path where the input CSV files are located.\n",
    "    output_directory (str): The directory path where the output files will be saved.\n",
    "    new_folder_name (str): The name of the new folder to be created in the output directory.\n",
    "    \n",
    "Returns:\n",
    "    None\n",
    "\"\"\"\n",
    "\n",
    "import os\n",
    "import pandas as pd\n",
    "\n",
    "input_directory = r'C:/Users/aksha/Downloads/data_eng_fin/classification/hourly_data'\n",
    "output_directory = r'C:/Users/aksha/Downloads/data_eng_fin/classification/hourly_data/'\n",
    "\n",
    "# Create a new folder if it doesn't exist\n",
    "new_folder_name = 'fd_normalized'\n",
    "new_output_directory = os.path.join(output_directory, new_folder_name)\n",
    "if not os.path.exists(new_output_directory):\n",
    "    os.makedirs(new_output_directory)\n",
    "\n",
    "all_files = [os.path.join(input_directory, file) for file in os.listdir(input_directory) if file.endswith('.csv')]\n",
    "\n",
    "for file_path in all_files:\n",
    "    print(f'Operating on file: {file_path}')  # Print the operating file name\n",
    "    \n",
    "    df = pd.read_csv(file_path)\n",
    "    df['datetime'] = pd.to_datetime(df['datetime'])\n",
    "    \n",
    "    file_name = os.path.splitext(os.path.basename(file_path))[0]\n",
    "    \n",
    "    # Initialize variables to store the mean and volatility for the first 6-hour window\n",
    "    previous_mean_value = 0\n",
    "    previous_volatility = 0\n",
    "    \n",
    "    # Lists to store FD values for normalization\n",
    "    fd_values = []\n",
    "    \n",
    "    # Iterate through each 6-hour interval\n",
    "    for idx, interval_start in enumerate(pd.date_range(df['datetime'].min(), df['datetime'].max(), freq='6H')):\n",
    "        if idx == 0:\n",
    "            # For the first 6-hour window, don't calculate FD\n",
    "            continue\n",
    "        \n",
    "        interval_end = interval_start + pd.Timedelta(hours=6)\n",
    "        interval_data = df[(df['datetime'] >= interval_start) & (df['datetime'] < interval_end)]\n",
    "        \n",
    "        # Perform calculations for the 6-hour interval using previous mean and volatility\n",
    "        mean_value = previous_mean_value\n",
    "        volatility = previous_volatility\n",
    "        \n",
    "        if len(interval_data) > 0:\n",
    "            mean_value = interval_data['weighted_avg_price'].mean()\n",
    "            max_price = interval_data['weighted_avg_price'].max()\n",
    "            min_price = interval_data['weighted_avg_price'].min()\n",
    "            \n",
    "            # Avoid division by zero by checking if mean_value is not zero\n",
    "            if mean_value != 0:\n",
    "                volatility = (max_price - min_price) / mean_value\n",
    "            else:\n",
    "                volatility = 0  # Set volatility to 0 if mean_value is 0 to avoid division by zero\n",
    "        \n",
    "        max_min_diff = max_price - min_price if len(interval_data) > 0 else 0\n",
    "\n",
    "        daily_crossings = 0\n",
    "        for _, row in interval_data.iterrows():\n",
    "            crossings = sum(((row['weighted_avg_price'] > mean_value + n * 0.025 * volatility) | (row['weighted_avg_price'] < mean_value - n * 0.025 * volatility)) for n in range(1, 101))\n",
    "            daily_crossings += crossings\n",
    "\n",
    "        fd = daily_crossings / max_min_diff if max_min_diff != 0 else 0\n",
    "        fd_values.append(fd)\n",
    "        \n",
    "        # Update previous_mean_value and previous_volatility for the next iteration\n",
    "        previous_mean_value = mean_value\n",
    "        previous_volatility = volatility\n",
    "    \n",
    "    # Normalize FD values from 0 to 1\n",
    "    min_fd = min(fd_values)\n",
    "    max_fd = max(fd_values)\n",
    "    normalized_fd_values = [(x - min_fd) / (max_fd - min_fd) for x in fd_values]\n",
    "    \n",
    "    # Create a DataFrame with original and normalized FD values for each 6-hour interval\n",
    "    intervals = pd.date_range(df['datetime'].min() + pd.Timedelta(hours=6), df['datetime'].max(), freq='6H')\n",
    "    fd_data = pd.DataFrame({'Interval_Start': intervals, 'Currency': [file_name] * len(intervals), 'FD_Original': fd_values, 'FD_Normalized': normalized_fd_values})\n",
    "    \n",
    "    # Save each currency's FD data into a separate file\n",
    "    normalized_output_filename = os.path.join(new_output_directory, f'{file_name}_fractal_dimension_normalized.csv')\n",
    "    fd_data.to_csv(normalized_output_filename, mode='a', header=not os.path.exists(normalized_output_filename), index=False)\n"
   ]
  },
  {
   "cell_type": "code",
   "execution_count": 1,
   "metadata": {},
   "outputs": [
    {
     "name": "stdout",
     "output_type": "stream",
     "text": [
      "Operating on file: C:/Users/aksha/Downloads/data_eng_fin/classification/hourly_data\\AUDCAD_hourly.csv\n",
      "Operating on file: C:/Users/aksha/Downloads/data_eng_fin/classification/hourly_data\\AUDCHF_hourly.csv\n",
      "Operating on file: C:/Users/aksha/Downloads/data_eng_fin/classification/hourly_data\\AUDHKD_hourly.csv\n",
      "Operating on file: C:/Users/aksha/Downloads/data_eng_fin/classification/hourly_data\\AUDJPY_hourly.csv\n",
      "Operating on file: C:/Users/aksha/Downloads/data_eng_fin/classification/hourly_data\\AUDNZD_hourly.csv\n",
      "Operating on file: C:/Users/aksha/Downloads/data_eng_fin/classification/hourly_data\\AUDSGD_hourly.csv\n",
      "Operating on file: C:/Users/aksha/Downloads/data_eng_fin/classification/hourly_data\\CADCHF_hourly.csv\n",
      "Operating on file: C:/Users/aksha/Downloads/data_eng_fin/classification/hourly_data\\CADHKD_hourly.csv\n",
      "Operating on file: C:/Users/aksha/Downloads/data_eng_fin/classification/hourly_data\\CADJPY_hourly.csv\n",
      "Operating on file: C:/Users/aksha/Downloads/data_eng_fin/classification/hourly_data\\CADSGD_hourly.csv\n",
      "Operating on file: C:/Users/aksha/Downloads/data_eng_fin/classification/hourly_data\\CHFHKD_hourly.csv\n",
      "Operating on file: C:/Users/aksha/Downloads/data_eng_fin/classification/hourly_data\\CHFJPY_hourly.csv\n",
      "Operating on file: C:/Users/aksha/Downloads/data_eng_fin/classification/hourly_data\\CHFZAR_hourly.csv\n",
      "Operating on file: C:/Users/aksha/Downloads/data_eng_fin/classification/hourly_data\\EURAUD_hourly.csv\n",
      "Operating on file: C:/Users/aksha/Downloads/data_eng_fin/classification/hourly_data\\EURCAD_hourly.csv\n",
      "Operating on file: C:/Users/aksha/Downloads/data_eng_fin/classification/hourly_data\\EURCHF_hourly.csv\n",
      "Operating on file: C:/Users/aksha/Downloads/data_eng_fin/classification/hourly_data\\EURCZK_hourly.csv\n",
      "Operating on file: C:/Users/aksha/Downloads/data_eng_fin/classification/hourly_data\\EURDKK_hourly.csv\n",
      "Operating on file: C:/Users/aksha/Downloads/data_eng_fin/classification/hourly_data\\EURGBP_hourly.csv\n",
      "Operating on file: C:/Users/aksha/Downloads/data_eng_fin/classification/hourly_data\\EURHKD_hourly.csv\n",
      "Operating on file: C:/Users/aksha/Downloads/data_eng_fin/classification/hourly_data\\EURHUF_hourly.csv\n",
      "Operating on file: C:/Users/aksha/Downloads/data_eng_fin/classification/hourly_data\\EURJPY_hourly.csv\n",
      "Operating on file: C:/Users/aksha/Downloads/data_eng_fin/classification/hourly_data\\EURNOK_hourly.csv\n",
      "Operating on file: C:/Users/aksha/Downloads/data_eng_fin/classification/hourly_data\\EURPLN_hourly.csv\n",
      "Operating on file: C:/Users/aksha/Downloads/data_eng_fin/classification/hourly_data\\EURSEK_hourly.csv\n",
      "Operating on file: C:/Users/aksha/Downloads/data_eng_fin/classification/hourly_data\\EURTRY_hourly.csv\n",
      "Operating on file: C:/Users/aksha/Downloads/data_eng_fin/classification/hourly_data\\EURUSD_hourly.csv\n",
      "Operating on file: C:/Users/aksha/Downloads/data_eng_fin/classification/hourly_data\\EURZAR_hourly.csv\n",
      "Operating on file: C:/Users/aksha/Downloads/data_eng_fin/classification/hourly_data\\GBPAUD_hourly.csv\n",
      "Operating on file: C:/Users/aksha/Downloads/data_eng_fin/classification/hourly_data\\GBPCAD_hourly.csv\n",
      "Operating on file: C:/Users/aksha/Downloads/data_eng_fin/classification/hourly_data\\GBPCHF_hourly.csv\n",
      "Operating on file: C:/Users/aksha/Downloads/data_eng_fin/classification/hourly_data\\GBPHKD_hourly.csv\n",
      "Operating on file: C:/Users/aksha/Downloads/data_eng_fin/classification/hourly_data\\GBPJPY_hourly.csv\n",
      "Operating on file: C:/Users/aksha/Downloads/data_eng_fin/classification/hourly_data\\GBPNZD_hourly.csv\n",
      "Operating on file: C:/Users/aksha/Downloads/data_eng_fin/classification/hourly_data\\GBPPLN_hourly.csv\n",
      "Operating on file: C:/Users/aksha/Downloads/data_eng_fin/classification/hourly_data\\GBPUSD_hourly.csv\n",
      "Operating on file: C:/Users/aksha/Downloads/data_eng_fin/classification/hourly_data\\HKDJPY_hourly.csv\n",
      "Operating on file: C:/Users/aksha/Downloads/data_eng_fin/classification/hourly_data\\NZDCAD_hourly.csv\n",
      "Operating on file: C:/Users/aksha/Downloads/data_eng_fin/classification/hourly_data\\NZDCHF_hourly.csv\n",
      "Operating on file: C:/Users/aksha/Downloads/data_eng_fin/classification/hourly_data\\NZDHKD_hourly.csv\n",
      "Operating on file: C:/Users/aksha/Downloads/data_eng_fin/classification/hourly_data\\NZDJPY_hourly.csv\n",
      "Operating on file: C:/Users/aksha/Downloads/data_eng_fin/classification/hourly_data\\NZDSGD_hourly.csv\n",
      "Operating on file: C:/Users/aksha/Downloads/data_eng_fin/classification/hourly_data\\NZDUSD_hourly.csv\n",
      "Operating on file: C:/Users/aksha/Downloads/data_eng_fin/classification/hourly_data\\SGDCHF_hourly.csv\n",
      "Operating on file: C:/Users/aksha/Downloads/data_eng_fin/classification/hourly_data\\SGDJPY_hourly.csv\n",
      "Operating on file: C:/Users/aksha/Downloads/data_eng_fin/classification/hourly_data\\USDBRL_hourly.csv\n",
      "Operating on file: C:/Users/aksha/Downloads/data_eng_fin/classification/hourly_data\\USDCHF_hourly.csv\n",
      "Operating on file: C:/Users/aksha/Downloads/data_eng_fin/classification/hourly_data\\USDCNY_hourly.csv\n",
      "Operating on file: C:/Users/aksha/Downloads/data_eng_fin/classification/hourly_data\\USDCZK_hourly.csv\n",
      "Operating on file: C:/Users/aksha/Downloads/data_eng_fin/classification/hourly_data\\USDDKK_hourly.csv\n",
      "Operating on file: C:/Users/aksha/Downloads/data_eng_fin/classification/hourly_data\\USDHKD_hourly.csv\n",
      "Operating on file: C:/Users/aksha/Downloads/data_eng_fin/classification/hourly_data\\USDHUF_hourly.csv\n",
      "Operating on file: C:/Users/aksha/Downloads/data_eng_fin/classification/hourly_data\\USDJPY_hourly.csv\n",
      "Operating on file: C:/Users/aksha/Downloads/data_eng_fin/classification/hourly_data\\USDMXN_hourly.csv\n",
      "Operating on file: C:/Users/aksha/Downloads/data_eng_fin/classification/hourly_data\\USDNOK_hourly.csv\n",
      "Operating on file: C:/Users/aksha/Downloads/data_eng_fin/classification/hourly_data\\USDPLN_hourly.csv\n",
      "Operating on file: C:/Users/aksha/Downloads/data_eng_fin/classification/hourly_data\\USDSEK_hourly.csv\n",
      "Operating on file: C:/Users/aksha/Downloads/data_eng_fin/classification/hourly_data\\USDSGD_hourly.csv\n",
      "Operating on file: C:/Users/aksha/Downloads/data_eng_fin/classification/hourly_data\\USDTHB_hourly.csv\n",
      "Operating on file: C:/Users/aksha/Downloads/data_eng_fin/classification/hourly_data\\USDTRY_hourly.csv\n",
      "Operating on file: C:/Users/aksha/Downloads/data_eng_fin/classification/hourly_data\\USDZAR_hourly.csv\n",
      "Operating on file: C:/Users/aksha/Downloads/data_eng_fin/classification/hourly_data\\ZARJPY_hourly.csv\n"
     ]
    }
   ],
   "source": [
    "\"\"\"\n",
    "This code calculates the Fractal Dimension (FD) for each currency in a given directory of hourly data.\n",
    "The FD is calculated based on the weighted average price of each currency over 6-hour intervals.\n",
    "The code reads each CSV file in the input directory, performs calculations for each interval, and saves the FD data into separate files.\n",
    "\n",
    "Parameters:\n",
    "- input_directory: The directory path where the input CSV files are located.\n",
    "- output_directory: The directory path where the output FD files will be saved.\n",
    "- new_folder_name: The name of the new folder to be created within the output directory.\n",
    "- n: The number of standard deviations used to determine the upper and lower thresholds for crossings.\n",
    "\n",
    "Returns:\n",
    "- None\n",
    "\n",
    "\"\"\"\n",
    "\n",
    "import os\n",
    "import pandas as pd\n",
    "input_directory = r'C:/Users/aksha/Downloads/data_eng_fin/classification/hourly_data'\n",
    "output_directory = r'C:/Users/aksha/Downloads/data_eng_fin/classification/hourly_data/fd'\n",
    "\n",
    "# Create a new folder if it doesn't exist\n",
    "new_folder_name = 'weighted_avg_output_folder'\n",
    "new_output_directory = os.path.join(output_directory, new_folder_name)\n",
    "if not os.path.exists(new_output_directory):\n",
    "    os.makedirs(new_output_directory)\n",
    "\n",
    "all_files = [os.path.join(input_directory, file) for file in os.listdir(input_directory) if file.endswith('.csv')]\n",
    "\n",
    "for file_path in all_files:\n",
    "    print(f'Operating on file: {file_path}')  # Print the operating file name\n",
    "    \n",
    "    df = pd.read_csv(file_path)\n",
    "    df['datetime'] = pd.to_datetime(df['datetime'])\n",
    "    \n",
    "    file_name = os.path.splitext(os.path.basename(file_path))[0]\n",
    "    \n",
    "    # Initialize variables to store the mean and volatility for the first 6-hour window\n",
    "    previous_mean_value = 0\n",
    "    previous_volatility = 0\n",
    "    \n",
    "    # Lists to store FD values for normalization\n",
    "    fd_values = []\n",
    "    min_prices = []\n",
    "    max_prices = []\n",
    "    volatilities = []\n",
    "    vwap_values = []\n",
    "    \n",
    "    # Iterate through each 6-hour interval\n",
    "    for idx, interval_start in enumerate(pd.date_range(df['datetime'].min(), df['datetime'].max(), freq='6H')):\n",
    "        if idx == 0:\n",
    "            # For the first 6-hour window, don't calculate FD\n",
    "            continue\n",
    "        \n",
    "        interval_end = interval_start + pd.Timedelta(hours=6)\n",
    "        interval_data = df[(df['datetime'] >= interval_start) & (df['datetime'] < interval_end)]\n",
    "        \n",
    "        # Perform calculations for the 6-hour interval using previous mean and volatility\n",
    "        mean_value = previous_mean_value\n",
    "        volatility = previous_volatility\n",
    "        vwap = 0\n",
    "        \n",
    "        if len(interval_data) > 0:\n",
    "            mean_value = interval_data['weighted_avg_price'].mean()\n",
    "            max_price = interval_data['weighted_avg_price'].max()\n",
    "            min_price = interval_data['weighted_avg_price'].min()\n",
    "            \n",
    "            # Calculate VWAP\n",
    "            if interval_data['total_volume'].sum() != 0:  # Ensure denominator is not zero\n",
    "                vwap = (interval_data['weighted_avg_price'] * interval_data['total_volume']).sum() / interval_data['total_volume'].sum()\n",
    "            else:\n",
    "                vwap = 0  # Set VWAP to 0 if the sum of total_volume is zero\n",
    "            \n",
    "            if mean_value != 0:  # Avoid division by zero for volatility calculation\n",
    "                volatility = (max_price - min_price) / mean_value\n",
    "            else:\n",
    "                volatility = 0  # Set volatility to 0 if mean_value is 0 to avoid division by zero\n",
    "        \n",
    "        max_min_diff = max_price - min_price if len(interval_data) > 0 else 0\n",
    "\n",
    "        daily_crossings = 0\n",
    "        for _, row in interval_data.iterrows():\n",
    "            crossings = sum(((row['weighted_avg_price'] > mean_value + n * 0.025 * volatility) | (row['weighted_avg_price'] < mean_value - n * 0.025 * volatility)) for n in range(1, 101))\n",
    "            daily_crossings += crossings\n",
    "\n",
    "        fd = daily_crossings / max_min_diff if max_min_diff != 0 else 0\n",
    "        fd_values.append(fd)\n",
    "        min_prices.append(min_price)\n",
    "        max_prices.append(max_price)\n",
    "        volatilities.append(volatility)\n",
    "        vwap_values.append(vwap)\n",
    "        \n",
    "        # Update previous_mean_value and previous_volatility for the next iteration\n",
    "        previous_mean_value = mean_value\n",
    "        previous_volatility = volatility\n",
    "    \n",
    "    # Normalize FD values from 0 to 1\n",
    "    min_fd = min(fd_values)\n",
    "    max_fd = max(fd_values)\n",
    "    normalized_fd_values = [(x - min_fd) / (max_fd - min_fd) for x in fd_values]\n",
    "    \n",
    "    # Create a DataFrame with original and normalized FD values, along with additional stats\n",
    "    intervals = pd.date_range(df['datetime'].min() + pd.Timedelta(hours=6), df['datetime'].max(), freq='6H')\n",
    "    fd_data = pd.DataFrame({'Interval_Start': intervals, 'FD_Original': fd_values, 'FD_Normalized': normalized_fd_values,\n",
    "                            'Min_Weighted_Avg_Price': min_prices, 'Max_Weighted_Avg_Price': max_prices, \n",
    "                            'Volatility': volatilities, 'VWAP': vwap_values, 'Currency': [file_name] * len(intervals)})\n",
    "    \n",
    "    # Save each currency's FD data into a separate file\n",
    "    normalized_output_filename = os.path.join(new_output_directory, f'{file_name}_fractal_dimension_normalized_weight.csv')\n",
    "    fd_data.to_csv(normalized_output_filename, mode='a', header=not os.path.exists(normalized_output_filename), index=False)\n"
   ]
  },
  {
   "cell_type": "code",
   "execution_count": 2,
   "metadata": {},
   "outputs": [
    {
     "data": {
      "text/html": [
       "<style type=\"text/css\">\n",
       "#T_99ee7_row9_col1 {\n",
       "  background-color: lightgreen;\n",
       "}\n",
       "</style>\n",
       "<table id=\"T_99ee7\">\n",
       "  <thead>\n",
       "    <tr>\n",
       "      <th class=\"blank level0\" >&nbsp;</th>\n",
       "      <th id=\"T_99ee7_level0_col0\" class=\"col_heading level0 col0\" >Description</th>\n",
       "      <th id=\"T_99ee7_level0_col1\" class=\"col_heading level0 col1\" >Value</th>\n",
       "    </tr>\n",
       "  </thead>\n",
       "  <tbody>\n",
       "    <tr>\n",
       "      <th id=\"T_99ee7_level0_row0\" class=\"row_heading level0 row0\" >0</th>\n",
       "      <td id=\"T_99ee7_row0_col0\" class=\"data row0 col0\" >Session id</td>\n",
       "      <td id=\"T_99ee7_row0_col1\" class=\"data row0 col1\" >2912</td>\n",
       "    </tr>\n",
       "    <tr>\n",
       "      <th id=\"T_99ee7_level0_row1\" class=\"row_heading level0 row1\" >1</th>\n",
       "      <td id=\"T_99ee7_row1_col0\" class=\"data row1 col0\" >Target</td>\n",
       "      <td id=\"T_99ee7_row1_col1\" class=\"data row1 col1\" >VWAP</td>\n",
       "    </tr>\n",
       "    <tr>\n",
       "      <th id=\"T_99ee7_level0_row2\" class=\"row_heading level0 row2\" >2</th>\n",
       "      <td id=\"T_99ee7_row2_col0\" class=\"data row2 col0\" >Target type</td>\n",
       "      <td id=\"T_99ee7_row2_col1\" class=\"data row2 col1\" >Regression</td>\n",
       "    </tr>\n",
       "    <tr>\n",
       "      <th id=\"T_99ee7_level0_row3\" class=\"row_heading level0 row3\" >3</th>\n",
       "      <td id=\"T_99ee7_row3_col0\" class=\"data row3 col0\" >Original data shape</td>\n",
       "      <td id=\"T_99ee7_row3_col1\" class=\"data row3 col1\" >(774705, 8)</td>\n",
       "    </tr>\n",
       "    <tr>\n",
       "      <th id=\"T_99ee7_level0_row4\" class=\"row_heading level0 row4\" >4</th>\n",
       "      <td id=\"T_99ee7_row4_col0\" class=\"data row4 col0\" >Transformed data shape</td>\n",
       "      <td id=\"T_99ee7_row4_col1\" class=\"data row4 col1\" >(774705, 8)</td>\n",
       "    </tr>\n",
       "    <tr>\n",
       "      <th id=\"T_99ee7_level0_row5\" class=\"row_heading level0 row5\" >5</th>\n",
       "      <td id=\"T_99ee7_row5_col0\" class=\"data row5 col0\" >Transformed train set shape</td>\n",
       "      <td id=\"T_99ee7_row5_col1\" class=\"data row5 col1\" >(542293, 8)</td>\n",
       "    </tr>\n",
       "    <tr>\n",
       "      <th id=\"T_99ee7_level0_row6\" class=\"row_heading level0 row6\" >6</th>\n",
       "      <td id=\"T_99ee7_row6_col0\" class=\"data row6 col0\" >Transformed test set shape</td>\n",
       "      <td id=\"T_99ee7_row6_col1\" class=\"data row6 col1\" >(232412, 8)</td>\n",
       "    </tr>\n",
       "    <tr>\n",
       "      <th id=\"T_99ee7_level0_row7\" class=\"row_heading level0 row7\" >7</th>\n",
       "      <td id=\"T_99ee7_row7_col0\" class=\"data row7 col0\" >Numeric features</td>\n",
       "      <td id=\"T_99ee7_row7_col1\" class=\"data row7 col1\" >5</td>\n",
       "    </tr>\n",
       "    <tr>\n",
       "      <th id=\"T_99ee7_level0_row8\" class=\"row_heading level0 row8\" >8</th>\n",
       "      <td id=\"T_99ee7_row8_col0\" class=\"data row8 col0\" >Categorical features</td>\n",
       "      <td id=\"T_99ee7_row8_col1\" class=\"data row8 col1\" >2</td>\n",
       "    </tr>\n",
       "    <tr>\n",
       "      <th id=\"T_99ee7_level0_row9\" class=\"row_heading level0 row9\" >9</th>\n",
       "      <td id=\"T_99ee7_row9_col0\" class=\"data row9 col0\" >Preprocess</td>\n",
       "      <td id=\"T_99ee7_row9_col1\" class=\"data row9 col1\" >True</td>\n",
       "    </tr>\n",
       "    <tr>\n",
       "      <th id=\"T_99ee7_level0_row10\" class=\"row_heading level0 row10\" >10</th>\n",
       "      <td id=\"T_99ee7_row10_col0\" class=\"data row10 col0\" >Imputation type</td>\n",
       "      <td id=\"T_99ee7_row10_col1\" class=\"data row10 col1\" >simple</td>\n",
       "    </tr>\n",
       "    <tr>\n",
       "      <th id=\"T_99ee7_level0_row11\" class=\"row_heading level0 row11\" >11</th>\n",
       "      <td id=\"T_99ee7_row11_col0\" class=\"data row11 col0\" >Numeric imputation</td>\n",
       "      <td id=\"T_99ee7_row11_col1\" class=\"data row11 col1\" >mean</td>\n",
       "    </tr>\n",
       "    <tr>\n",
       "      <th id=\"T_99ee7_level0_row12\" class=\"row_heading level0 row12\" >12</th>\n",
       "      <td id=\"T_99ee7_row12_col0\" class=\"data row12 col0\" >Categorical imputation</td>\n",
       "      <td id=\"T_99ee7_row12_col1\" class=\"data row12 col1\" >mode</td>\n",
       "    </tr>\n",
       "    <tr>\n",
       "      <th id=\"T_99ee7_level0_row13\" class=\"row_heading level0 row13\" >13</th>\n",
       "      <td id=\"T_99ee7_row13_col0\" class=\"data row13 col0\" >Maximum one-hot encoding</td>\n",
       "      <td id=\"T_99ee7_row13_col1\" class=\"data row13 col1\" >25</td>\n",
       "    </tr>\n",
       "    <tr>\n",
       "      <th id=\"T_99ee7_level0_row14\" class=\"row_heading level0 row14\" >14</th>\n",
       "      <td id=\"T_99ee7_row14_col0\" class=\"data row14 col0\" >Encoding method</td>\n",
       "      <td id=\"T_99ee7_row14_col1\" class=\"data row14 col1\" >None</td>\n",
       "    </tr>\n",
       "    <tr>\n",
       "      <th id=\"T_99ee7_level0_row15\" class=\"row_heading level0 row15\" >15</th>\n",
       "      <td id=\"T_99ee7_row15_col0\" class=\"data row15 col0\" >Fold Generator</td>\n",
       "      <td id=\"T_99ee7_row15_col1\" class=\"data row15 col1\" >KFold</td>\n",
       "    </tr>\n",
       "    <tr>\n",
       "      <th id=\"T_99ee7_level0_row16\" class=\"row_heading level0 row16\" >16</th>\n",
       "      <td id=\"T_99ee7_row16_col0\" class=\"data row16 col0\" >Fold Number</td>\n",
       "      <td id=\"T_99ee7_row16_col1\" class=\"data row16 col1\" >10</td>\n",
       "    </tr>\n",
       "    <tr>\n",
       "      <th id=\"T_99ee7_level0_row17\" class=\"row_heading level0 row17\" >17</th>\n",
       "      <td id=\"T_99ee7_row17_col0\" class=\"data row17 col0\" >CPU Jobs</td>\n",
       "      <td id=\"T_99ee7_row17_col1\" class=\"data row17 col1\" >-1</td>\n",
       "    </tr>\n",
       "    <tr>\n",
       "      <th id=\"T_99ee7_level0_row18\" class=\"row_heading level0 row18\" >18</th>\n",
       "      <td id=\"T_99ee7_row18_col0\" class=\"data row18 col0\" >Use GPU</td>\n",
       "      <td id=\"T_99ee7_row18_col1\" class=\"data row18 col1\" >False</td>\n",
       "    </tr>\n",
       "    <tr>\n",
       "      <th id=\"T_99ee7_level0_row19\" class=\"row_heading level0 row19\" >19</th>\n",
       "      <td id=\"T_99ee7_row19_col0\" class=\"data row19 col0\" >Log Experiment</td>\n",
       "      <td id=\"T_99ee7_row19_col1\" class=\"data row19 col1\" >False</td>\n",
       "    </tr>\n",
       "    <tr>\n",
       "      <th id=\"T_99ee7_level0_row20\" class=\"row_heading level0 row20\" >20</th>\n",
       "      <td id=\"T_99ee7_row20_col0\" class=\"data row20 col0\" >Experiment Name</td>\n",
       "      <td id=\"T_99ee7_row20_col1\" class=\"data row20 col1\" >reg-default-name</td>\n",
       "    </tr>\n",
       "    <tr>\n",
       "      <th id=\"T_99ee7_level0_row21\" class=\"row_heading level0 row21\" >21</th>\n",
       "      <td id=\"T_99ee7_row21_col0\" class=\"data row21 col0\" >USI</td>\n",
       "      <td id=\"T_99ee7_row21_col1\" class=\"data row21 col1\" >7ade</td>\n",
       "    </tr>\n",
       "  </tbody>\n",
       "</table>\n"
      ],
      "text/plain": [
       "<pandas.io.formats.style.Styler at 0x207a4e66cd0>"
      ]
     },
     "metadata": {},
     "output_type": "display_data"
    },
    {
     "data": {
      "text/html": [],
      "text/plain": [
       "<IPython.core.display.HTML object>"
      ]
     },
     "metadata": {},
     "output_type": "display_data"
    },
    {
     "data": {
      "text/html": [
       "<style type=\"text/css\">\n",
       "#T_138b0 th {\n",
       "  text-align: left;\n",
       "}\n",
       "#T_138b0_row0_col0, #T_138b0_row0_col1, #T_138b0_row0_col5, #T_138b0_row0_col6, #T_138b0_row1_col0, #T_138b0_row1_col1, #T_138b0_row1_col2, #T_138b0_row1_col3, #T_138b0_row1_col5, #T_138b0_row1_col6, #T_138b0_row2_col0, #T_138b0_row2_col1, #T_138b0_row2_col2, #T_138b0_row2_col5, #T_138b0_row2_col6, #T_138b0_row3_col0, #T_138b0_row3_col1, #T_138b0_row3_col2, #T_138b0_row3_col3, #T_138b0_row3_col4, #T_138b0_row3_col5, #T_138b0_row3_col6, #T_138b0_row4_col0, #T_138b0_row4_col1, #T_138b0_row4_col2, #T_138b0_row4_col3, #T_138b0_row4_col4, #T_138b0_row4_col5, #T_138b0_row4_col6, #T_138b0_row5_col0, #T_138b0_row5_col1, #T_138b0_row5_col2, #T_138b0_row5_col3, #T_138b0_row5_col4, #T_138b0_row5_col5, #T_138b0_row5_col6, #T_138b0_row6_col0, #T_138b0_row6_col1, #T_138b0_row6_col2, #T_138b0_row6_col3, #T_138b0_row6_col4, #T_138b0_row6_col5, #T_138b0_row6_col6, #T_138b0_row7_col0, #T_138b0_row7_col2, #T_138b0_row7_col3, #T_138b0_row7_col4, #T_138b0_row7_col6, #T_138b0_row8_col0, #T_138b0_row8_col1, #T_138b0_row8_col2, #T_138b0_row8_col3, #T_138b0_row8_col4, #T_138b0_row8_col5, #T_138b0_row8_col6, #T_138b0_row9_col0, #T_138b0_row9_col1, #T_138b0_row9_col2, #T_138b0_row9_col3, #T_138b0_row9_col4, #T_138b0_row9_col5, #T_138b0_row10_col0, #T_138b0_row10_col1, #T_138b0_row10_col2, #T_138b0_row10_col3, #T_138b0_row10_col4, #T_138b0_row10_col5, #T_138b0_row10_col6, #T_138b0_row11_col0, #T_138b0_row11_col1, #T_138b0_row11_col2, #T_138b0_row11_col3, #T_138b0_row11_col4, #T_138b0_row11_col5, #T_138b0_row11_col6, #T_138b0_row12_col0, #T_138b0_row12_col1, #T_138b0_row12_col2, #T_138b0_row12_col3, #T_138b0_row12_col4, #T_138b0_row12_col5, #T_138b0_row12_col6, #T_138b0_row13_col0, #T_138b0_row13_col1, #T_138b0_row13_col2, #T_138b0_row13_col3, #T_138b0_row13_col4, #T_138b0_row13_col5, #T_138b0_row13_col6, #T_138b0_row14_col0, #T_138b0_row14_col1, #T_138b0_row14_col2, #T_138b0_row14_col3, #T_138b0_row14_col4, #T_138b0_row14_col5, #T_138b0_row14_col6, #T_138b0_row15_col0, #T_138b0_row15_col1, #T_138b0_row15_col2, #T_138b0_row15_col3, #T_138b0_row15_col4, #T_138b0_row15_col5, #T_138b0_row15_col6 {\n",
       "  text-align: left;\n",
       "}\n",
       "#T_138b0_row0_col2, #T_138b0_row0_col3, #T_138b0_row0_col4, #T_138b0_row1_col4, #T_138b0_row2_col3, #T_138b0_row2_col4, #T_138b0_row7_col1, #T_138b0_row7_col5, #T_138b0_row9_col6 {\n",
       "  text-align: left;\n",
       "  background-color: yellow;\n",
       "}\n",
       "#T_138b0_row0_col7, #T_138b0_row1_col7, #T_138b0_row2_col7, #T_138b0_row3_col7, #T_138b0_row4_col7, #T_138b0_row5_col7, #T_138b0_row6_col7, #T_138b0_row7_col7, #T_138b0_row8_col7, #T_138b0_row9_col7, #T_138b0_row10_col7, #T_138b0_row11_col7, #T_138b0_row12_col7, #T_138b0_row13_col7, #T_138b0_row15_col7 {\n",
       "  text-align: left;\n",
       "  background-color: lightgrey;\n",
       "}\n",
       "#T_138b0_row14_col7 {\n",
       "  text-align: left;\n",
       "  background-color: yellow;\n",
       "  background-color: lightgrey;\n",
       "}\n",
       "</style>\n",
       "<table id=\"T_138b0\">\n",
       "  <thead>\n",
       "    <tr>\n",
       "      <th class=\"blank level0\" >&nbsp;</th>\n",
       "      <th id=\"T_138b0_level0_col0\" class=\"col_heading level0 col0\" >Model</th>\n",
       "      <th id=\"T_138b0_level0_col1\" class=\"col_heading level0 col1\" >MAE</th>\n",
       "      <th id=\"T_138b0_level0_col2\" class=\"col_heading level0 col2\" >MSE</th>\n",
       "      <th id=\"T_138b0_level0_col3\" class=\"col_heading level0 col3\" >RMSE</th>\n",
       "      <th id=\"T_138b0_level0_col4\" class=\"col_heading level0 col4\" >R2</th>\n",
       "      <th id=\"T_138b0_level0_col5\" class=\"col_heading level0 col5\" >RMSLE</th>\n",
       "      <th id=\"T_138b0_level0_col6\" class=\"col_heading level0 col6\" >MAPE</th>\n",
       "      <th id=\"T_138b0_level0_col7\" class=\"col_heading level0 col7\" >TT (Sec)</th>\n",
       "    </tr>\n",
       "  </thead>\n",
       "  <tbody>\n",
       "    <tr>\n",
       "      <th id=\"T_138b0_level0_row0\" class=\"row_heading level0 row0\" >ridge</th>\n",
       "      <td id=\"T_138b0_row0_col0\" class=\"data row0 col0\" >Ridge Regression</td>\n",
       "      <td id=\"T_138b0_row0_col1\" class=\"data row0 col1\" >2.5582</td>\n",
       "      <td id=\"T_138b0_row0_col2\" class=\"data row0 col2\" >951.6786</td>\n",
       "      <td id=\"T_138b0_row0_col3\" class=\"data row0 col3\" >18.0832</td>\n",
       "      <td id=\"T_138b0_row0_col4\" class=\"data row0 col4\" >0.9869</td>\n",
       "      <td id=\"T_138b0_row0_col5\" class=\"data row0 col5\" >0.3633</td>\n",
       "      <td id=\"T_138b0_row0_col6\" class=\"data row0 col6\" >0.5173</td>\n",
       "      <td id=\"T_138b0_row0_col7\" class=\"data row0 col7\" >0.8530</td>\n",
       "    </tr>\n",
       "    <tr>\n",
       "      <th id=\"T_138b0_level0_row1\" class=\"row_heading level0 row1\" >lar</th>\n",
       "      <td id=\"T_138b0_row1_col0\" class=\"data row1 col0\" >Least Angle Regression</td>\n",
       "      <td id=\"T_138b0_row1_col1\" class=\"data row1 col1\" >2.5590</td>\n",
       "      <td id=\"T_138b0_row1_col2\" class=\"data row1 col2\" >951.7940</td>\n",
       "      <td id=\"T_138b0_row1_col3\" class=\"data row1 col3\" >18.0838</td>\n",
       "      <td id=\"T_138b0_row1_col4\" class=\"data row1 col4\" >0.9869</td>\n",
       "      <td id=\"T_138b0_row1_col5\" class=\"data row1 col5\" >0.3635</td>\n",
       "      <td id=\"T_138b0_row1_col6\" class=\"data row1 col6\" >0.5178</td>\n",
       "      <td id=\"T_138b0_row1_col7\" class=\"data row1 col7\" >0.8230</td>\n",
       "    </tr>\n",
       "    <tr>\n",
       "      <th id=\"T_138b0_level0_row2\" class=\"row_heading level0 row2\" >br</th>\n",
       "      <td id=\"T_138b0_row2_col0\" class=\"data row2 col0\" >Bayesian Ridge</td>\n",
       "      <td id=\"T_138b0_row2_col1\" class=\"data row2 col1\" >2.5572</td>\n",
       "      <td id=\"T_138b0_row2_col2\" class=\"data row2 col2\" >951.6811</td>\n",
       "      <td id=\"T_138b0_row2_col3\" class=\"data row2 col3\" >18.0832</td>\n",
       "      <td id=\"T_138b0_row2_col4\" class=\"data row2 col4\" >0.9869</td>\n",
       "      <td id=\"T_138b0_row2_col5\" class=\"data row2 col5\" >0.3630</td>\n",
       "      <td id=\"T_138b0_row2_col6\" class=\"data row2 col6\" >0.5172</td>\n",
       "      <td id=\"T_138b0_row2_col7\" class=\"data row2 col7\" >0.8880</td>\n",
       "    </tr>\n",
       "    <tr>\n",
       "      <th id=\"T_138b0_level0_row3\" class=\"row_heading level0 row3\" >en</th>\n",
       "      <td id=\"T_138b0_row3_col0\" class=\"data row3 col0\" >Elastic Net</td>\n",
       "      <td id=\"T_138b0_row3_col1\" class=\"data row3 col1\" >2.4300</td>\n",
       "      <td id=\"T_138b0_row3_col2\" class=\"data row3 col2\" >955.4896</td>\n",
       "      <td id=\"T_138b0_row3_col3\" class=\"data row3 col3\" >18.1367</td>\n",
       "      <td id=\"T_138b0_row3_col4\" class=\"data row3 col4\" >0.9868</td>\n",
       "      <td id=\"T_138b0_row3_col5\" class=\"data row3 col5\" >0.3176</td>\n",
       "      <td id=\"T_138b0_row3_col6\" class=\"data row3 col6\" >0.4238</td>\n",
       "      <td id=\"T_138b0_row3_col7\" class=\"data row3 col7\" >5.0970</td>\n",
       "    </tr>\n",
       "    <tr>\n",
       "      <th id=\"T_138b0_level0_row4\" class=\"row_heading level0 row4\" >lr</th>\n",
       "      <td id=\"T_138b0_row4_col0\" class=\"data row4 col0\" >Linear Regression</td>\n",
       "      <td id=\"T_138b0_row4_col1\" class=\"data row4 col1\" >2.4416</td>\n",
       "      <td id=\"T_138b0_row4_col2\" class=\"data row4 col2\" >954.5261</td>\n",
       "      <td id=\"T_138b0_row4_col3\" class=\"data row4 col3\" >18.1565</td>\n",
       "      <td id=\"T_138b0_row4_col4\" class=\"data row4 col4\" >0.9867</td>\n",
       "      <td id=\"T_138b0_row4_col5\" class=\"data row4 col5\" >0.3151</td>\n",
       "      <td id=\"T_138b0_row4_col6\" class=\"data row4 col6\" >0.4117</td>\n",
       "      <td id=\"T_138b0_row4_col7\" class=\"data row4 col7\" >2.4300</td>\n",
       "    </tr>\n",
       "    <tr>\n",
       "      <th id=\"T_138b0_level0_row5\" class=\"row_heading level0 row5\" >lasso</th>\n",
       "      <td id=\"T_138b0_row5_col0\" class=\"data row5 col0\" >Lasso Regression</td>\n",
       "      <td id=\"T_138b0_row5_col1\" class=\"data row5 col1\" >2.4375</td>\n",
       "      <td id=\"T_138b0_row5_col2\" class=\"data row5 col2\" >957.8466</td>\n",
       "      <td id=\"T_138b0_row5_col3\" class=\"data row5 col3\" >18.1744</td>\n",
       "      <td id=\"T_138b0_row5_col4\" class=\"data row5 col4\" >0.9867</td>\n",
       "      <td id=\"T_138b0_row5_col5\" class=\"data row5 col5\" >0.3142</td>\n",
       "      <td id=\"T_138b0_row5_col6\" class=\"data row5 col6\" >0.4085</td>\n",
       "      <td id=\"T_138b0_row5_col7\" class=\"data row5 col7\" >4.3000</td>\n",
       "    </tr>\n",
       "    <tr>\n",
       "      <th id=\"T_138b0_level0_row6\" class=\"row_heading level0 row6\" >llar</th>\n",
       "      <td id=\"T_138b0_row6_col0\" class=\"data row6 col0\" >Lasso Least Angle Regression</td>\n",
       "      <td id=\"T_138b0_row6_col1\" class=\"data row6 col1\" >2.4376</td>\n",
       "      <td id=\"T_138b0_row6_col2\" class=\"data row6 col2\" >957.8620</td>\n",
       "      <td id=\"T_138b0_row6_col3\" class=\"data row6 col3\" >18.1745</td>\n",
       "      <td id=\"T_138b0_row6_col4\" class=\"data row6 col4\" >0.9867</td>\n",
       "      <td id=\"T_138b0_row6_col5\" class=\"data row6 col5\" >0.3142</td>\n",
       "      <td id=\"T_138b0_row6_col6\" class=\"data row6 col6\" >0.4086</td>\n",
       "      <td id=\"T_138b0_row6_col7\" class=\"data row6 col7\" >0.8140</td>\n",
       "    </tr>\n",
       "    <tr>\n",
       "      <th id=\"T_138b0_level0_row7\" class=\"row_heading level0 row7\" >dt</th>\n",
       "      <td id=\"T_138b0_row7_col0\" class=\"data row7 col0\" >Decision Tree Regressor</td>\n",
       "      <td id=\"T_138b0_row7_col1\" class=\"data row7 col1\" >0.3110</td>\n",
       "      <td id=\"T_138b0_row7_col2\" class=\"data row7 col2\" >24070.4922</td>\n",
       "      <td id=\"T_138b0_row7_col3\" class=\"data row7 col3\" >69.1691</td>\n",
       "      <td id=\"T_138b0_row7_col4\" class=\"data row7 col4\" >0.8755</td>\n",
       "      <td id=\"T_138b0_row7_col5\" class=\"data row7 col5\" >0.0034</td>\n",
       "      <td id=\"T_138b0_row7_col6\" class=\"data row7 col6\" >0.0004</td>\n",
       "      <td id=\"T_138b0_row7_col7\" class=\"data row7 col7\" >3.8520</td>\n",
       "    </tr>\n",
       "    <tr>\n",
       "      <th id=\"T_138b0_level0_row8\" class=\"row_heading level0 row8\" >gbr</th>\n",
       "      <td id=\"T_138b0_row8_col0\" class=\"data row8 col0\" >Gradient Boosting Regressor</td>\n",
       "      <td id=\"T_138b0_row8_col1\" class=\"data row8 col1\" >0.5518</td>\n",
       "      <td id=\"T_138b0_row8_col2\" class=\"data row8 col2\" >24072.0106</td>\n",
       "      <td id=\"T_138b0_row8_col3\" class=\"data row8 col3\" >69.5714</td>\n",
       "      <td id=\"T_138b0_row8_col4\" class=\"data row8 col4\" >0.8755</td>\n",
       "      <td id=\"T_138b0_row8_col5\" class=\"data row8 col5\" >0.0220</td>\n",
       "      <td id=\"T_138b0_row8_col6\" class=\"data row8 col6\" >0.0227</td>\n",
       "      <td id=\"T_138b0_row8_col7\" class=\"data row8 col7\" >20.0340</td>\n",
       "    </tr>\n",
       "    <tr>\n",
       "      <th id=\"T_138b0_level0_row9\" class=\"row_heading level0 row9\" >rf</th>\n",
       "      <td id=\"T_138b0_row9_col0\" class=\"data row9 col0\" >Random Forest Regressor</td>\n",
       "      <td id=\"T_138b0_row9_col1\" class=\"data row9 col1\" >0.3598</td>\n",
       "      <td id=\"T_138b0_row9_col2\" class=\"data row9 col2\" >34812.2514</td>\n",
       "      <td id=\"T_138b0_row9_col3\" class=\"data row9 col3\" >81.4193</td>\n",
       "      <td id=\"T_138b0_row9_col4\" class=\"data row9 col4\" >0.8533</td>\n",
       "      <td id=\"T_138b0_row9_col5\" class=\"data row9 col5\" >0.0035</td>\n",
       "      <td id=\"T_138b0_row9_col6\" class=\"data row9 col6\" >0.0003</td>\n",
       "      <td id=\"T_138b0_row9_col7\" class=\"data row9 col7\" >246.7980</td>\n",
       "    </tr>\n",
       "    <tr>\n",
       "      <th id=\"T_138b0_level0_row10\" class=\"row_heading level0 row10\" >ada</th>\n",
       "      <td id=\"T_138b0_row10_col0\" class=\"data row10 col0\" >AdaBoost Regressor</td>\n",
       "      <td id=\"T_138b0_row10_col1\" class=\"data row10 col1\" >6.6092</td>\n",
       "      <td id=\"T_138b0_row10_col2\" class=\"data row10 col2\" >24180.7627</td>\n",
       "      <td id=\"T_138b0_row10_col3\" class=\"data row10 col3\" >77.4590</td>\n",
       "      <td id=\"T_138b0_row10_col4\" class=\"data row10 col4\" >0.8527</td>\n",
       "      <td id=\"T_138b0_row10_col5\" class=\"data row10 col5\" >0.8817</td>\n",
       "      <td id=\"T_138b0_row10_col6\" class=\"data row10 col6\" >2.3843</td>\n",
       "      <td id=\"T_138b0_row10_col7\" class=\"data row10 col7\" >5.9880</td>\n",
       "    </tr>\n",
       "    <tr>\n",
       "      <th id=\"T_138b0_level0_row11\" class=\"row_heading level0 row11\" >knn</th>\n",
       "      <td id=\"T_138b0_row11_col0\" class=\"data row11 col0\" >K Neighbors Regressor</td>\n",
       "      <td id=\"T_138b0_row11_col1\" class=\"data row11 col1\" >1.6854</td>\n",
       "      <td id=\"T_138b0_row11_col2\" class=\"data row11 col2\" >49370.3011</td>\n",
       "      <td id=\"T_138b0_row11_col3\" class=\"data row11 col3\" >97.9753</td>\n",
       "      <td id=\"T_138b0_row11_col4\" class=\"data row11 col4\" >0.8188</td>\n",
       "      <td id=\"T_138b0_row11_col5\" class=\"data row11 col5\" >0.2822</td>\n",
       "      <td id=\"T_138b0_row11_col6\" class=\"data row11 col6\" >0.3049</td>\n",
       "      <td id=\"T_138b0_row11_col7\" class=\"data row11 col7\" >1.7450</td>\n",
       "    </tr>\n",
       "    <tr>\n",
       "      <th id=\"T_138b0_level0_row12\" class=\"row_heading level0 row12\" >lightgbm</th>\n",
       "      <td id=\"T_138b0_row12_col0\" class=\"data row12 col0\" >Light Gradient Boosting Machine</td>\n",
       "      <td id=\"T_138b0_row12_col1\" class=\"data row12 col1\" >1.4581</td>\n",
       "      <td id=\"T_138b0_row12_col2\" class=\"data row12 col2\" >57538.1683</td>\n",
       "      <td id=\"T_138b0_row12_col3\" class=\"data row12 col3\" >126.7423</td>\n",
       "      <td id=\"T_138b0_row12_col4\" class=\"data row12 col4\" >0.4867</td>\n",
       "      <td id=\"T_138b0_row12_col5\" class=\"data row12 col5\" >0.1176</td>\n",
       "      <td id=\"T_138b0_row12_col6\" class=\"data row12 col6\" >0.2015</td>\n",
       "      <td id=\"T_138b0_row12_col7\" class=\"data row12 col7\" >0.6110</td>\n",
       "    </tr>\n",
       "    <tr>\n",
       "      <th id=\"T_138b0_level0_row13\" class=\"row_heading level0 row13\" >omp</th>\n",
       "      <td id=\"T_138b0_row13_col0\" class=\"data row13 col0\" >Orthogonal Matching Pursuit</td>\n",
       "      <td id=\"T_138b0_row13_col1\" class=\"data row13 col1\" >39.1946</td>\n",
       "      <td id=\"T_138b0_row13_col2\" class=\"data row13 col2\" >61876.7423</td>\n",
       "      <td id=\"T_138b0_row13_col3\" class=\"data row13 col3\" >151.5363</td>\n",
       "      <td id=\"T_138b0_row13_col4\" class=\"data row13 col4\" >-0.0000</td>\n",
       "      <td id=\"T_138b0_row13_col5\" class=\"data row13 col5\" >1.9879</td>\n",
       "      <td id=\"T_138b0_row13_col6\" class=\"data row13 col6\" >12.3230</td>\n",
       "      <td id=\"T_138b0_row13_col7\" class=\"data row13 col7\" >0.7920</td>\n",
       "    </tr>\n",
       "    <tr>\n",
       "      <th id=\"T_138b0_level0_row14\" class=\"row_heading level0 row14\" >dummy</th>\n",
       "      <td id=\"T_138b0_row14_col0\" class=\"data row14 col0\" >Dummy Regressor</td>\n",
       "      <td id=\"T_138b0_row14_col1\" class=\"data row14 col1\" >39.1945</td>\n",
       "      <td id=\"T_138b0_row14_col2\" class=\"data row14 col2\" >61876.8298</td>\n",
       "      <td id=\"T_138b0_row14_col3\" class=\"data row14 col3\" >151.5370</td>\n",
       "      <td id=\"T_138b0_row14_col4\" class=\"data row14 col4\" >-0.0001</td>\n",
       "      <td id=\"T_138b0_row14_col5\" class=\"data row14 col5\" >1.9879</td>\n",
       "      <td id=\"T_138b0_row14_col6\" class=\"data row14 col6\" >12.3236</td>\n",
       "      <td id=\"T_138b0_row14_col7\" class=\"data row14 col7\" >0.2720</td>\n",
       "    </tr>\n",
       "    <tr>\n",
       "      <th id=\"T_138b0_level0_row15\" class=\"row_heading level0 row15\" >par</th>\n",
       "      <td id=\"T_138b0_row15_col0\" class=\"data row15 col0\" >Passive Aggressive Regressor</td>\n",
       "      <td id=\"T_138b0_row15_col1\" class=\"data row15 col1\" >2611735981.6838</td>\n",
       "      <td id=\"T_138b0_row15_col2\" class=\"data row15 col2\" >247324837701210622394368.0000</td>\n",
       "      <td id=\"T_138b0_row15_col3\" class=\"data row15 col3\" >241024257977.8209</td>\n",
       "      <td id=\"T_138b0_row15_col4\" class=\"data row15 col4\" >-53433527438746796032.0000</td>\n",
       "      <td id=\"T_138b0_row15_col5\" class=\"data row15 col5\" >0.7063</td>\n",
       "      <td id=\"T_138b0_row15_col6\" class=\"data row15 col6\" >2063188498.4847</td>\n",
       "      <td id=\"T_138b0_row15_col7\" class=\"data row15 col7\" >1.1770</td>\n",
       "    </tr>\n",
       "  </tbody>\n",
       "</table>\n"
      ],
      "text/plain": [
       "<pandas.io.formats.style.Styler at 0x207b09b9250>"
      ]
     },
     "metadata": {},
     "output_type": "display_data"
    },
    {
     "data": {
      "text/html": [],
      "text/plain": [
       "<IPython.core.display.HTML object>"
      ]
     },
     "metadata": {},
     "output_type": "display_data"
    },
    {
     "name": "stdout",
     "output_type": "stream",
     "text": [
      "AUDCAD_hourly_fractal_dimension_normalized_weight.csv\n"
     ]
    },
    {
     "data": {
      "text/html": [
       "<style type=\"text/css\">\n",
       "</style>\n",
       "<table id=\"T_3df0a\">\n",
       "  <thead>\n",
       "    <tr>\n",
       "      <th class=\"blank level0\" >&nbsp;</th>\n",
       "      <th id=\"T_3df0a_level0_col0\" class=\"col_heading level0 col0\" >Model</th>\n",
       "      <th id=\"T_3df0a_level0_col1\" class=\"col_heading level0 col1\" >MAE</th>\n",
       "      <th id=\"T_3df0a_level0_col2\" class=\"col_heading level0 col2\" >MSE</th>\n",
       "      <th id=\"T_3df0a_level0_col3\" class=\"col_heading level0 col3\" >RMSE</th>\n",
       "      <th id=\"T_3df0a_level0_col4\" class=\"col_heading level0 col4\" >R2</th>\n",
       "      <th id=\"T_3df0a_level0_col5\" class=\"col_heading level0 col5\" >RMSLE</th>\n",
       "      <th id=\"T_3df0a_level0_col6\" class=\"col_heading level0 col6\" >MAPE</th>\n",
       "    </tr>\n",
       "  </thead>\n",
       "  <tbody>\n",
       "    <tr>\n",
       "      <th id=\"T_3df0a_level0_row0\" class=\"row_heading level0 row0\" >0</th>\n",
       "      <td id=\"T_3df0a_row0_col0\" class=\"data row0 col0\" >Ridge Regression</td>\n",
       "      <td id=\"T_3df0a_row0_col1\" class=\"data row0 col1\" >0.3720</td>\n",
       "      <td id=\"T_3df0a_row0_col2\" class=\"data row0 col2\" >0.3926</td>\n",
       "      <td id=\"T_3df0a_row0_col3\" class=\"data row0 col3\" >0.6266</td>\n",
       "      <td id=\"T_3df0a_row0_col4\" class=\"data row0 col4\" >-181.4421</td>\n",
       "      <td id=\"T_3df0a_row0_col5\" class=\"data row0 col5\" >0.2321</td>\n",
       "      <td id=\"T_3df0a_row0_col6\" class=\"data row0 col6\" >0.3854</td>\n",
       "    </tr>\n",
       "  </tbody>\n",
       "</table>\n"
      ],
      "text/plain": [
       "<pandas.io.formats.style.Styler at 0x207a4e7d8d0>"
      ]
     },
     "metadata": {},
     "output_type": "display_data"
    },
    {
     "name": "stdout",
     "output_type": "stream",
     "text": [
      "\n",
      "AUDCHF_hourly_fractal_dimension_normalized_weight.csv\n"
     ]
    },
    {
     "data": {
      "text/html": [
       "<style type=\"text/css\">\n",
       "</style>\n",
       "<table id=\"T_dbe74\">\n",
       "  <thead>\n",
       "    <tr>\n",
       "      <th class=\"blank level0\" >&nbsp;</th>\n",
       "      <th id=\"T_dbe74_level0_col0\" class=\"col_heading level0 col0\" >Model</th>\n",
       "      <th id=\"T_dbe74_level0_col1\" class=\"col_heading level0 col1\" >MAE</th>\n",
       "      <th id=\"T_dbe74_level0_col2\" class=\"col_heading level0 col2\" >MSE</th>\n",
       "      <th id=\"T_dbe74_level0_col3\" class=\"col_heading level0 col3\" >RMSE</th>\n",
       "      <th id=\"T_dbe74_level0_col4\" class=\"col_heading level0 col4\" >R2</th>\n",
       "      <th id=\"T_dbe74_level0_col5\" class=\"col_heading level0 col5\" >RMSLE</th>\n",
       "      <th id=\"T_dbe74_level0_col6\" class=\"col_heading level0 col6\" >MAPE</th>\n",
       "    </tr>\n",
       "  </thead>\n",
       "  <tbody>\n",
       "    <tr>\n",
       "      <th id=\"T_dbe74_level0_row0\" class=\"row_heading level0 row0\" >0</th>\n",
       "      <td id=\"T_dbe74_row0_col0\" class=\"data row0 col0\" >Ridge Regression</td>\n",
       "      <td id=\"T_dbe74_row0_col1\" class=\"data row0 col1\" >0.5728</td>\n",
       "      <td id=\"T_dbe74_row0_col2\" class=\"data row0 col2\" >0.6564</td>\n",
       "      <td id=\"T_dbe74_row0_col3\" class=\"data row0 col3\" >0.8102</td>\n",
       "      <td id=\"T_dbe74_row0_col4\" class=\"data row0 col4\" >-49.5231</td>\n",
       "      <td id=\"T_dbe74_row0_col5\" class=\"data row0 col5\" >0.3788</td>\n",
       "      <td id=\"T_dbe74_row0_col6\" class=\"data row0 col6\" >0.7398</td>\n",
       "    </tr>\n",
       "  </tbody>\n",
       "</table>\n"
      ],
      "text/plain": [
       "<pandas.io.formats.style.Styler at 0x207b06a2790>"
      ]
     },
     "metadata": {},
     "output_type": "display_data"
    },
    {
     "name": "stdout",
     "output_type": "stream",
     "text": [
      "\n",
      "AUDHKD_hourly_fractal_dimension_normalized_weight.csv\n"
     ]
    },
    {
     "data": {
      "text/html": [
       "<style type=\"text/css\">\n",
       "</style>\n",
       "<table id=\"T_fc551\">\n",
       "  <thead>\n",
       "    <tr>\n",
       "      <th class=\"blank level0\" >&nbsp;</th>\n",
       "      <th id=\"T_fc551_level0_col0\" class=\"col_heading level0 col0\" >Model</th>\n",
       "      <th id=\"T_fc551_level0_col1\" class=\"col_heading level0 col1\" >MAE</th>\n",
       "      <th id=\"T_fc551_level0_col2\" class=\"col_heading level0 col2\" >MSE</th>\n",
       "      <th id=\"T_fc551_level0_col3\" class=\"col_heading level0 col3\" >RMSE</th>\n",
       "      <th id=\"T_fc551_level0_col4\" class=\"col_heading level0 col4\" >R2</th>\n",
       "      <th id=\"T_fc551_level0_col5\" class=\"col_heading level0 col5\" >RMSLE</th>\n",
       "      <th id=\"T_fc551_level0_col6\" class=\"col_heading level0 col6\" >MAPE</th>\n",
       "    </tr>\n",
       "  </thead>\n",
       "  <tbody>\n",
       "    <tr>\n",
       "      <th id=\"T_fc551_level0_row0\" class=\"row_heading level0 row0\" >0</th>\n",
       "      <td id=\"T_fc551_row0_col0\" class=\"data row0 col0\" >Ridge Regression</td>\n",
       "      <td id=\"T_fc551_row0_col1\" class=\"data row0 col1\" >0.8429</td>\n",
       "      <td id=\"T_fc551_row0_col2\" class=\"data row0 col2\" >2.2264</td>\n",
       "      <td id=\"T_fc551_row0_col3\" class=\"data row0 col3\" >1.4921</td>\n",
       "      <td id=\"T_fc551_row0_col4\" class=\"data row0 col4\" >-1.2642</td>\n",
       "      <td id=\"T_fc551_row0_col5\" class=\"data row0 col5\" >0.1631</td>\n",
       "      <td id=\"T_fc551_row0_col6\" class=\"data row0 col6\" >0.1235</td>\n",
       "    </tr>\n",
       "  </tbody>\n",
       "</table>\n"
      ],
      "text/plain": [
       "<pandas.io.formats.style.Styler at 0x207b06a1890>"
      ]
     },
     "metadata": {},
     "output_type": "display_data"
    },
    {
     "name": "stdout",
     "output_type": "stream",
     "text": [
      "\n",
      "AUDJPY_hourly_fractal_dimension_normalized_weight.csv\n"
     ]
    },
    {
     "data": {
      "text/html": [
       "<style type=\"text/css\">\n",
       "</style>\n",
       "<table id=\"T_b4679\">\n",
       "  <thead>\n",
       "    <tr>\n",
       "      <th class=\"blank level0\" >&nbsp;</th>\n",
       "      <th id=\"T_b4679_level0_col0\" class=\"col_heading level0 col0\" >Model</th>\n",
       "      <th id=\"T_b4679_level0_col1\" class=\"col_heading level0 col1\" >MAE</th>\n",
       "      <th id=\"T_b4679_level0_col2\" class=\"col_heading level0 col2\" >MSE</th>\n",
       "      <th id=\"T_b4679_level0_col3\" class=\"col_heading level0 col3\" >RMSE</th>\n",
       "      <th id=\"T_b4679_level0_col4\" class=\"col_heading level0 col4\" >R2</th>\n",
       "      <th id=\"T_b4679_level0_col5\" class=\"col_heading level0 col5\" >RMSLE</th>\n",
       "      <th id=\"T_b4679_level0_col6\" class=\"col_heading level0 col6\" >MAPE</th>\n",
       "    </tr>\n",
       "  </thead>\n",
       "  <tbody>\n",
       "    <tr>\n",
       "      <th id=\"T_b4679_level0_row0\" class=\"row_heading level0 row0\" >0</th>\n",
       "      <td id=\"T_b4679_row0_col0\" class=\"data row0 col0\" >Ridge Regression</td>\n",
       "      <td id=\"T_b4679_row0_col1\" class=\"data row0 col1\" >3.9497</td>\n",
       "      <td id=\"T_b4679_row0_col2\" class=\"data row0 col2\" >26.1377</td>\n",
       "      <td id=\"T_b4679_row0_col3\" class=\"data row0 col3\" >5.1125</td>\n",
       "      <td id=\"T_b4679_row0_col4\" class=\"data row0 col4\" >0.4855</td>\n",
       "      <td id=\"T_b4679_row0_col5\" class=\"data row0 col5\" >0.0615</td>\n",
       "      <td id=\"T_b4679_row0_col6\" class=\"data row0 col6\" >0.0472</td>\n",
       "    </tr>\n",
       "  </tbody>\n",
       "</table>\n"
      ],
      "text/plain": [
       "<pandas.io.formats.style.Styler at 0x207b0e09890>"
      ]
     },
     "metadata": {},
     "output_type": "display_data"
    },
    {
     "name": "stdout",
     "output_type": "stream",
     "text": [
      "\n",
      "AUDNZD_hourly_fractal_dimension_normalized_weight.csv\n"
     ]
    },
    {
     "data": {
      "text/html": [
       "<style type=\"text/css\">\n",
       "</style>\n",
       "<table id=\"T_bcbf2\">\n",
       "  <thead>\n",
       "    <tr>\n",
       "      <th class=\"blank level0\" >&nbsp;</th>\n",
       "      <th id=\"T_bcbf2_level0_col0\" class=\"col_heading level0 col0\" >Model</th>\n",
       "      <th id=\"T_bcbf2_level0_col1\" class=\"col_heading level0 col1\" >MAE</th>\n",
       "      <th id=\"T_bcbf2_level0_col2\" class=\"col_heading level0 col2\" >MSE</th>\n",
       "      <th id=\"T_bcbf2_level0_col3\" class=\"col_heading level0 col3\" >RMSE</th>\n",
       "      <th id=\"T_bcbf2_level0_col4\" class=\"col_heading level0 col4\" >R2</th>\n",
       "      <th id=\"T_bcbf2_level0_col5\" class=\"col_heading level0 col5\" >RMSLE</th>\n",
       "      <th id=\"T_bcbf2_level0_col6\" class=\"col_heading level0 col6\" >MAPE</th>\n",
       "    </tr>\n",
       "  </thead>\n",
       "  <tbody>\n",
       "    <tr>\n",
       "      <th id=\"T_bcbf2_level0_row0\" class=\"row_heading level0 row0\" >0</th>\n",
       "      <td id=\"T_bcbf2_row0_col0\" class=\"data row0 col0\" >Ridge Regression</td>\n",
       "      <td id=\"T_bcbf2_row0_col1\" class=\"data row0 col1\" >10.1325</td>\n",
       "      <td id=\"T_bcbf2_row0_col2\" class=\"data row0 col2\" >719.1094</td>\n",
       "      <td id=\"T_bcbf2_row0_col3\" class=\"data row0 col3\" >26.8162</td>\n",
       "      <td id=\"T_bcbf2_row0_col4\" class=\"data row0 col4\" >0.9996</td>\n",
       "      <td id=\"T_bcbf2_row0_col5\" class=\"data row0 col5\" >1.7336</td>\n",
       "      <td id=\"T_bcbf2_row0_col6\" class=\"data row0 col6\" >8.8341</td>\n",
       "    </tr>\n",
       "  </tbody>\n",
       "</table>\n"
      ],
      "text/plain": [
       "<pandas.io.formats.style.Styler at 0x207b09b6cd0>"
      ]
     },
     "metadata": {},
     "output_type": "display_data"
    },
    {
     "name": "stdout",
     "output_type": "stream",
     "text": [
      "\n",
      "AUDSGD_hourly_fractal_dimension_normalized_weight.csv\n"
     ]
    },
    {
     "data": {
      "text/html": [
       "<style type=\"text/css\">\n",
       "</style>\n",
       "<table id=\"T_58de5\">\n",
       "  <thead>\n",
       "    <tr>\n",
       "      <th class=\"blank level0\" >&nbsp;</th>\n",
       "      <th id=\"T_58de5_level0_col0\" class=\"col_heading level0 col0\" >Model</th>\n",
       "      <th id=\"T_58de5_level0_col1\" class=\"col_heading level0 col1\" >MAE</th>\n",
       "      <th id=\"T_58de5_level0_col2\" class=\"col_heading level0 col2\" >MSE</th>\n",
       "      <th id=\"T_58de5_level0_col3\" class=\"col_heading level0 col3\" >RMSE</th>\n",
       "      <th id=\"T_58de5_level0_col4\" class=\"col_heading level0 col4\" >R2</th>\n",
       "      <th id=\"T_58de5_level0_col5\" class=\"col_heading level0 col5\" >RMSLE</th>\n",
       "      <th id=\"T_58de5_level0_col6\" class=\"col_heading level0 col6\" >MAPE</th>\n",
       "    </tr>\n",
       "  </thead>\n",
       "  <tbody>\n",
       "    <tr>\n",
       "      <th id=\"T_58de5_level0_row0\" class=\"row_heading level0 row0\" >0</th>\n",
       "      <td id=\"T_58de5_row0_col0\" class=\"data row0 col0\" >Ridge Regression</td>\n",
       "      <td id=\"T_58de5_row0_col1\" class=\"data row0 col1\" >0.9099</td>\n",
       "      <td id=\"T_58de5_row0_col2\" class=\"data row0 col2\" >2.4110</td>\n",
       "      <td id=\"T_58de5_row0_col3\" class=\"data row0 col3\" >1.5527</td>\n",
       "      <td id=\"T_58de5_row0_col4\" class=\"data row0 col4\" >-142.0660</td>\n",
       "      <td id=\"T_58de5_row0_col5\" class=\"data row0 col5\" >0.4659</td>\n",
       "      <td id=\"T_58de5_row0_col6\" class=\"data row0 col6\" >0.8361</td>\n",
       "    </tr>\n",
       "  </tbody>\n",
       "</table>\n"
      ],
      "text/plain": [
       "<pandas.io.formats.style.Styler at 0x207a4e7cd10>"
      ]
     },
     "metadata": {},
     "output_type": "display_data"
    },
    {
     "name": "stdout",
     "output_type": "stream",
     "text": [
      "\n",
      "CADCHF_hourly_fractal_dimension_normalized_weight.csv\n"
     ]
    },
    {
     "data": {
      "text/html": [
       "<style type=\"text/css\">\n",
       "</style>\n",
       "<table id=\"T_365f2\">\n",
       "  <thead>\n",
       "    <tr>\n",
       "      <th class=\"blank level0\" >&nbsp;</th>\n",
       "      <th id=\"T_365f2_level0_col0\" class=\"col_heading level0 col0\" >Model</th>\n",
       "      <th id=\"T_365f2_level0_col1\" class=\"col_heading level0 col1\" >MAE</th>\n",
       "      <th id=\"T_365f2_level0_col2\" class=\"col_heading level0 col2\" >MSE</th>\n",
       "      <th id=\"T_365f2_level0_col3\" class=\"col_heading level0 col3\" >RMSE</th>\n",
       "      <th id=\"T_365f2_level0_col4\" class=\"col_heading level0 col4\" >R2</th>\n",
       "      <th id=\"T_365f2_level0_col5\" class=\"col_heading level0 col5\" >RMSLE</th>\n",
       "      <th id=\"T_365f2_level0_col6\" class=\"col_heading level0 col6\" >MAPE</th>\n",
       "    </tr>\n",
       "  </thead>\n",
       "  <tbody>\n",
       "    <tr>\n",
       "      <th id=\"T_365f2_level0_row0\" class=\"row_heading level0 row0\" >0</th>\n",
       "      <td id=\"T_365f2_row0_col0\" class=\"data row0 col0\" >Ridge Regression</td>\n",
       "      <td id=\"T_365f2_row0_col1\" class=\"data row0 col1\" >0.4192</td>\n",
       "      <td id=\"T_365f2_row0_col2\" class=\"data row0 col2\" >0.4536</td>\n",
       "      <td id=\"T_365f2_row0_col3\" class=\"data row0 col3\" >0.6735</td>\n",
       "      <td id=\"T_365f2_row0_col4\" class=\"data row0 col4\" >-47.4003</td>\n",
       "      <td id=\"T_365f2_row0_col5\" class=\"data row0 col5\" >0.2830</td>\n",
       "      <td id=\"T_365f2_row0_col6\" class=\"data row0 col6\" >0.5173</td>\n",
       "    </tr>\n",
       "  </tbody>\n",
       "</table>\n"
      ],
      "text/plain": [
       "<pandas.io.formats.style.Styler at 0x207b0fc2690>"
      ]
     },
     "metadata": {},
     "output_type": "display_data"
    },
    {
     "name": "stdout",
     "output_type": "stream",
     "text": [
      "\n",
      "CADHKD_hourly_fractal_dimension_normalized_weight.csv\n"
     ]
    },
    {
     "data": {
      "text/html": [
       "<style type=\"text/css\">\n",
       "</style>\n",
       "<table id=\"T_2e686\">\n",
       "  <thead>\n",
       "    <tr>\n",
       "      <th class=\"blank level0\" >&nbsp;</th>\n",
       "      <th id=\"T_2e686_level0_col0\" class=\"col_heading level0 col0\" >Model</th>\n",
       "      <th id=\"T_2e686_level0_col1\" class=\"col_heading level0 col1\" >MAE</th>\n",
       "      <th id=\"T_2e686_level0_col2\" class=\"col_heading level0 col2\" >MSE</th>\n",
       "      <th id=\"T_2e686_level0_col3\" class=\"col_heading level0 col3\" >RMSE</th>\n",
       "      <th id=\"T_2e686_level0_col4\" class=\"col_heading level0 col4\" >R2</th>\n",
       "      <th id=\"T_2e686_level0_col5\" class=\"col_heading level0 col5\" >RMSLE</th>\n",
       "      <th id=\"T_2e686_level0_col6\" class=\"col_heading level0 col6\" >MAPE</th>\n",
       "    </tr>\n",
       "  </thead>\n",
       "  <tbody>\n",
       "    <tr>\n",
       "      <th id=\"T_2e686_level0_row0\" class=\"row_heading level0 row0\" >0</th>\n",
       "      <td id=\"T_2e686_row0_col0\" class=\"data row0 col0\" >Ridge Regression</td>\n",
       "      <td id=\"T_2e686_row0_col1\" class=\"data row0 col1\" >0.7254</td>\n",
       "      <td id=\"T_2e686_row0_col2\" class=\"data row0 col2\" >1.9479</td>\n",
       "      <td id=\"T_2e686_row0_col3\" class=\"data row0 col3\" >1.3957</td>\n",
       "      <td id=\"T_2e686_row0_col4\" class=\"data row0 col4\" >-2.0118</td>\n",
       "      <td id=\"T_2e686_row0_col5\" class=\"data row0 col5\" >0.1462</td>\n",
       "      <td id=\"T_2e686_row0_col6\" class=\"data row0 col6\" >0.1051</td>\n",
       "    </tr>\n",
       "  </tbody>\n",
       "</table>\n"
      ],
      "text/plain": [
       "<pandas.io.formats.style.Styler at 0x207a43b1c90>"
      ]
     },
     "metadata": {},
     "output_type": "display_data"
    },
    {
     "name": "stdout",
     "output_type": "stream",
     "text": [
      "\n",
      "CADJPY_hourly_fractal_dimension_normalized_weight.csv\n"
     ]
    },
    {
     "data": {
      "text/html": [
       "<style type=\"text/css\">\n",
       "</style>\n",
       "<table id=\"T_a8f9d\">\n",
       "  <thead>\n",
       "    <tr>\n",
       "      <th class=\"blank level0\" >&nbsp;</th>\n",
       "      <th id=\"T_a8f9d_level0_col0\" class=\"col_heading level0 col0\" >Model</th>\n",
       "      <th id=\"T_a8f9d_level0_col1\" class=\"col_heading level0 col1\" >MAE</th>\n",
       "      <th id=\"T_a8f9d_level0_col2\" class=\"col_heading level0 col2\" >MSE</th>\n",
       "      <th id=\"T_a8f9d_level0_col3\" class=\"col_heading level0 col3\" >RMSE</th>\n",
       "      <th id=\"T_a8f9d_level0_col4\" class=\"col_heading level0 col4\" >R2</th>\n",
       "      <th id=\"T_a8f9d_level0_col5\" class=\"col_heading level0 col5\" >RMSLE</th>\n",
       "      <th id=\"T_a8f9d_level0_col6\" class=\"col_heading level0 col6\" >MAPE</th>\n",
       "    </tr>\n",
       "  </thead>\n",
       "  <tbody>\n",
       "    <tr>\n",
       "      <th id=\"T_a8f9d_level0_row0\" class=\"row_heading level0 row0\" >0</th>\n",
       "      <td id=\"T_a8f9d_row0_col0\" class=\"data row0 col0\" >Ridge Regression</td>\n",
       "      <td id=\"T_a8f9d_row0_col1\" class=\"data row0 col1\" >4.3042</td>\n",
       "      <td id=\"T_a8f9d_row0_col2\" class=\"data row0 col2\" >31.8779</td>\n",
       "      <td id=\"T_a8f9d_row0_col3\" class=\"data row0 col3\" >5.6461</td>\n",
       "      <td id=\"T_a8f9d_row0_col4\" class=\"data row0 col4\" >0.4640</td>\n",
       "      <td id=\"T_a8f9d_row0_col5\" class=\"data row0 col5\" >0.0639</td>\n",
       "      <td id=\"T_a8f9d_row0_col6\" class=\"data row0 col6\" >0.0488</td>\n",
       "    </tr>\n",
       "  </tbody>\n",
       "</table>\n"
      ],
      "text/plain": [
       "<pandas.io.formats.style.Styler at 0x207a4824a10>"
      ]
     },
     "metadata": {},
     "output_type": "display_data"
    },
    {
     "name": "stdout",
     "output_type": "stream",
     "text": [
      "\n",
      "CADSGD_hourly_fractal_dimension_normalized_weight.csv\n"
     ]
    },
    {
     "data": {
      "text/html": [
       "<style type=\"text/css\">\n",
       "</style>\n",
       "<table id=\"T_2bc7f\">\n",
       "  <thead>\n",
       "    <tr>\n",
       "      <th class=\"blank level0\" >&nbsp;</th>\n",
       "      <th id=\"T_2bc7f_level0_col0\" class=\"col_heading level0 col0\" >Model</th>\n",
       "      <th id=\"T_2bc7f_level0_col1\" class=\"col_heading level0 col1\" >MAE</th>\n",
       "      <th id=\"T_2bc7f_level0_col2\" class=\"col_heading level0 col2\" >MSE</th>\n",
       "      <th id=\"T_2bc7f_level0_col3\" class=\"col_heading level0 col3\" >RMSE</th>\n",
       "      <th id=\"T_2bc7f_level0_col4\" class=\"col_heading level0 col4\" >R2</th>\n",
       "      <th id=\"T_2bc7f_level0_col5\" class=\"col_heading level0 col5\" >RMSLE</th>\n",
       "      <th id=\"T_2bc7f_level0_col6\" class=\"col_heading level0 col6\" >MAPE</th>\n",
       "    </tr>\n",
       "  </thead>\n",
       "  <tbody>\n",
       "    <tr>\n",
       "      <th id=\"T_2bc7f_level0_row0\" class=\"row_heading level0 row0\" >0</th>\n",
       "      <td id=\"T_2bc7f_row0_col0\" class=\"data row0 col0\" >Ridge Regression</td>\n",
       "      <td id=\"T_2bc7f_row0_col1\" class=\"data row0 col1\" >0.5912</td>\n",
       "      <td id=\"T_2bc7f_row0_col2\" class=\"data row0 col2\" >0.8766</td>\n",
       "      <td id=\"T_2bc7f_row0_col3\" class=\"data row0 col3\" >0.9363</td>\n",
       "      <td id=\"T_2bc7f_row0_col4\" class=\"data row0 col4\" >-83.4593</td>\n",
       "      <td id=\"T_2bc7f_row0_col5\" class=\"data row0 col5\" >0.3214</td>\n",
       "      <td id=\"T_2bc7f_row0_col6\" class=\"data row0 col6\" >0.5279</td>\n",
       "    </tr>\n",
       "  </tbody>\n",
       "</table>\n"
      ],
      "text/plain": [
       "<pandas.io.formats.style.Styler at 0x207a4e66d50>"
      ]
     },
     "metadata": {},
     "output_type": "display_data"
    },
    {
     "name": "stdout",
     "output_type": "stream",
     "text": [
      "\n",
      "CHFHKD_hourly_fractal_dimension_normalized_weight.csv\n"
     ]
    },
    {
     "data": {
      "text/html": [
       "<style type=\"text/css\">\n",
       "</style>\n",
       "<table id=\"T_d358d\">\n",
       "  <thead>\n",
       "    <tr>\n",
       "      <th class=\"blank level0\" >&nbsp;</th>\n",
       "      <th id=\"T_d358d_level0_col0\" class=\"col_heading level0 col0\" >Model</th>\n",
       "      <th id=\"T_d358d_level0_col1\" class=\"col_heading level0 col1\" >MAE</th>\n",
       "      <th id=\"T_d358d_level0_col2\" class=\"col_heading level0 col2\" >MSE</th>\n",
       "      <th id=\"T_d358d_level0_col3\" class=\"col_heading level0 col3\" >RMSE</th>\n",
       "      <th id=\"T_d358d_level0_col4\" class=\"col_heading level0 col4\" >R2</th>\n",
       "      <th id=\"T_d358d_level0_col5\" class=\"col_heading level0 col5\" >RMSLE</th>\n",
       "      <th id=\"T_d358d_level0_col6\" class=\"col_heading level0 col6\" >MAPE</th>\n",
       "    </tr>\n",
       "  </thead>\n",
       "  <tbody>\n",
       "    <tr>\n",
       "      <th id=\"T_d358d_level0_row0\" class=\"row_heading level0 row0\" >0</th>\n",
       "      <td id=\"T_d358d_row0_col0\" class=\"data row0 col0\" >Ridge Regression</td>\n",
       "      <td id=\"T_d358d_row0_col1\" class=\"data row0 col1\" >0.7765</td>\n",
       "      <td id=\"T_d358d_row0_col2\" class=\"data row0 col2\" >1.7804</td>\n",
       "      <td id=\"T_d358d_row0_col3\" class=\"data row0 col3\" >1.3343</td>\n",
       "      <td id=\"T_d358d_row0_col4\" class=\"data row0 col4\" >-8.9760</td>\n",
       "      <td id=\"T_d358d_row0_col5\" class=\"data row0 col5\" >0.1210</td>\n",
       "      <td id=\"T_d358d_row0_col6\" class=\"data row0 col6\" >0.0941</td>\n",
       "    </tr>\n",
       "  </tbody>\n",
       "</table>\n"
      ],
      "text/plain": [
       "<pandas.io.formats.style.Styler at 0x207b01d1c90>"
      ]
     },
     "metadata": {},
     "output_type": "display_data"
    },
    {
     "name": "stdout",
     "output_type": "stream",
     "text": [
      "\n",
      "CHFJPY_hourly_fractal_dimension_normalized_weight.csv\n"
     ]
    },
    {
     "data": {
      "text/html": [
       "<style type=\"text/css\">\n",
       "</style>\n",
       "<table id=\"T_89e7c\">\n",
       "  <thead>\n",
       "    <tr>\n",
       "      <th class=\"blank level0\" >&nbsp;</th>\n",
       "      <th id=\"T_89e7c_level0_col0\" class=\"col_heading level0 col0\" >Model</th>\n",
       "      <th id=\"T_89e7c_level0_col1\" class=\"col_heading level0 col1\" >MAE</th>\n",
       "      <th id=\"T_89e7c_level0_col2\" class=\"col_heading level0 col2\" >MSE</th>\n",
       "      <th id=\"T_89e7c_level0_col3\" class=\"col_heading level0 col3\" >RMSE</th>\n",
       "      <th id=\"T_89e7c_level0_col4\" class=\"col_heading level0 col4\" >R2</th>\n",
       "      <th id=\"T_89e7c_level0_col5\" class=\"col_heading level0 col5\" >RMSLE</th>\n",
       "      <th id=\"T_89e7c_level0_col6\" class=\"col_heading level0 col6\" >MAPE</th>\n",
       "    </tr>\n",
       "  </thead>\n",
       "  <tbody>\n",
       "    <tr>\n",
       "      <th id=\"T_89e7c_level0_row0\" class=\"row_heading level0 row0\" >0</th>\n",
       "      <td id=\"T_89e7c_row0_col0\" class=\"data row0 col0\" >Ridge Regression</td>\n",
       "      <td id=\"T_89e7c_row0_col1\" class=\"data row0 col1\" >7.6196</td>\n",
       "      <td id=\"T_89e7c_row0_col2\" class=\"data row0 col2\" >119.5747</td>\n",
       "      <td id=\"T_89e7c_row0_col3\" class=\"data row0 col3\" >10.9350</td>\n",
       "      <td id=\"T_89e7c_row0_col4\" class=\"data row0 col4\" >0.5139</td>\n",
       "      <td id=\"T_89e7c_row0_col5\" class=\"data row0 col5\" >0.1034</td>\n",
       "      <td id=\"T_89e7c_row0_col6\" class=\"data row0 col6\" >0.0735</td>\n",
       "    </tr>\n",
       "  </tbody>\n",
       "</table>\n"
      ],
      "text/plain": [
       "<pandas.io.formats.style.Styler at 0x207b0fc26d0>"
      ]
     },
     "metadata": {},
     "output_type": "display_data"
    },
    {
     "name": "stdout",
     "output_type": "stream",
     "text": [
      "\n",
      "CHFZAR_hourly_fractal_dimension_normalized_weight.csv\n"
     ]
    },
    {
     "data": {
      "text/html": [
       "<style type=\"text/css\">\n",
       "</style>\n",
       "<table id=\"T_3ba64\">\n",
       "  <thead>\n",
       "    <tr>\n",
       "      <th class=\"blank level0\" >&nbsp;</th>\n",
       "      <th id=\"T_3ba64_level0_col0\" class=\"col_heading level0 col0\" >Model</th>\n",
       "      <th id=\"T_3ba64_level0_col1\" class=\"col_heading level0 col1\" >MAE</th>\n",
       "      <th id=\"T_3ba64_level0_col2\" class=\"col_heading level0 col2\" >MSE</th>\n",
       "      <th id=\"T_3ba64_level0_col3\" class=\"col_heading level0 col3\" >RMSE</th>\n",
       "      <th id=\"T_3ba64_level0_col4\" class=\"col_heading level0 col4\" >R2</th>\n",
       "      <th id=\"T_3ba64_level0_col5\" class=\"col_heading level0 col5\" >RMSLE</th>\n",
       "      <th id=\"T_3ba64_level0_col6\" class=\"col_heading level0 col6\" >MAPE</th>\n",
       "    </tr>\n",
       "  </thead>\n",
       "  <tbody>\n",
       "    <tr>\n",
       "      <th id=\"T_3ba64_level0_row0\" class=\"row_heading level0 row0\" >0</th>\n",
       "      <td id=\"T_3ba64_row0_col0\" class=\"data row0 col0\" >Ridge Regression</td>\n",
       "      <td id=\"T_3ba64_row0_col1\" class=\"data row0 col1\" >2.0174</td>\n",
       "      <td id=\"T_3ba64_row0_col2\" class=\"data row0 col2\" >6.1199</td>\n",
       "      <td id=\"T_3ba64_row0_col3\" class=\"data row0 col3\" >2.4738</td>\n",
       "      <td id=\"T_3ba64_row0_col4\" class=\"data row0 col4\" >0.4614</td>\n",
       "      <td id=\"T_3ba64_row0_col5\" class=\"data row0 col5\" >0.1892</td>\n",
       "      <td id=\"T_3ba64_row0_col6\" class=\"data row0 col6\" >0.1757</td>\n",
       "    </tr>\n",
       "  </tbody>\n",
       "</table>\n"
      ],
      "text/plain": [
       "<pandas.io.formats.style.Styler at 0x207b0a71f50>"
      ]
     },
     "metadata": {},
     "output_type": "display_data"
    },
    {
     "name": "stdout",
     "output_type": "stream",
     "text": [
      "\n",
      "EURAUD_hourly_fractal_dimension_normalized_weight.csv\n"
     ]
    },
    {
     "data": {
      "text/html": [
       "<style type=\"text/css\">\n",
       "</style>\n",
       "<table id=\"T_7024d\">\n",
       "  <thead>\n",
       "    <tr>\n",
       "      <th class=\"blank level0\" >&nbsp;</th>\n",
       "      <th id=\"T_7024d_level0_col0\" class=\"col_heading level0 col0\" >Model</th>\n",
       "      <th id=\"T_7024d_level0_col1\" class=\"col_heading level0 col1\" >MAE</th>\n",
       "      <th id=\"T_7024d_level0_col2\" class=\"col_heading level0 col2\" >MSE</th>\n",
       "      <th id=\"T_7024d_level0_col3\" class=\"col_heading level0 col3\" >RMSE</th>\n",
       "      <th id=\"T_7024d_level0_col4\" class=\"col_heading level0 col4\" >R2</th>\n",
       "      <th id=\"T_7024d_level0_col5\" class=\"col_heading level0 col5\" >RMSLE</th>\n",
       "      <th id=\"T_7024d_level0_col6\" class=\"col_heading level0 col6\" >MAPE</th>\n",
       "    </tr>\n",
       "  </thead>\n",
       "  <tbody>\n",
       "    <tr>\n",
       "      <th id=\"T_7024d_level0_row0\" class=\"row_heading level0 row0\" >0</th>\n",
       "      <td id=\"T_7024d_row0_col0\" class=\"data row0 col0\" >Ridge Regression</td>\n",
       "      <td id=\"T_7024d_row0_col1\" class=\"data row0 col1\" >0.6454</td>\n",
       "      <td id=\"T_7024d_row0_col2\" class=\"data row0 col2\" >0.6660</td>\n",
       "      <td id=\"T_7024d_row0_col3\" class=\"data row0 col3\" >0.8161</td>\n",
       "      <td id=\"T_7024d_row0_col4\" class=\"data row0 col4\" >-46.3885</td>\n",
       "      <td id=\"T_7024d_row0_col5\" class=\"data row0 col5\" >0.2964</td>\n",
       "      <td id=\"T_7024d_row0_col6\" class=\"data row0 col6\" >0.4339</td>\n",
       "    </tr>\n",
       "  </tbody>\n",
       "</table>\n"
      ],
      "text/plain": [
       "<pandas.io.formats.style.Styler at 0x207b09b7990>"
      ]
     },
     "metadata": {},
     "output_type": "display_data"
    },
    {
     "name": "stdout",
     "output_type": "stream",
     "text": [
      "\n",
      "EURCAD_hourly_fractal_dimension_normalized_weight.csv\n"
     ]
    },
    {
     "data": {
      "text/html": [
       "<style type=\"text/css\">\n",
       "</style>\n",
       "<table id=\"T_eb474\">\n",
       "  <thead>\n",
       "    <tr>\n",
       "      <th class=\"blank level0\" >&nbsp;</th>\n",
       "      <th id=\"T_eb474_level0_col0\" class=\"col_heading level0 col0\" >Model</th>\n",
       "      <th id=\"T_eb474_level0_col1\" class=\"col_heading level0 col1\" >MAE</th>\n",
       "      <th id=\"T_eb474_level0_col2\" class=\"col_heading level0 col2\" >MSE</th>\n",
       "      <th id=\"T_eb474_level0_col3\" class=\"col_heading level0 col3\" >RMSE</th>\n",
       "      <th id=\"T_eb474_level0_col4\" class=\"col_heading level0 col4\" >R2</th>\n",
       "      <th id=\"T_eb474_level0_col5\" class=\"col_heading level0 col5\" >RMSLE</th>\n",
       "      <th id=\"T_eb474_level0_col6\" class=\"col_heading level0 col6\" >MAPE</th>\n",
       "    </tr>\n",
       "  </thead>\n",
       "  <tbody>\n",
       "    <tr>\n",
       "      <th id=\"T_eb474_level0_row0\" class=\"row_heading level0 row0\" >0</th>\n",
       "      <td id=\"T_eb474_row0_col0\" class=\"data row0 col0\" >Ridge Regression</td>\n",
       "      <td id=\"T_eb474_row0_col1\" class=\"data row0 col1\" >0.5609</td>\n",
       "      <td id=\"T_eb474_row0_col2\" class=\"data row0 col2\" >0.6007</td>\n",
       "      <td id=\"T_eb474_row0_col3\" class=\"data row0 col3\" >0.7750</td>\n",
       "      <td id=\"T_eb474_row0_col4\" class=\"data row0 col4\" >-89.9034</td>\n",
       "      <td id=\"T_eb474_row0_col5\" class=\"data row0 col5\" >0.2649</td>\n",
       "      <td id=\"T_eb474_row0_col6\" class=\"data row0 col6\" >0.3922</td>\n",
       "    </tr>\n",
       "  </tbody>\n",
       "</table>\n"
      ],
      "text/plain": [
       "<pandas.io.formats.style.Styler at 0x207a51b7190>"
      ]
     },
     "metadata": {},
     "output_type": "display_data"
    },
    {
     "name": "stdout",
     "output_type": "stream",
     "text": [
      "\n",
      "EURCHF_hourly_fractal_dimension_normalized_weight.csv\n"
     ]
    },
    {
     "data": {
      "text/html": [
       "<style type=\"text/css\">\n",
       "</style>\n",
       "<table id=\"T_dbbad\">\n",
       "  <thead>\n",
       "    <tr>\n",
       "      <th class=\"blank level0\" >&nbsp;</th>\n",
       "      <th id=\"T_dbbad_level0_col0\" class=\"col_heading level0 col0\" >Model</th>\n",
       "      <th id=\"T_dbbad_level0_col1\" class=\"col_heading level0 col1\" >MAE</th>\n",
       "      <th id=\"T_dbbad_level0_col2\" class=\"col_heading level0 col2\" >MSE</th>\n",
       "      <th id=\"T_dbbad_level0_col3\" class=\"col_heading level0 col3\" >RMSE</th>\n",
       "      <th id=\"T_dbbad_level0_col4\" class=\"col_heading level0 col4\" >R2</th>\n",
       "      <th id=\"T_dbbad_level0_col5\" class=\"col_heading level0 col5\" >RMSLE</th>\n",
       "      <th id=\"T_dbbad_level0_col6\" class=\"col_heading level0 col6\" >MAPE</th>\n",
       "    </tr>\n",
       "  </thead>\n",
       "  <tbody>\n",
       "    <tr>\n",
       "      <th id=\"T_dbbad_level0_row0\" class=\"row_heading level0 row0\" >0</th>\n",
       "      <td id=\"T_dbbad_row0_col0\" class=\"data row0 col0\" >Ridge Regression</td>\n",
       "      <td id=\"T_dbbad_row0_col1\" class=\"data row0 col1\" >0.6567</td>\n",
       "      <td id=\"T_dbbad_row0_col2\" class=\"data row0 col2\" >0.7007</td>\n",
       "      <td id=\"T_dbbad_row0_col3\" class=\"data row0 col3\" >0.8371</td>\n",
       "      <td id=\"T_dbbad_row0_col4\" class=\"data row0 col4\" >-67.1704</td>\n",
       "      <td id=\"T_dbbad_row0_col5\" class=\"data row0 col5\" >0.3565</td>\n",
       "      <td id=\"T_dbbad_row0_col6\" class=\"data row0 col6\" >0.5740</td>\n",
       "    </tr>\n",
       "  </tbody>\n",
       "</table>\n"
      ],
      "text/plain": [
       "<pandas.io.formats.style.Styler at 0x207b01f2890>"
      ]
     },
     "metadata": {},
     "output_type": "display_data"
    },
    {
     "name": "stdout",
     "output_type": "stream",
     "text": [
      "\n",
      "EURCZK_hourly_fractal_dimension_normalized_weight.csv\n"
     ]
    },
    {
     "data": {
      "text/html": [
       "<style type=\"text/css\">\n",
       "</style>\n",
       "<table id=\"T_6a2fb\">\n",
       "  <thead>\n",
       "    <tr>\n",
       "      <th class=\"blank level0\" >&nbsp;</th>\n",
       "      <th id=\"T_6a2fb_level0_col0\" class=\"col_heading level0 col0\" >Model</th>\n",
       "      <th id=\"T_6a2fb_level0_col1\" class=\"col_heading level0 col1\" >MAE</th>\n",
       "      <th id=\"T_6a2fb_level0_col2\" class=\"col_heading level0 col2\" >MSE</th>\n",
       "      <th id=\"T_6a2fb_level0_col3\" class=\"col_heading level0 col3\" >RMSE</th>\n",
       "      <th id=\"T_6a2fb_level0_col4\" class=\"col_heading level0 col4\" >R2</th>\n",
       "      <th id=\"T_6a2fb_level0_col5\" class=\"col_heading level0 col5\" >RMSLE</th>\n",
       "      <th id=\"T_6a2fb_level0_col6\" class=\"col_heading level0 col6\" >MAPE</th>\n",
       "    </tr>\n",
       "  </thead>\n",
       "  <tbody>\n",
       "    <tr>\n",
       "      <th id=\"T_6a2fb_level0_row0\" class=\"row_heading level0 row0\" >0</th>\n",
       "      <td id=\"T_6a2fb_row0_col0\" class=\"data row0 col0\" >Ridge Regression</td>\n",
       "      <td id=\"T_6a2fb_row0_col1\" class=\"data row0 col1\" >0.8653</td>\n",
       "      <td id=\"T_6a2fb_row0_col2\" class=\"data row0 col2\" >1.9247</td>\n",
       "      <td id=\"T_6a2fb_row0_col3\" class=\"data row0 col3\" >1.3873</td>\n",
       "      <td id=\"T_6a2fb_row0_col4\" class=\"data row0 col4\" >-0.8561</td>\n",
       "      <td id=\"T_6a2fb_row0_col5\" class=\"data row0 col5\" >0.0544</td>\n",
       "      <td id=\"T_6a2fb_row0_col6\" class=\"data row0 col6\" >0.0332</td>\n",
       "    </tr>\n",
       "  </tbody>\n",
       "</table>\n"
      ],
      "text/plain": [
       "<pandas.io.formats.style.Styler at 0x207b0b42190>"
      ]
     },
     "metadata": {},
     "output_type": "display_data"
    },
    {
     "name": "stdout",
     "output_type": "stream",
     "text": [
      "\n",
      "EURDKK_hourly_fractal_dimension_normalized_weight.csv\n"
     ]
    },
    {
     "data": {
      "text/html": [
       "<style type=\"text/css\">\n",
       "</style>\n",
       "<table id=\"T_16871\">\n",
       "  <thead>\n",
       "    <tr>\n",
       "      <th class=\"blank level0\" >&nbsp;</th>\n",
       "      <th id=\"T_16871_level0_col0\" class=\"col_heading level0 col0\" >Model</th>\n",
       "      <th id=\"T_16871_level0_col1\" class=\"col_heading level0 col1\" >MAE</th>\n",
       "      <th id=\"T_16871_level0_col2\" class=\"col_heading level0 col2\" >MSE</th>\n",
       "      <th id=\"T_16871_level0_col3\" class=\"col_heading level0 col3\" >RMSE</th>\n",
       "      <th id=\"T_16871_level0_col4\" class=\"col_heading level0 col4\" >R2</th>\n",
       "      <th id=\"T_16871_level0_col5\" class=\"col_heading level0 col5\" >RMSLE</th>\n",
       "      <th id=\"T_16871_level0_col6\" class=\"col_heading level0 col6\" >MAPE</th>\n",
       "    </tr>\n",
       "  </thead>\n",
       "  <tbody>\n",
       "    <tr>\n",
       "      <th id=\"T_16871_level0_row0\" class=\"row_heading level0 row0\" >0</th>\n",
       "      <td id=\"T_16871_row0_col0\" class=\"data row0 col0\" >Ridge Regression</td>\n",
       "      <td id=\"T_16871_row0_col1\" class=\"data row0 col1\" >0.5585</td>\n",
       "      <td id=\"T_16871_row0_col2\" class=\"data row0 col2\" >0.5287</td>\n",
       "      <td id=\"T_16871_row0_col3\" class=\"data row0 col3\" >0.7271</td>\n",
       "      <td id=\"T_16871_row0_col4\" class=\"data row0 col4\" >-4188.1660</td>\n",
       "      <td id=\"T_16871_row0_col5\" class=\"data row0 col5\" >0.0794</td>\n",
       "      <td id=\"T_16871_row0_col6\" class=\"data row0 col6\" >0.0750</td>\n",
       "    </tr>\n",
       "  </tbody>\n",
       "</table>\n"
      ],
      "text/plain": [
       "<pandas.io.formats.style.Styler at 0x207b0fb8890>"
      ]
     },
     "metadata": {},
     "output_type": "display_data"
    },
    {
     "name": "stdout",
     "output_type": "stream",
     "text": [
      "\n",
      "EURGBP_hourly_fractal_dimension_normalized_weight.csv\n"
     ]
    },
    {
     "data": {
      "text/html": [
       "<style type=\"text/css\">\n",
       "</style>\n",
       "<table id=\"T_b10e5\">\n",
       "  <thead>\n",
       "    <tr>\n",
       "      <th class=\"blank level0\" >&nbsp;</th>\n",
       "      <th id=\"T_b10e5_level0_col0\" class=\"col_heading level0 col0\" >Model</th>\n",
       "      <th id=\"T_b10e5_level0_col1\" class=\"col_heading level0 col1\" >MAE</th>\n",
       "      <th id=\"T_b10e5_level0_col2\" class=\"col_heading level0 col2\" >MSE</th>\n",
       "      <th id=\"T_b10e5_level0_col3\" class=\"col_heading level0 col3\" >RMSE</th>\n",
       "      <th id=\"T_b10e5_level0_col4\" class=\"col_heading level0 col4\" >R2</th>\n",
       "      <th id=\"T_b10e5_level0_col5\" class=\"col_heading level0 col5\" >RMSLE</th>\n",
       "      <th id=\"T_b10e5_level0_col6\" class=\"col_heading level0 col6\" >MAPE</th>\n",
       "    </tr>\n",
       "  </thead>\n",
       "  <tbody>\n",
       "    <tr>\n",
       "      <th id=\"T_b10e5_level0_row0\" class=\"row_heading level0 row0\" >0</th>\n",
       "      <td id=\"T_b10e5_row0_col0\" class=\"data row0 col0\" >Ridge Regression</td>\n",
       "      <td id=\"T_b10e5_row0_col1\" class=\"data row0 col1\" >0.5466</td>\n",
       "      <td id=\"T_b10e5_row0_col2\" class=\"data row0 col2\" >0.6345</td>\n",
       "      <td id=\"T_b10e5_row0_col3\" class=\"data row0 col3\" >0.7965</td>\n",
       "      <td id=\"T_b10e5_row0_col4\" class=\"data row0 col4\" >-277.1694</td>\n",
       "      <td id=\"T_b10e5_row0_col5\" class=\"data row0 col5\" >0.3494</td>\n",
       "      <td id=\"T_b10e5_row0_col6\" class=\"data row0 col6\" >0.6463</td>\n",
       "    </tr>\n",
       "  </tbody>\n",
       "</table>\n"
      ],
      "text/plain": [
       "<pandas.io.formats.style.Styler at 0x207b0e0aed0>"
      ]
     },
     "metadata": {},
     "output_type": "display_data"
    },
    {
     "name": "stdout",
     "output_type": "stream",
     "text": [
      "\n",
      "EURHKD_hourly_fractal_dimension_normalized_weight.csv\n"
     ]
    },
    {
     "data": {
      "text/html": [
       "<style type=\"text/css\">\n",
       "</style>\n",
       "<table id=\"T_0bf85\">\n",
       "  <thead>\n",
       "    <tr>\n",
       "      <th class=\"blank level0\" >&nbsp;</th>\n",
       "      <th id=\"T_0bf85_level0_col0\" class=\"col_heading level0 col0\" >Model</th>\n",
       "      <th id=\"T_0bf85_level0_col1\" class=\"col_heading level0 col1\" >MAE</th>\n",
       "      <th id=\"T_0bf85_level0_col2\" class=\"col_heading level0 col2\" >MSE</th>\n",
       "      <th id=\"T_0bf85_level0_col3\" class=\"col_heading level0 col3\" >RMSE</th>\n",
       "      <th id=\"T_0bf85_level0_col4\" class=\"col_heading level0 col4\" >R2</th>\n",
       "      <th id=\"T_0bf85_level0_col5\" class=\"col_heading level0 col5\" >RMSLE</th>\n",
       "      <th id=\"T_0bf85_level0_col6\" class=\"col_heading level0 col6\" >MAPE</th>\n",
       "    </tr>\n",
       "  </thead>\n",
       "  <tbody>\n",
       "    <tr>\n",
       "      <th id=\"T_0bf85_level0_row0\" class=\"row_heading level0 row0\" >0</th>\n",
       "      <td id=\"T_0bf85_row0_col0\" class=\"data row0 col0\" >Ridge Regression</td>\n",
       "      <td id=\"T_0bf85_row0_col1\" class=\"data row0 col1\" >0.7616</td>\n",
       "      <td id=\"T_0bf85_row0_col2\" class=\"data row0 col2\" >1.7738</td>\n",
       "      <td id=\"T_0bf85_row0_col3\" class=\"data row0 col3\" >1.3318</td>\n",
       "      <td id=\"T_0bf85_row0_col4\" class=\"data row0 col4\" >-1.3018</td>\n",
       "      <td id=\"T_0bf85_row0_col5\" class=\"data row0 col5\" >0.1105</td>\n",
       "      <td id=\"T_0bf85_row0_col6\" class=\"data row0 col6\" >0.0794</td>\n",
       "    </tr>\n",
       "  </tbody>\n",
       "</table>\n"
      ],
      "text/plain": [
       "<pandas.io.formats.style.Styler at 0x207b01c19d0>"
      ]
     },
     "metadata": {},
     "output_type": "display_data"
    },
    {
     "name": "stdout",
     "output_type": "stream",
     "text": [
      "\n",
      "EURHUF_hourly_fractal_dimension_normalized_weight.csv\n"
     ]
    },
    {
     "data": {
      "text/html": [
       "<style type=\"text/css\">\n",
       "</style>\n",
       "<table id=\"T_fbe0e\">\n",
       "  <thead>\n",
       "    <tr>\n",
       "      <th class=\"blank level0\" >&nbsp;</th>\n",
       "      <th id=\"T_fbe0e_level0_col0\" class=\"col_heading level0 col0\" >Model</th>\n",
       "      <th id=\"T_fbe0e_level0_col1\" class=\"col_heading level0 col1\" >MAE</th>\n",
       "      <th id=\"T_fbe0e_level0_col2\" class=\"col_heading level0 col2\" >MSE</th>\n",
       "      <th id=\"T_fbe0e_level0_col3\" class=\"col_heading level0 col3\" >RMSE</th>\n",
       "      <th id=\"T_fbe0e_level0_col4\" class=\"col_heading level0 col4\" >R2</th>\n",
       "      <th id=\"T_fbe0e_level0_col5\" class=\"col_heading level0 col5\" >RMSLE</th>\n",
       "      <th id=\"T_fbe0e_level0_col6\" class=\"col_heading level0 col6\" >MAPE</th>\n",
       "    </tr>\n",
       "  </thead>\n",
       "  <tbody>\n",
       "    <tr>\n",
       "      <th id=\"T_fbe0e_level0_row0\" class=\"row_heading level0 row0\" >0</th>\n",
       "      <td id=\"T_fbe0e_row0_col0\" class=\"data row0 col0\" >Ridge Regression</td>\n",
       "      <td id=\"T_fbe0e_row0_col1\" class=\"data row0 col1\" >18.5598</td>\n",
       "      <td id=\"T_fbe0e_row0_col2\" class=\"data row0 col2\" >683.1535</td>\n",
       "      <td id=\"T_fbe0e_row0_col3\" class=\"data row0 col3\" >26.1372</td>\n",
       "      <td id=\"T_fbe0e_row0_col4\" class=\"data row0 col4\" >0.3933</td>\n",
       "      <td id=\"T_fbe0e_row0_col5\" class=\"data row0 col5\" >0.0815</td>\n",
       "      <td id=\"T_fbe0e_row0_col6\" class=\"data row0 col6\" >0.0577</td>\n",
       "    </tr>\n",
       "  </tbody>\n",
       "</table>\n"
      ],
      "text/plain": [
       "<pandas.io.formats.style.Styler at 0x207b06b0390>"
      ]
     },
     "metadata": {},
     "output_type": "display_data"
    },
    {
     "name": "stdout",
     "output_type": "stream",
     "text": [
      "\n",
      "EURJPY_hourly_fractal_dimension_normalized_weight.csv\n"
     ]
    },
    {
     "data": {
      "text/html": [
       "<style type=\"text/css\">\n",
       "</style>\n",
       "<table id=\"T_6af6e\">\n",
       "  <thead>\n",
       "    <tr>\n",
       "      <th class=\"blank level0\" >&nbsp;</th>\n",
       "      <th id=\"T_6af6e_level0_col0\" class=\"col_heading level0 col0\" >Model</th>\n",
       "      <th id=\"T_6af6e_level0_col1\" class=\"col_heading level0 col1\" >MAE</th>\n",
       "      <th id=\"T_6af6e_level0_col2\" class=\"col_heading level0 col2\" >MSE</th>\n",
       "      <th id=\"T_6af6e_level0_col3\" class=\"col_heading level0 col3\" >RMSE</th>\n",
       "      <th id=\"T_6af6e_level0_col4\" class=\"col_heading level0 col4\" >R2</th>\n",
       "      <th id=\"T_6af6e_level0_col5\" class=\"col_heading level0 col5\" >RMSLE</th>\n",
       "      <th id=\"T_6af6e_level0_col6\" class=\"col_heading level0 col6\" >MAPE</th>\n",
       "    </tr>\n",
       "  </thead>\n",
       "  <tbody>\n",
       "    <tr>\n",
       "      <th id=\"T_6af6e_level0_row0\" class=\"row_heading level0 row0\" >0</th>\n",
       "      <td id=\"T_6af6e_row0_col0\" class=\"data row0 col0\" >Ridge Regression</td>\n",
       "      <td id=\"T_6af6e_row0_col1\" class=\"data row0 col1\" >6.0467</td>\n",
       "      <td id=\"T_6af6e_row0_col2\" class=\"data row0 col2\" >68.7364</td>\n",
       "      <td id=\"T_6af6e_row0_col3\" class=\"data row0 col3\" >8.2907</td>\n",
       "      <td id=\"T_6af6e_row0_col4\" class=\"data row0 col4\" >0.4630</td>\n",
       "      <td id=\"T_6af6e_row0_col5\" class=\"data row0 col5\" >0.0697</td>\n",
       "      <td id=\"T_6af6e_row0_col6\" class=\"data row0 col6\" >0.0501</td>\n",
       "    </tr>\n",
       "  </tbody>\n",
       "</table>\n"
      ],
      "text/plain": [
       "<pandas.io.formats.style.Styler at 0x207b081b250>"
      ]
     },
     "metadata": {},
     "output_type": "display_data"
    },
    {
     "name": "stdout",
     "output_type": "stream",
     "text": [
      "\n",
      "EURNOK_hourly_fractal_dimension_normalized_weight.csv\n"
     ]
    },
    {
     "data": {
      "text/html": [
       "<style type=\"text/css\">\n",
       "</style>\n",
       "<table id=\"T_09de8\">\n",
       "  <thead>\n",
       "    <tr>\n",
       "      <th class=\"blank level0\" >&nbsp;</th>\n",
       "      <th id=\"T_09de8_level0_col0\" class=\"col_heading level0 col0\" >Model</th>\n",
       "      <th id=\"T_09de8_level0_col1\" class=\"col_heading level0 col1\" >MAE</th>\n",
       "      <th id=\"T_09de8_level0_col2\" class=\"col_heading level0 col2\" >MSE</th>\n",
       "      <th id=\"T_09de8_level0_col3\" class=\"col_heading level0 col3\" >RMSE</th>\n",
       "      <th id=\"T_09de8_level0_col4\" class=\"col_heading level0 col4\" >R2</th>\n",
       "      <th id=\"T_09de8_level0_col5\" class=\"col_heading level0 col5\" >RMSLE</th>\n",
       "      <th id=\"T_09de8_level0_col6\" class=\"col_heading level0 col6\" >MAPE</th>\n",
       "    </tr>\n",
       "  </thead>\n",
       "  <tbody>\n",
       "    <tr>\n",
       "      <th id=\"T_09de8_level0_row0\" class=\"row_heading level0 row0\" >0</th>\n",
       "      <td id=\"T_09de8_row0_col0\" class=\"data row0 col0\" >Ridge Regression</td>\n",
       "      <td id=\"T_09de8_row0_col1\" class=\"data row0 col1\" >0.6579</td>\n",
       "      <td id=\"T_09de8_row0_col2\" class=\"data row0 col2\" >0.7900</td>\n",
       "      <td id=\"T_09de8_row0_col3\" class=\"data row0 col3\" >0.8888</td>\n",
       "      <td id=\"T_09de8_row0_col4\" class=\"data row0 col4\" >0.2304</td>\n",
       "      <td id=\"T_09de8_row0_col5\" class=\"data row0 col5\" >0.0794</td>\n",
       "      <td id=\"T_09de8_row0_col6\" class=\"data row0 col6\" >0.0702</td>\n",
       "    </tr>\n",
       "  </tbody>\n",
       "</table>\n"
      ],
      "text/plain": [
       "<pandas.io.formats.style.Styler at 0x207b0a72990>"
      ]
     },
     "metadata": {},
     "output_type": "display_data"
    },
    {
     "name": "stdout",
     "output_type": "stream",
     "text": [
      "\n",
      "EURPLN_hourly_fractal_dimension_normalized_weight.csv\n"
     ]
    },
    {
     "data": {
      "text/html": [
       "<style type=\"text/css\">\n",
       "</style>\n",
       "<table id=\"T_9a869\">\n",
       "  <thead>\n",
       "    <tr>\n",
       "      <th class=\"blank level0\" >&nbsp;</th>\n",
       "      <th id=\"T_9a869_level0_col0\" class=\"col_heading level0 col0\" >Model</th>\n",
       "      <th id=\"T_9a869_level0_col1\" class=\"col_heading level0 col1\" >MAE</th>\n",
       "      <th id=\"T_9a869_level0_col2\" class=\"col_heading level0 col2\" >MSE</th>\n",
       "      <th id=\"T_9a869_level0_col3\" class=\"col_heading level0 col3\" >RMSE</th>\n",
       "      <th id=\"T_9a869_level0_col4\" class=\"col_heading level0 col4\" >R2</th>\n",
       "      <th id=\"T_9a869_level0_col5\" class=\"col_heading level0 col5\" >RMSLE</th>\n",
       "      <th id=\"T_9a869_level0_col6\" class=\"col_heading level0 col6\" >MAPE</th>\n",
       "    </tr>\n",
       "  </thead>\n",
       "  <tbody>\n",
       "    <tr>\n",
       "      <th id=\"T_9a869_level0_row0\" class=\"row_heading level0 row0\" >0</th>\n",
       "      <td id=\"T_9a869_row0_col0\" class=\"data row0 col0\" >Ridge Regression</td>\n",
       "      <td id=\"T_9a869_row0_col1\" class=\"data row0 col1\" >0.7628</td>\n",
       "      <td id=\"T_9a869_row0_col2\" class=\"data row0 col2\" >2.0734</td>\n",
       "      <td id=\"T_9a869_row0_col3\" class=\"data row0 col3\" >1.4399</td>\n",
       "      <td id=\"T_9a869_row0_col4\" class=\"data row0 col4\" >-49.0635</td>\n",
       "      <td id=\"T_9a869_row0_col5\" class=\"data row0 col5\" >0.1961</td>\n",
       "      <td id=\"T_9a869_row0_col6\" class=\"data row0 col6\" >0.1779</td>\n",
       "    </tr>\n",
       "  </tbody>\n",
       "</table>\n"
      ],
      "text/plain": [
       "<pandas.io.formats.style.Styler at 0x207b0e09890>"
      ]
     },
     "metadata": {},
     "output_type": "display_data"
    },
    {
     "name": "stdout",
     "output_type": "stream",
     "text": [
      "\n",
      "EURSEK_hourly_fractal_dimension_normalized_weight.csv\n"
     ]
    },
    {
     "data": {
      "text/html": [
       "<style type=\"text/css\">\n",
       "</style>\n",
       "<table id=\"T_48e9b\">\n",
       "  <thead>\n",
       "    <tr>\n",
       "      <th class=\"blank level0\" >&nbsp;</th>\n",
       "      <th id=\"T_48e9b_level0_col0\" class=\"col_heading level0 col0\" >Model</th>\n",
       "      <th id=\"T_48e9b_level0_col1\" class=\"col_heading level0 col1\" >MAE</th>\n",
       "      <th id=\"T_48e9b_level0_col2\" class=\"col_heading level0 col2\" >MSE</th>\n",
       "      <th id=\"T_48e9b_level0_col3\" class=\"col_heading level0 col3\" >RMSE</th>\n",
       "      <th id=\"T_48e9b_level0_col4\" class=\"col_heading level0 col4\" >R2</th>\n",
       "      <th id=\"T_48e9b_level0_col5\" class=\"col_heading level0 col5\" >RMSLE</th>\n",
       "      <th id=\"T_48e9b_level0_col6\" class=\"col_heading level0 col6\" >MAPE</th>\n",
       "    </tr>\n",
       "  </thead>\n",
       "  <tbody>\n",
       "    <tr>\n",
       "      <th id=\"T_48e9b_level0_row0\" class=\"row_heading level0 row0\" >0</th>\n",
       "      <td id=\"T_48e9b_row0_col0\" class=\"data row0 col0\" >Ridge Regression</td>\n",
       "      <td id=\"T_48e9b_row0_col1\" class=\"data row0 col1\" >0.5144</td>\n",
       "      <td id=\"T_48e9b_row0_col2\" class=\"data row0 col2\" >0.5905</td>\n",
       "      <td id=\"T_48e9b_row0_col3\" class=\"data row0 col3\" >0.7684</td>\n",
       "      <td id=\"T_48e9b_row0_col4\" class=\"data row0 col4\" >-0.1741</td>\n",
       "      <td id=\"T_48e9b_row0_col5\" class=\"data row0 col5\" >0.0632</td>\n",
       "      <td id=\"T_48e9b_row0_col6\" class=\"data row0 col6\" >0.0509</td>\n",
       "    </tr>\n",
       "  </tbody>\n",
       "</table>\n"
      ],
      "text/plain": [
       "<pandas.io.formats.style.Styler at 0x207b1091890>"
      ]
     },
     "metadata": {},
     "output_type": "display_data"
    },
    {
     "name": "stdout",
     "output_type": "stream",
     "text": [
      "\n",
      "EURTRY_hourly_fractal_dimension_normalized_weight.csv\n"
     ]
    },
    {
     "data": {
      "text/html": [
       "<style type=\"text/css\">\n",
       "</style>\n",
       "<table id=\"T_843bd\">\n",
       "  <thead>\n",
       "    <tr>\n",
       "      <th class=\"blank level0\" >&nbsp;</th>\n",
       "      <th id=\"T_843bd_level0_col0\" class=\"col_heading level0 col0\" >Model</th>\n",
       "      <th id=\"T_843bd_level0_col1\" class=\"col_heading level0 col1\" >MAE</th>\n",
       "      <th id=\"T_843bd_level0_col2\" class=\"col_heading level0 col2\" >MSE</th>\n",
       "      <th id=\"T_843bd_level0_col3\" class=\"col_heading level0 col3\" >RMSE</th>\n",
       "      <th id=\"T_843bd_level0_col4\" class=\"col_heading level0 col4\" >R2</th>\n",
       "      <th id=\"T_843bd_level0_col5\" class=\"col_heading level0 col5\" >RMSLE</th>\n",
       "      <th id=\"T_843bd_level0_col6\" class=\"col_heading level0 col6\" >MAPE</th>\n",
       "    </tr>\n",
       "  </thead>\n",
       "  <tbody>\n",
       "    <tr>\n",
       "      <th id=\"T_843bd_level0_row0\" class=\"row_heading level0 row0\" >0</th>\n",
       "      <td id=\"T_843bd_row0_col0\" class=\"data row0 col0\" >Ridge Regression</td>\n",
       "      <td id=\"T_843bd_row0_col1\" class=\"data row0 col1\" >1.8984</td>\n",
       "      <td id=\"T_843bd_row0_col2\" class=\"data row0 col2\" >8.3084</td>\n",
       "      <td id=\"T_843bd_row0_col3\" class=\"data row0 col3\" >2.8824</td>\n",
       "      <td id=\"T_843bd_row0_col4\" class=\"data row0 col4\" >0.5984</td>\n",
       "      <td id=\"T_843bd_row0_col5\" class=\"data row0 col5\" >0.3123</td>\n",
       "      <td id=\"T_843bd_row0_col6\" class=\"data row0 col6\" >0.3707</td>\n",
       "    </tr>\n",
       "  </tbody>\n",
       "</table>\n"
      ],
      "text/plain": [
       "<pandas.io.formats.style.Styler at 0x207b09b7990>"
      ]
     },
     "metadata": {},
     "output_type": "display_data"
    },
    {
     "name": "stdout",
     "output_type": "stream",
     "text": [
      "\n",
      "EURUSD_hourly_fractal_dimension_normalized_weight.csv\n"
     ]
    },
    {
     "data": {
      "text/html": [
       "<style type=\"text/css\">\n",
       "</style>\n",
       "<table id=\"T_95b10\">\n",
       "  <thead>\n",
       "    <tr>\n",
       "      <th class=\"blank level0\" >&nbsp;</th>\n",
       "      <th id=\"T_95b10_level0_col0\" class=\"col_heading level0 col0\" >Model</th>\n",
       "      <th id=\"T_95b10_level0_col1\" class=\"col_heading level0 col1\" >MAE</th>\n",
       "      <th id=\"T_95b10_level0_col2\" class=\"col_heading level0 col2\" >MSE</th>\n",
       "      <th id=\"T_95b10_level0_col3\" class=\"col_heading level0 col3\" >RMSE</th>\n",
       "      <th id=\"T_95b10_level0_col4\" class=\"col_heading level0 col4\" >R2</th>\n",
       "      <th id=\"T_95b10_level0_col5\" class=\"col_heading level0 col5\" >RMSLE</th>\n",
       "      <th id=\"T_95b10_level0_col6\" class=\"col_heading level0 col6\" >MAPE</th>\n",
       "    </tr>\n",
       "  </thead>\n",
       "  <tbody>\n",
       "    <tr>\n",
       "      <th id=\"T_95b10_level0_row0\" class=\"row_heading level0 row0\" >0</th>\n",
       "      <td id=\"T_95b10_row0_col0\" class=\"data row0 col0\" >Ridge Regression</td>\n",
       "      <td id=\"T_95b10_row0_col1\" class=\"data row0 col1\" >0.4892</td>\n",
       "      <td id=\"T_95b10_row0_col2\" class=\"data row0 col2\" >0.6291</td>\n",
       "      <td id=\"T_95b10_row0_col3\" class=\"data row0 col3\" >0.7931</td>\n",
       "      <td id=\"T_95b10_row0_col4\" class=\"data row0 col4\" >-47.5705</td>\n",
       "      <td id=\"T_95b10_row0_col5\" class=\"data row0 col5\" >0.2656</td>\n",
       "      <td id=\"T_95b10_row0_col6\" class=\"data row0 col6\" >0.4069</td>\n",
       "    </tr>\n",
       "  </tbody>\n",
       "</table>\n"
      ],
      "text/plain": [
       "<pandas.io.formats.style.Styler at 0x207b0e09890>"
      ]
     },
     "metadata": {},
     "output_type": "display_data"
    },
    {
     "name": "stdout",
     "output_type": "stream",
     "text": [
      "\n",
      "EURZAR_hourly_fractal_dimension_normalized_weight.csv\n"
     ]
    },
    {
     "data": {
      "text/html": [
       "<style type=\"text/css\">\n",
       "</style>\n",
       "<table id=\"T_fd7c5\">\n",
       "  <thead>\n",
       "    <tr>\n",
       "      <th class=\"blank level0\" >&nbsp;</th>\n",
       "      <th id=\"T_fd7c5_level0_col0\" class=\"col_heading level0 col0\" >Model</th>\n",
       "      <th id=\"T_fd7c5_level0_col1\" class=\"col_heading level0 col1\" >MAE</th>\n",
       "      <th id=\"T_fd7c5_level0_col2\" class=\"col_heading level0 col2\" >MSE</th>\n",
       "      <th id=\"T_fd7c5_level0_col3\" class=\"col_heading level0 col3\" >RMSE</th>\n",
       "      <th id=\"T_fd7c5_level0_col4\" class=\"col_heading level0 col4\" >R2</th>\n",
       "      <th id=\"T_fd7c5_level0_col5\" class=\"col_heading level0 col5\" >RMSLE</th>\n",
       "      <th id=\"T_fd7c5_level0_col6\" class=\"col_heading level0 col6\" >MAPE</th>\n",
       "    </tr>\n",
       "  </thead>\n",
       "  <tbody>\n",
       "    <tr>\n",
       "      <th id=\"T_fd7c5_level0_row0\" class=\"row_heading level0 row0\" >0</th>\n",
       "      <td id=\"T_fd7c5_row0_col0\" class=\"data row0 col0\" >Ridge Regression</td>\n",
       "      <td id=\"T_fd7c5_row0_col1\" class=\"data row0 col1\" >1.6086</td>\n",
       "      <td id=\"T_fd7c5_row0_col2\" class=\"data row0 col2\" >3.6139</td>\n",
       "      <td id=\"T_fd7c5_row0_col3\" class=\"data row0 col3\" >1.9010</td>\n",
       "      <td id=\"T_fd7c5_row0_col4\" class=\"data row0 col4\" >0.5792</td>\n",
       "      <td id=\"T_fd7c5_row0_col5\" class=\"data row0 col5\" >0.1268</td>\n",
       "      <td id=\"T_fd7c5_row0_col6\" class=\"data row0 col6\" >0.1167</td>\n",
       "    </tr>\n",
       "  </tbody>\n",
       "</table>\n"
      ],
      "text/plain": [
       "<pandas.io.formats.style.Styler at 0x207a732f510>"
      ]
     },
     "metadata": {},
     "output_type": "display_data"
    },
    {
     "name": "stdout",
     "output_type": "stream",
     "text": [
      "\n",
      "GBPAUD_hourly_fractal_dimension_normalized_weight.csv\n"
     ]
    },
    {
     "data": {
      "text/html": [
       "<style type=\"text/css\">\n",
       "</style>\n",
       "<table id=\"T_0200a\">\n",
       "  <thead>\n",
       "    <tr>\n",
       "      <th class=\"blank level0\" >&nbsp;</th>\n",
       "      <th id=\"T_0200a_level0_col0\" class=\"col_heading level0 col0\" >Model</th>\n",
       "      <th id=\"T_0200a_level0_col1\" class=\"col_heading level0 col1\" >MAE</th>\n",
       "      <th id=\"T_0200a_level0_col2\" class=\"col_heading level0 col2\" >MSE</th>\n",
       "      <th id=\"T_0200a_level0_col3\" class=\"col_heading level0 col3\" >RMSE</th>\n",
       "      <th id=\"T_0200a_level0_col4\" class=\"col_heading level0 col4\" >R2</th>\n",
       "      <th id=\"T_0200a_level0_col5\" class=\"col_heading level0 col5\" >RMSLE</th>\n",
       "      <th id=\"T_0200a_level0_col6\" class=\"col_heading level0 col6\" >MAPE</th>\n",
       "    </tr>\n",
       "  </thead>\n",
       "  <tbody>\n",
       "    <tr>\n",
       "      <th id=\"T_0200a_level0_row0\" class=\"row_heading level0 row0\" >0</th>\n",
       "      <td id=\"T_0200a_row0_col0\" class=\"data row0 col0\" >Ridge Regression</td>\n",
       "      <td id=\"T_0200a_row0_col1\" class=\"data row0 col1\" >0.6291</td>\n",
       "      <td id=\"T_0200a_row0_col2\" class=\"data row0 col2\" >0.5783</td>\n",
       "      <td id=\"T_0200a_row0_col3\" class=\"data row0 col3\" >0.7604</td>\n",
       "      <td id=\"T_0200a_row0_col4\" class=\"data row0 col4\" >-25.0892</td>\n",
       "      <td id=\"T_0200a_row0_col5\" class=\"data row0 col5\" >0.2581</td>\n",
       "      <td id=\"T_0200a_row0_col6\" class=\"data row0 col6\" >0.3562</td>\n",
       "    </tr>\n",
       "  </tbody>\n",
       "</table>\n"
      ],
      "text/plain": [
       "<pandas.io.formats.style.Styler at 0x207b09b5ed0>"
      ]
     },
     "metadata": {},
     "output_type": "display_data"
    },
    {
     "name": "stdout",
     "output_type": "stream",
     "text": [
      "\n",
      "GBPCAD_hourly_fractal_dimension_normalized_weight.csv\n"
     ]
    },
    {
     "data": {
      "text/html": [
       "<style type=\"text/css\">\n",
       "</style>\n",
       "<table id=\"T_7d862\">\n",
       "  <thead>\n",
       "    <tr>\n",
       "      <th class=\"blank level0\" >&nbsp;</th>\n",
       "      <th id=\"T_7d862_level0_col0\" class=\"col_heading level0 col0\" >Model</th>\n",
       "      <th id=\"T_7d862_level0_col1\" class=\"col_heading level0 col1\" >MAE</th>\n",
       "      <th id=\"T_7d862_level0_col2\" class=\"col_heading level0 col2\" >MSE</th>\n",
       "      <th id=\"T_7d862_level0_col3\" class=\"col_heading level0 col3\" >RMSE</th>\n",
       "      <th id=\"T_7d862_level0_col4\" class=\"col_heading level0 col4\" >R2</th>\n",
       "      <th id=\"T_7d862_level0_col5\" class=\"col_heading level0 col5\" >RMSLE</th>\n",
       "      <th id=\"T_7d862_level0_col6\" class=\"col_heading level0 col6\" >MAPE</th>\n",
       "    </tr>\n",
       "  </thead>\n",
       "  <tbody>\n",
       "    <tr>\n",
       "      <th id=\"T_7d862_level0_row0\" class=\"row_heading level0 row0\" >0</th>\n",
       "      <td id=\"T_7d862_row0_col0\" class=\"data row0 col0\" >Ridge Regression</td>\n",
       "      <td id=\"T_7d862_row0_col1\" class=\"data row0 col1\" >0.6398</td>\n",
       "      <td id=\"T_7d862_row0_col2\" class=\"data row0 col2\" >0.6294</td>\n",
       "      <td id=\"T_7d862_row0_col3\" class=\"data row0 col3\" >0.7933</td>\n",
       "      <td id=\"T_7d862_row0_col4\" class=\"data row0 col4\" >-44.0140</td>\n",
       "      <td id=\"T_7d862_row0_col5\" class=\"data row0 col5\" >0.2690</td>\n",
       "      <td id=\"T_7d862_row0_col6\" class=\"data row0 col6\" >0.3768</td>\n",
       "    </tr>\n",
       "  </tbody>\n",
       "</table>\n"
      ],
      "text/plain": [
       "<pandas.io.formats.style.Styler at 0x207b0c956d0>"
      ]
     },
     "metadata": {},
     "output_type": "display_data"
    },
    {
     "name": "stdout",
     "output_type": "stream",
     "text": [
      "\n",
      "GBPCHF_hourly_fractal_dimension_normalized_weight.csv\n"
     ]
    },
    {
     "data": {
      "text/html": [
       "<style type=\"text/css\">\n",
       "</style>\n",
       "<table id=\"T_7dfde\">\n",
       "  <thead>\n",
       "    <tr>\n",
       "      <th class=\"blank level0\" >&nbsp;</th>\n",
       "      <th id=\"T_7dfde_level0_col0\" class=\"col_heading level0 col0\" >Model</th>\n",
       "      <th id=\"T_7dfde_level0_col1\" class=\"col_heading level0 col1\" >MAE</th>\n",
       "      <th id=\"T_7dfde_level0_col2\" class=\"col_heading level0 col2\" >MSE</th>\n",
       "      <th id=\"T_7dfde_level0_col3\" class=\"col_heading level0 col3\" >RMSE</th>\n",
       "      <th id=\"T_7dfde_level0_col4\" class=\"col_heading level0 col4\" >R2</th>\n",
       "      <th id=\"T_7dfde_level0_col5\" class=\"col_heading level0 col5\" >RMSLE</th>\n",
       "      <th id=\"T_7dfde_level0_col6\" class=\"col_heading level0 col6\" >MAPE</th>\n",
       "    </tr>\n",
       "  </thead>\n",
       "  <tbody>\n",
       "    <tr>\n",
       "      <th id=\"T_7dfde_level0_row0\" class=\"row_heading level0 row0\" >0</th>\n",
       "      <td id=\"T_7dfde_row0_col0\" class=\"data row0 col0\" >Ridge Regression</td>\n",
       "      <td id=\"T_7dfde_row0_col1\" class=\"data row0 col1\" >0.5048</td>\n",
       "      <td id=\"T_7dfde_row0_col2\" class=\"data row0 col2\" >0.4478</td>\n",
       "      <td id=\"T_7dfde_row0_col3\" class=\"data row0 col3\" >0.6692</td>\n",
       "      <td id=\"T_7dfde_row0_col4\" class=\"data row0 col4\" >-23.0924</td>\n",
       "      <td id=\"T_7dfde_row0_col5\" class=\"data row0 col5\" >0.2485</td>\n",
       "      <td id=\"T_7dfde_row0_col6\" class=\"data row0 col6\" >0.3689</td>\n",
       "    </tr>\n",
       "  </tbody>\n",
       "</table>\n"
      ],
      "text/plain": [
       "<pandas.io.formats.style.Styler at 0x207b01c3fd0>"
      ]
     },
     "metadata": {},
     "output_type": "display_data"
    },
    {
     "name": "stdout",
     "output_type": "stream",
     "text": [
      "\n",
      "GBPHKD_hourly_fractal_dimension_normalized_weight.csv\n"
     ]
    },
    {
     "data": {
      "text/html": [
       "<style type=\"text/css\">\n",
       "</style>\n",
       "<table id=\"T_74e53\">\n",
       "  <thead>\n",
       "    <tr>\n",
       "      <th class=\"blank level0\" >&nbsp;</th>\n",
       "      <th id=\"T_74e53_level0_col0\" class=\"col_heading level0 col0\" >Model</th>\n",
       "      <th id=\"T_74e53_level0_col1\" class=\"col_heading level0 col1\" >MAE</th>\n",
       "      <th id=\"T_74e53_level0_col2\" class=\"col_heading level0 col2\" >MSE</th>\n",
       "      <th id=\"T_74e53_level0_col3\" class=\"col_heading level0 col3\" >RMSE</th>\n",
       "      <th id=\"T_74e53_level0_col4\" class=\"col_heading level0 col4\" >R2</th>\n",
       "      <th id=\"T_74e53_level0_col5\" class=\"col_heading level0 col5\" >RMSLE</th>\n",
       "      <th id=\"T_74e53_level0_col6\" class=\"col_heading level0 col6\" >MAPE</th>\n",
       "    </tr>\n",
       "  </thead>\n",
       "  <tbody>\n",
       "    <tr>\n",
       "      <th id=\"T_74e53_level0_row0\" class=\"row_heading level0 row0\" >0</th>\n",
       "      <td id=\"T_74e53_row0_col0\" class=\"data row0 col0\" >Ridge Regression</td>\n",
       "      <td id=\"T_74e53_row0_col1\" class=\"data row0 col1\" >0.7486</td>\n",
       "      <td id=\"T_74e53_row0_col2\" class=\"data row0 col2\" >0.9474</td>\n",
       "      <td id=\"T_74e53_row0_col3\" class=\"data row0 col3\" >0.9734</td>\n",
       "      <td id=\"T_74e53_row0_col4\" class=\"data row0 col4\" >0.2776</td>\n",
       "      <td id=\"T_74e53_row0_col5\" class=\"data row0 col5\" >0.0773</td>\n",
       "      <td id=\"T_74e53_row0_col6\" class=\"data row0 col6\" >0.0644</td>\n",
       "    </tr>\n",
       "  </tbody>\n",
       "</table>\n"
      ],
      "text/plain": [
       "<pandas.io.formats.style.Styler at 0x207b069c090>"
      ]
     },
     "metadata": {},
     "output_type": "display_data"
    },
    {
     "name": "stdout",
     "output_type": "stream",
     "text": [
      "\n",
      "GBPJPY_hourly_fractal_dimension_normalized_weight.csv\n"
     ]
    },
    {
     "data": {
      "text/html": [
       "<style type=\"text/css\">\n",
       "</style>\n",
       "<table id=\"T_92b63\">\n",
       "  <thead>\n",
       "    <tr>\n",
       "      <th class=\"blank level0\" >&nbsp;</th>\n",
       "      <th id=\"T_92b63_level0_col0\" class=\"col_heading level0 col0\" >Model</th>\n",
       "      <th id=\"T_92b63_level0_col1\" class=\"col_heading level0 col1\" >MAE</th>\n",
       "      <th id=\"T_92b63_level0_col2\" class=\"col_heading level0 col2\" >MSE</th>\n",
       "      <th id=\"T_92b63_level0_col3\" class=\"col_heading level0 col3\" >RMSE</th>\n",
       "      <th id=\"T_92b63_level0_col4\" class=\"col_heading level0 col4\" >R2</th>\n",
       "      <th id=\"T_92b63_level0_col5\" class=\"col_heading level0 col5\" >RMSLE</th>\n",
       "      <th id=\"T_92b63_level0_col6\" class=\"col_heading level0 col6\" >MAPE</th>\n",
       "    </tr>\n",
       "  </thead>\n",
       "  <tbody>\n",
       "    <tr>\n",
       "      <th id=\"T_92b63_level0_row0\" class=\"row_heading level0 row0\" >0</th>\n",
       "      <td id=\"T_92b63_row0_col0\" class=\"data row0 col0\" >Ridge Regression</td>\n",
       "      <td id=\"T_92b63_row0_col1\" class=\"data row0 col1\" >9.3407</td>\n",
       "      <td id=\"T_92b63_row0_col2\" class=\"data row0 col2\" >139.7596</td>\n",
       "      <td id=\"T_92b63_row0_col3\" class=\"data row0 col3\" >11.8220</td>\n",
       "      <td id=\"T_92b63_row0_col4\" class=\"data row0 col4\" >0.5326</td>\n",
       "      <td id=\"T_92b63_row0_col5\" class=\"data row0 col5\" >0.0795</td>\n",
       "      <td id=\"T_92b63_row0_col6\" class=\"data row0 col6\" >0.0632</td>\n",
       "    </tr>\n",
       "  </tbody>\n",
       "</table>\n"
      ],
      "text/plain": [
       "<pandas.io.formats.style.Styler at 0x207b01c2790>"
      ]
     },
     "metadata": {},
     "output_type": "display_data"
    },
    {
     "name": "stdout",
     "output_type": "stream",
     "text": [
      "\n",
      "GBPNZD_hourly_fractal_dimension_normalized_weight.csv\n"
     ]
    },
    {
     "data": {
      "text/html": [
       "<style type=\"text/css\">\n",
       "</style>\n",
       "<table id=\"T_80b86\">\n",
       "  <thead>\n",
       "    <tr>\n",
       "      <th class=\"blank level0\" >&nbsp;</th>\n",
       "      <th id=\"T_80b86_level0_col0\" class=\"col_heading level0 col0\" >Model</th>\n",
       "      <th id=\"T_80b86_level0_col1\" class=\"col_heading level0 col1\" >MAE</th>\n",
       "      <th id=\"T_80b86_level0_col2\" class=\"col_heading level0 col2\" >MSE</th>\n",
       "      <th id=\"T_80b86_level0_col3\" class=\"col_heading level0 col3\" >RMSE</th>\n",
       "      <th id=\"T_80b86_level0_col4\" class=\"col_heading level0 col4\" >R2</th>\n",
       "      <th id=\"T_80b86_level0_col5\" class=\"col_heading level0 col5\" >RMSLE</th>\n",
       "      <th id=\"T_80b86_level0_col6\" class=\"col_heading level0 col6\" >MAPE</th>\n",
       "    </tr>\n",
       "  </thead>\n",
       "  <tbody>\n",
       "    <tr>\n",
       "      <th id=\"T_80b86_level0_row0\" class=\"row_heading level0 row0\" >0</th>\n",
       "      <td id=\"T_80b86_row0_col0\" class=\"data row0 col0\" >Ridge Regression</td>\n",
       "      <td id=\"T_80b86_row0_col1\" class=\"data row0 col1\" >0.3672</td>\n",
       "      <td id=\"T_80b86_row0_col2\" class=\"data row0 col2\" >0.4279</td>\n",
       "      <td id=\"T_80b86_row0_col3\" class=\"data row0 col3\" >0.6542</td>\n",
       "      <td id=\"T_80b86_row0_col4\" class=\"data row0 col4\" >-7.8648</td>\n",
       "      <td id=\"T_80b86_row0_col5\" class=\"data row0 col5\" >0.1553</td>\n",
       "      <td id=\"T_80b86_row0_col6\" class=\"data row0 col6\" >0.1826</td>\n",
       "    </tr>\n",
       "  </tbody>\n",
       "</table>\n"
      ],
      "text/plain": [
       "<pandas.io.formats.style.Styler at 0x207b01c2090>"
      ]
     },
     "metadata": {},
     "output_type": "display_data"
    },
    {
     "name": "stdout",
     "output_type": "stream",
     "text": [
      "\n",
      "GBPPLN_hourly_fractal_dimension_normalized_weight.csv\n"
     ]
    },
    {
     "data": {
      "text/html": [
       "<style type=\"text/css\">\n",
       "</style>\n",
       "<table id=\"T_96924\">\n",
       "  <thead>\n",
       "    <tr>\n",
       "      <th class=\"blank level0\" >&nbsp;</th>\n",
       "      <th id=\"T_96924_level0_col0\" class=\"col_heading level0 col0\" >Model</th>\n",
       "      <th id=\"T_96924_level0_col1\" class=\"col_heading level0 col1\" >MAE</th>\n",
       "      <th id=\"T_96924_level0_col2\" class=\"col_heading level0 col2\" >MSE</th>\n",
       "      <th id=\"T_96924_level0_col3\" class=\"col_heading level0 col3\" >RMSE</th>\n",
       "      <th id=\"T_96924_level0_col4\" class=\"col_heading level0 col4\" >R2</th>\n",
       "      <th id=\"T_96924_level0_col5\" class=\"col_heading level0 col5\" >RMSLE</th>\n",
       "      <th id=\"T_96924_level0_col6\" class=\"col_heading level0 col6\" >MAPE</th>\n",
       "    </tr>\n",
       "  </thead>\n",
       "  <tbody>\n",
       "    <tr>\n",
       "      <th id=\"T_96924_level0_row0\" class=\"row_heading level0 row0\" >0</th>\n",
       "      <td id=\"T_96924_row0_col0\" class=\"data row0 col0\" >Ridge Regression</td>\n",
       "      <td id=\"T_96924_row0_col1\" class=\"data row0 col1\" >0.7039</td>\n",
       "      <td id=\"T_96924_row0_col2\" class=\"data row0 col2\" >0.8336</td>\n",
       "      <td id=\"T_96924_row0_col3\" class=\"data row0 col3\" >0.9130</td>\n",
       "      <td id=\"T_96924_row0_col4\" class=\"data row0 col4\" >-5.6729</td>\n",
       "      <td id=\"T_96924_row0_col5\" class=\"data row0 col5\" >0.1350</td>\n",
       "      <td id=\"T_96924_row0_col6\" class=\"data row0 col6\" >0.1362</td>\n",
       "    </tr>\n",
       "  </tbody>\n",
       "</table>\n"
      ],
      "text/plain": [
       "<pandas.io.formats.style.Styler at 0x207b0b3f090>"
      ]
     },
     "metadata": {},
     "output_type": "display_data"
    },
    {
     "name": "stdout",
     "output_type": "stream",
     "text": [
      "\n",
      "GBPUSD_hourly_fractal_dimension_normalized_weight.csv\n"
     ]
    },
    {
     "data": {
      "text/html": [
       "<style type=\"text/css\">\n",
       "</style>\n",
       "<table id=\"T_9d655\">\n",
       "  <thead>\n",
       "    <tr>\n",
       "      <th class=\"blank level0\" >&nbsp;</th>\n",
       "      <th id=\"T_9d655_level0_col0\" class=\"col_heading level0 col0\" >Model</th>\n",
       "      <th id=\"T_9d655_level0_col1\" class=\"col_heading level0 col1\" >MAE</th>\n",
       "      <th id=\"T_9d655_level0_col2\" class=\"col_heading level0 col2\" >MSE</th>\n",
       "      <th id=\"T_9d655_level0_col3\" class=\"col_heading level0 col3\" >RMSE</th>\n",
       "      <th id=\"T_9d655_level0_col4\" class=\"col_heading level0 col4\" >R2</th>\n",
       "      <th id=\"T_9d655_level0_col5\" class=\"col_heading level0 col5\" >RMSLE</th>\n",
       "      <th id=\"T_9d655_level0_col6\" class=\"col_heading level0 col6\" >MAPE</th>\n",
       "    </tr>\n",
       "  </thead>\n",
       "  <tbody>\n",
       "    <tr>\n",
       "      <th id=\"T_9d655_level0_row0\" class=\"row_heading level0 row0\" >0</th>\n",
       "      <td id=\"T_9d655_row0_col0\" class=\"data row0 col0\" >Ridge Regression</td>\n",
       "      <td id=\"T_9d655_row0_col1\" class=\"data row0 col1\" >0.6615</td>\n",
       "      <td id=\"T_9d655_row0_col2\" class=\"data row0 col2\" >0.7682</td>\n",
       "      <td id=\"T_9d655_row0_col3\" class=\"data row0 col3\" >0.8765</td>\n",
       "      <td id=\"T_9d655_row0_col4\" class=\"data row0 col4\" >-33.1120</td>\n",
       "      <td id=\"T_9d655_row0_col5\" class=\"data row0 col5\" >0.3128</td>\n",
       "      <td id=\"T_9d655_row0_col6\" class=\"data row0 col6\" >0.4633</td>\n",
       "    </tr>\n",
       "  </tbody>\n",
       "</table>\n"
      ],
      "text/plain": [
       "<pandas.io.formats.style.Styler at 0x207b1c65390>"
      ]
     },
     "metadata": {},
     "output_type": "display_data"
    },
    {
     "name": "stdout",
     "output_type": "stream",
     "text": [
      "\n",
      "HKDJPY_hourly_fractal_dimension_normalized_weight.csv\n"
     ]
    },
    {
     "data": {
      "text/html": [
       "<style type=\"text/css\">\n",
       "</style>\n",
       "<table id=\"T_77104\">\n",
       "  <thead>\n",
       "    <tr>\n",
       "      <th class=\"blank level0\" >&nbsp;</th>\n",
       "      <th id=\"T_77104_level0_col0\" class=\"col_heading level0 col0\" >Model</th>\n",
       "      <th id=\"T_77104_level0_col1\" class=\"col_heading level0 col1\" >MAE</th>\n",
       "      <th id=\"T_77104_level0_col2\" class=\"col_heading level0 col2\" >MSE</th>\n",
       "      <th id=\"T_77104_level0_col3\" class=\"col_heading level0 col3\" >RMSE</th>\n",
       "      <th id=\"T_77104_level0_col4\" class=\"col_heading level0 col4\" >R2</th>\n",
       "      <th id=\"T_77104_level0_col5\" class=\"col_heading level0 col5\" >RMSLE</th>\n",
       "      <th id=\"T_77104_level0_col6\" class=\"col_heading level0 col6\" >MAPE</th>\n",
       "    </tr>\n",
       "  </thead>\n",
       "  <tbody>\n",
       "    <tr>\n",
       "      <th id=\"T_77104_level0_row0\" class=\"row_heading level0 row0\" >0</th>\n",
       "      <td id=\"T_77104_row0_col0\" class=\"data row0 col0\" >Ridge Regression</td>\n",
       "      <td id=\"T_77104_row0_col1\" class=\"data row0 col1\" >1.2475</td>\n",
       "      <td id=\"T_77104_row0_col2\" class=\"data row0 col2\" >2.6734</td>\n",
       "      <td id=\"T_77104_row0_col3\" class=\"data row0 col3\" >1.6351</td>\n",
       "      <td id=\"T_77104_row0_col4\" class=\"data row0 col4\" >0.5138</td>\n",
       "      <td id=\"T_77104_row0_col5\" class=\"data row0 col5\" >0.1093</td>\n",
       "      <td id=\"T_77104_row0_col6\" class=\"data row0 col6\" >0.0952</td>\n",
       "    </tr>\n",
       "  </tbody>\n",
       "</table>\n"
      ],
      "text/plain": [
       "<pandas.io.formats.style.Styler at 0x207a732e7d0>"
      ]
     },
     "metadata": {},
     "output_type": "display_data"
    },
    {
     "name": "stdout",
     "output_type": "stream",
     "text": [
      "\n",
      "NZDCAD_hourly_fractal_dimension_normalized_weight.csv\n"
     ]
    },
    {
     "data": {
      "text/html": [
       "<style type=\"text/css\">\n",
       "</style>\n",
       "<table id=\"T_08d61\">\n",
       "  <thead>\n",
       "    <tr>\n",
       "      <th class=\"blank level0\" >&nbsp;</th>\n",
       "      <th id=\"T_08d61_level0_col0\" class=\"col_heading level0 col0\" >Model</th>\n",
       "      <th id=\"T_08d61_level0_col1\" class=\"col_heading level0 col1\" >MAE</th>\n",
       "      <th id=\"T_08d61_level0_col2\" class=\"col_heading level0 col2\" >MSE</th>\n",
       "      <th id=\"T_08d61_level0_col3\" class=\"col_heading level0 col3\" >RMSE</th>\n",
       "      <th id=\"T_08d61_level0_col4\" class=\"col_heading level0 col4\" >R2</th>\n",
       "      <th id=\"T_08d61_level0_col5\" class=\"col_heading level0 col5\" >RMSLE</th>\n",
       "      <th id=\"T_08d61_level0_col6\" class=\"col_heading level0 col6\" >MAPE</th>\n",
       "    </tr>\n",
       "  </thead>\n",
       "  <tbody>\n",
       "    <tr>\n",
       "      <th id=\"T_08d61_level0_row0\" class=\"row_heading level0 row0\" >0</th>\n",
       "      <td id=\"T_08d61_row0_col0\" class=\"data row0 col0\" >Ridge Regression</td>\n",
       "      <td id=\"T_08d61_row0_col1\" class=\"data row0 col1\" >0.4568</td>\n",
       "      <td id=\"T_08d61_row0_col2\" class=\"data row0 col2\" >0.6501</td>\n",
       "      <td id=\"T_08d61_row0_col3\" class=\"data row0 col3\" >0.8063</td>\n",
       "      <td id=\"T_08d61_row0_col4\" class=\"data row0 col4\" >-175.7321</td>\n",
       "      <td id=\"T_08d61_row0_col5\" class=\"data row0 col5\" >0.2949</td>\n",
       "      <td id=\"T_08d61_row0_col6\" class=\"data row0 col6\" >0.5349</td>\n",
       "    </tr>\n",
       "  </tbody>\n",
       "</table>\n"
      ],
      "text/plain": [
       "<pandas.io.formats.style.Styler at 0x207b0fc2890>"
      ]
     },
     "metadata": {},
     "output_type": "display_data"
    },
    {
     "name": "stdout",
     "output_type": "stream",
     "text": [
      "\n",
      "NZDCHF_hourly_fractal_dimension_normalized_weight.csv\n"
     ]
    },
    {
     "data": {
      "text/html": [
       "<style type=\"text/css\">\n",
       "</style>\n",
       "<table id=\"T_ff7ae\">\n",
       "  <thead>\n",
       "    <tr>\n",
       "      <th class=\"blank level0\" >&nbsp;</th>\n",
       "      <th id=\"T_ff7ae_level0_col0\" class=\"col_heading level0 col0\" >Model</th>\n",
       "      <th id=\"T_ff7ae_level0_col1\" class=\"col_heading level0 col1\" >MAE</th>\n",
       "      <th id=\"T_ff7ae_level0_col2\" class=\"col_heading level0 col2\" >MSE</th>\n",
       "      <th id=\"T_ff7ae_level0_col3\" class=\"col_heading level0 col3\" >RMSE</th>\n",
       "      <th id=\"T_ff7ae_level0_col4\" class=\"col_heading level0 col4\" >R2</th>\n",
       "      <th id=\"T_ff7ae_level0_col5\" class=\"col_heading level0 col5\" >RMSLE</th>\n",
       "      <th id=\"T_ff7ae_level0_col6\" class=\"col_heading level0 col6\" >MAPE</th>\n",
       "    </tr>\n",
       "  </thead>\n",
       "  <tbody>\n",
       "    <tr>\n",
       "      <th id=\"T_ff7ae_level0_row0\" class=\"row_heading level0 row0\" >0</th>\n",
       "      <td id=\"T_ff7ae_row0_col0\" class=\"data row0 col0\" >Ridge Regression</td>\n",
       "      <td id=\"T_ff7ae_row0_col1\" class=\"data row0 col1\" >0.6534</td>\n",
       "      <td id=\"T_ff7ae_row0_col2\" class=\"data row0 col2\" >0.6435</td>\n",
       "      <td id=\"T_ff7ae_row0_col3\" class=\"data row0 col3\" >0.8022</td>\n",
       "      <td id=\"T_ff7ae_row0_col4\" class=\"data row0 col4\" >-197.2407</td>\n",
       "      <td id=\"T_ff7ae_row0_col5\" class=\"data row0 col5\" >0.4683</td>\n",
       "      <td id=\"T_ff7ae_row0_col6\" class=\"data row0 col6\" >0.9510</td>\n",
       "    </tr>\n",
       "  </tbody>\n",
       "</table>\n"
      ],
      "text/plain": [
       "<pandas.io.formats.style.Styler at 0x207b1d74090>"
      ]
     },
     "metadata": {},
     "output_type": "display_data"
    },
    {
     "name": "stdout",
     "output_type": "stream",
     "text": [
      "\n",
      "NZDHKD_hourly_fractal_dimension_normalized_weight.csv\n"
     ]
    },
    {
     "data": {
      "text/html": [
       "<style type=\"text/css\">\n",
       "</style>\n",
       "<table id=\"T_6f9e4\">\n",
       "  <thead>\n",
       "    <tr>\n",
       "      <th class=\"blank level0\" >&nbsp;</th>\n",
       "      <th id=\"T_6f9e4_level0_col0\" class=\"col_heading level0 col0\" >Model</th>\n",
       "      <th id=\"T_6f9e4_level0_col1\" class=\"col_heading level0 col1\" >MAE</th>\n",
       "      <th id=\"T_6f9e4_level0_col2\" class=\"col_heading level0 col2\" >MSE</th>\n",
       "      <th id=\"T_6f9e4_level0_col3\" class=\"col_heading level0 col3\" >RMSE</th>\n",
       "      <th id=\"T_6f9e4_level0_col4\" class=\"col_heading level0 col4\" >R2</th>\n",
       "      <th id=\"T_6f9e4_level0_col5\" class=\"col_heading level0 col5\" >RMSLE</th>\n",
       "      <th id=\"T_6f9e4_level0_col6\" class=\"col_heading level0 col6\" >MAPE</th>\n",
       "    </tr>\n",
       "  </thead>\n",
       "  <tbody>\n",
       "    <tr>\n",
       "      <th id=\"T_6f9e4_level0_row0\" class=\"row_heading level0 row0\" >0</th>\n",
       "      <td id=\"T_6f9e4_row0_col0\" class=\"data row0 col0\" >Ridge Regression</td>\n",
       "      <td id=\"T_6f9e4_row0_col1\" class=\"data row0 col1\" >0.6798</td>\n",
       "      <td id=\"T_6f9e4_row0_col2\" class=\"data row0 col2\" >1.9947</td>\n",
       "      <td id=\"T_6f9e4_row0_col3\" class=\"data row0 col3\" >1.4123</td>\n",
       "      <td id=\"T_6f9e4_row0_col4\" class=\"data row0 col4\" >-5.9331</td>\n",
       "      <td id=\"T_6f9e4_row0_col5\" class=\"data row0 col5\" >0.1600</td>\n",
       "      <td id=\"T_6f9e4_row0_col6\" class=\"data row0 col6\" >0.1181</td>\n",
       "    </tr>\n",
       "  </tbody>\n",
       "</table>\n"
      ],
      "text/plain": [
       "<pandas.io.formats.style.Styler at 0x207b01f2890>"
      ]
     },
     "metadata": {},
     "output_type": "display_data"
    },
    {
     "name": "stdout",
     "output_type": "stream",
     "text": [
      "\n",
      "NZDJPY_hourly_fractal_dimension_normalized_weight.csv\n"
     ]
    },
    {
     "data": {
      "text/html": [
       "<style type=\"text/css\">\n",
       "</style>\n",
       "<table id=\"T_ecf57\">\n",
       "  <thead>\n",
       "    <tr>\n",
       "      <th class=\"blank level0\" >&nbsp;</th>\n",
       "      <th id=\"T_ecf57_level0_col0\" class=\"col_heading level0 col0\" >Model</th>\n",
       "      <th id=\"T_ecf57_level0_col1\" class=\"col_heading level0 col1\" >MAE</th>\n",
       "      <th id=\"T_ecf57_level0_col2\" class=\"col_heading level0 col2\" >MSE</th>\n",
       "      <th id=\"T_ecf57_level0_col3\" class=\"col_heading level0 col3\" >RMSE</th>\n",
       "      <th id=\"T_ecf57_level0_col4\" class=\"col_heading level0 col4\" >R2</th>\n",
       "      <th id=\"T_ecf57_level0_col5\" class=\"col_heading level0 col5\" >RMSLE</th>\n",
       "      <th id=\"T_ecf57_level0_col6\" class=\"col_heading level0 col6\" >MAPE</th>\n",
       "    </tr>\n",
       "  </thead>\n",
       "  <tbody>\n",
       "    <tr>\n",
       "      <th id=\"T_ecf57_level0_row0\" class=\"row_heading level0 row0\" >0</th>\n",
       "      <td id=\"T_ecf57_row0_col0\" class=\"data row0 col0\" >Ridge Regression</td>\n",
       "      <td id=\"T_ecf57_row0_col1\" class=\"data row0 col1\" >4.2590</td>\n",
       "      <td id=\"T_ecf57_row0_col2\" class=\"data row0 col2\" >29.0288</td>\n",
       "      <td id=\"T_ecf57_row0_col3\" class=\"data row0 col3\" >5.3878</td>\n",
       "      <td id=\"T_ecf57_row0_col4\" class=\"data row0 col4\" >0.5892</td>\n",
       "      <td id=\"T_ecf57_row0_col5\" class=\"data row0 col5\" >0.0735</td>\n",
       "      <td id=\"T_ecf57_row0_col6\" class=\"data row0 col6\" >0.0587</td>\n",
       "    </tr>\n",
       "  </tbody>\n",
       "</table>\n"
      ],
      "text/plain": [
       "<pandas.io.formats.style.Styler at 0x207b0b439d0>"
      ]
     },
     "metadata": {},
     "output_type": "display_data"
    },
    {
     "name": "stdout",
     "output_type": "stream",
     "text": [
      "\n",
      "NZDSGD_hourly_fractal_dimension_normalized_weight.csv\n"
     ]
    },
    {
     "data": {
      "text/html": [
       "<style type=\"text/css\">\n",
       "</style>\n",
       "<table id=\"T_504fc\">\n",
       "  <thead>\n",
       "    <tr>\n",
       "      <th class=\"blank level0\" >&nbsp;</th>\n",
       "      <th id=\"T_504fc_level0_col0\" class=\"col_heading level0 col0\" >Model</th>\n",
       "      <th id=\"T_504fc_level0_col1\" class=\"col_heading level0 col1\" >MAE</th>\n",
       "      <th id=\"T_504fc_level0_col2\" class=\"col_heading level0 col2\" >MSE</th>\n",
       "      <th id=\"T_504fc_level0_col3\" class=\"col_heading level0 col3\" >RMSE</th>\n",
       "      <th id=\"T_504fc_level0_col4\" class=\"col_heading level0 col4\" >R2</th>\n",
       "      <th id=\"T_504fc_level0_col5\" class=\"col_heading level0 col5\" >RMSLE</th>\n",
       "      <th id=\"T_504fc_level0_col6\" class=\"col_heading level0 col6\" >MAPE</th>\n",
       "    </tr>\n",
       "  </thead>\n",
       "  <tbody>\n",
       "    <tr>\n",
       "      <th id=\"T_504fc_level0_row0\" class=\"row_heading level0 row0\" >0</th>\n",
       "      <td id=\"T_504fc_row0_col0\" class=\"data row0 col0\" >Ridge Regression</td>\n",
       "      <td id=\"T_504fc_row0_col1\" class=\"data row0 col1\" >4.9133</td>\n",
       "      <td id=\"T_504fc_row0_col2\" class=\"data row0 col2\" >3569.4848</td>\n",
       "      <td id=\"T_504fc_row0_col3\" class=\"data row0 col3\" >59.7452</td>\n",
       "      <td id=\"T_504fc_row0_col4\" class=\"data row0 col4\" >0.9906</td>\n",
       "      <td id=\"T_504fc_row0_col5\" class=\"data row0 col5\" >1.1727</td>\n",
       "      <td id=\"T_504fc_row0_col6\" class=\"data row0 col6\" >4.6061</td>\n",
       "    </tr>\n",
       "  </tbody>\n",
       "</table>\n"
      ],
      "text/plain": [
       "<pandas.io.formats.style.Styler at 0x207b0b3c110>"
      ]
     },
     "metadata": {},
     "output_type": "display_data"
    },
    {
     "name": "stdout",
     "output_type": "stream",
     "text": [
      "\n",
      "NZDUSD_hourly_fractal_dimension_normalized_weight.csv\n"
     ]
    },
    {
     "data": {
      "text/html": [
       "<style type=\"text/css\">\n",
       "</style>\n",
       "<table id=\"T_5f1b4\">\n",
       "  <thead>\n",
       "    <tr>\n",
       "      <th class=\"blank level0\" >&nbsp;</th>\n",
       "      <th id=\"T_5f1b4_level0_col0\" class=\"col_heading level0 col0\" >Model</th>\n",
       "      <th id=\"T_5f1b4_level0_col1\" class=\"col_heading level0 col1\" >MAE</th>\n",
       "      <th id=\"T_5f1b4_level0_col2\" class=\"col_heading level0 col2\" >MSE</th>\n",
       "      <th id=\"T_5f1b4_level0_col3\" class=\"col_heading level0 col3\" >RMSE</th>\n",
       "      <th id=\"T_5f1b4_level0_col4\" class=\"col_heading level0 col4\" >R2</th>\n",
       "      <th id=\"T_5f1b4_level0_col5\" class=\"col_heading level0 col5\" >RMSLE</th>\n",
       "      <th id=\"T_5f1b4_level0_col6\" class=\"col_heading level0 col6\" >MAPE</th>\n",
       "    </tr>\n",
       "  </thead>\n",
       "  <tbody>\n",
       "    <tr>\n",
       "      <th id=\"T_5f1b4_level0_row0\" class=\"row_heading level0 row0\" >0</th>\n",
       "      <td id=\"T_5f1b4_row0_col0\" class=\"data row0 col0\" >Ridge Regression</td>\n",
       "      <td id=\"T_5f1b4_row0_col1\" class=\"data row0 col1\" >0.4564</td>\n",
       "      <td id=\"T_5f1b4_row0_col2\" class=\"data row0 col2\" >0.5655</td>\n",
       "      <td id=\"T_5f1b4_row0_col3\" class=\"data row0 col3\" >0.7520</td>\n",
       "      <td id=\"T_5f1b4_row0_col4\" class=\"data row0 col4\" >-112.8556</td>\n",
       "      <td id=\"T_5f1b4_row0_col5\" class=\"data row0 col5\" >0.3188</td>\n",
       "      <td id=\"T_5f1b4_row0_col6\" class=\"data row0 col6\" >0.6353</td>\n",
       "    </tr>\n",
       "  </tbody>\n",
       "</table>\n"
      ],
      "text/plain": [
       "<pandas.io.formats.style.Styler at 0x207a732ddd0>"
      ]
     },
     "metadata": {},
     "output_type": "display_data"
    },
    {
     "name": "stdout",
     "output_type": "stream",
     "text": [
      "\n",
      "SGDCHF_hourly_fractal_dimension_normalized_weight.csv\n"
     ]
    },
    {
     "data": {
      "text/html": [
       "<style type=\"text/css\">\n",
       "</style>\n",
       "<table id=\"T_94e45\">\n",
       "  <thead>\n",
       "    <tr>\n",
       "      <th class=\"blank level0\" >&nbsp;</th>\n",
       "      <th id=\"T_94e45_level0_col0\" class=\"col_heading level0 col0\" >Model</th>\n",
       "      <th id=\"T_94e45_level0_col1\" class=\"col_heading level0 col1\" >MAE</th>\n",
       "      <th id=\"T_94e45_level0_col2\" class=\"col_heading level0 col2\" >MSE</th>\n",
       "      <th id=\"T_94e45_level0_col3\" class=\"col_heading level0 col3\" >RMSE</th>\n",
       "      <th id=\"T_94e45_level0_col4\" class=\"col_heading level0 col4\" >R2</th>\n",
       "      <th id=\"T_94e45_level0_col5\" class=\"col_heading level0 col5\" >RMSLE</th>\n",
       "      <th id=\"T_94e45_level0_col6\" class=\"col_heading level0 col6\" >MAPE</th>\n",
       "    </tr>\n",
       "  </thead>\n",
       "  <tbody>\n",
       "    <tr>\n",
       "      <th id=\"T_94e45_level0_row0\" class=\"row_heading level0 row0\" >0</th>\n",
       "      <td id=\"T_94e45_row0_col0\" class=\"data row0 col0\" >Ridge Regression</td>\n",
       "      <td id=\"T_94e45_row0_col1\" class=\"data row0 col1\" >0.8073</td>\n",
       "      <td id=\"T_94e45_row0_col2\" class=\"data row0 col2\" >2.5955</td>\n",
       "      <td id=\"T_94e45_row0_col3\" class=\"data row0 col3\" >1.6111</td>\n",
       "      <td id=\"T_94e45_row0_col4\" class=\"data row0 col4\" >-2625.3887</td>\n",
       "      <td id=\"T_94e45_row0_col5\" class=\"data row0 col5\" >0.4904</td>\n",
       "      <td id=\"T_94e45_row0_col6\" class=\"data row0 col6\" >1.1267</td>\n",
       "    </tr>\n",
       "  </tbody>\n",
       "</table>\n"
      ],
      "text/plain": [
       "<pandas.io.formats.style.Styler at 0x207b01f3d90>"
      ]
     },
     "metadata": {},
     "output_type": "display_data"
    },
    {
     "name": "stdout",
     "output_type": "stream",
     "text": [
      "\n",
      "SGDJPY_hourly_fractal_dimension_normalized_weight.csv\n"
     ]
    },
    {
     "data": {
      "text/html": [
       "<style type=\"text/css\">\n",
       "</style>\n",
       "<table id=\"T_9fa3b\">\n",
       "  <thead>\n",
       "    <tr>\n",
       "      <th class=\"blank level0\" >&nbsp;</th>\n",
       "      <th id=\"T_9fa3b_level0_col0\" class=\"col_heading level0 col0\" >Model</th>\n",
       "      <th id=\"T_9fa3b_level0_col1\" class=\"col_heading level0 col1\" >MAE</th>\n",
       "      <th id=\"T_9fa3b_level0_col2\" class=\"col_heading level0 col2\" >MSE</th>\n",
       "      <th id=\"T_9fa3b_level0_col3\" class=\"col_heading level0 col3\" >RMSE</th>\n",
       "      <th id=\"T_9fa3b_level0_col4\" class=\"col_heading level0 col4\" >R2</th>\n",
       "      <th id=\"T_9fa3b_level0_col5\" class=\"col_heading level0 col5\" >RMSLE</th>\n",
       "      <th id=\"T_9fa3b_level0_col6\" class=\"col_heading level0 col6\" >MAPE</th>\n",
       "    </tr>\n",
       "  </thead>\n",
       "  <tbody>\n",
       "    <tr>\n",
       "      <th id=\"T_9fa3b_level0_row0\" class=\"row_heading level0 row0\" >0</th>\n",
       "      <td id=\"T_9fa3b_row0_col0\" class=\"data row0 col0\" >Ridge Regression</td>\n",
       "      <td id=\"T_9fa3b_row0_col1\" class=\"data row0 col1\" >6.1298</td>\n",
       "      <td id=\"T_9fa3b_row0_col2\" class=\"data row0 col2\" >56.5731</td>\n",
       "      <td id=\"T_9fa3b_row0_col3\" class=\"data row0 col3\" >7.5215</td>\n",
       "      <td id=\"T_9fa3b_row0_col4\" class=\"data row0 col4\" >0.1701</td>\n",
       "      <td id=\"T_9fa3b_row0_col5\" class=\"data row0 col5\" >0.0871</td>\n",
       "      <td id=\"T_9fa3b_row0_col6\" class=\"data row0 col6\" >0.0690</td>\n",
       "    </tr>\n",
       "  </tbody>\n",
       "</table>\n"
      ],
      "text/plain": [
       "<pandas.io.formats.style.Styler at 0x207b0829dd0>"
      ]
     },
     "metadata": {},
     "output_type": "display_data"
    },
    {
     "name": "stdout",
     "output_type": "stream",
     "text": [
      "\n",
      "USDBRL_hourly_fractal_dimension_normalized_weight.csv\n"
     ]
    },
    {
     "data": {
      "text/html": [
       "<style type=\"text/css\">\n",
       "</style>\n",
       "<table id=\"T_3bad1\">\n",
       "  <thead>\n",
       "    <tr>\n",
       "      <th class=\"blank level0\" >&nbsp;</th>\n",
       "      <th id=\"T_3bad1_level0_col0\" class=\"col_heading level0 col0\" >Model</th>\n",
       "      <th id=\"T_3bad1_level0_col1\" class=\"col_heading level0 col1\" >MAE</th>\n",
       "      <th id=\"T_3bad1_level0_col2\" class=\"col_heading level0 col2\" >MSE</th>\n",
       "      <th id=\"T_3bad1_level0_col3\" class=\"col_heading level0 col3\" >RMSE</th>\n",
       "      <th id=\"T_3bad1_level0_col4\" class=\"col_heading level0 col4\" >R2</th>\n",
       "      <th id=\"T_3bad1_level0_col5\" class=\"col_heading level0 col5\" >RMSLE</th>\n",
       "      <th id=\"T_3bad1_level0_col6\" class=\"col_heading level0 col6\" >MAPE</th>\n",
       "    </tr>\n",
       "  </thead>\n",
       "  <tbody>\n",
       "    <tr>\n",
       "      <th id=\"T_3bad1_level0_row0\" class=\"row_heading level0 row0\" >0</th>\n",
       "      <td id=\"T_3bad1_row0_col0\" class=\"data row0 col0\" >Ridge Regression</td>\n",
       "      <td id=\"T_3bad1_row0_col1\" class=\"data row0 col1\" >1.3890</td>\n",
       "      <td id=\"T_3bad1_row0_col2\" class=\"data row0 col2\" >4.7811</td>\n",
       "      <td id=\"T_3bad1_row0_col3\" class=\"data row0 col3\" >2.1866</td>\n",
       "      <td id=\"T_3bad1_row0_col4\" class=\"data row0 col4\" >-1.8503</td>\n",
       "      <td id=\"T_3bad1_row0_col5\" class=\"data row0 col5\" >0.3909</td>\n",
       "      <td id=\"T_3bad1_row0_col6\" class=\"data row0 col6\" >0.5004</td>\n",
       "    </tr>\n",
       "  </tbody>\n",
       "</table>\n"
      ],
      "text/plain": [
       "<pandas.io.formats.style.Styler at 0x207b0c95810>"
      ]
     },
     "metadata": {},
     "output_type": "display_data"
    },
    {
     "name": "stdout",
     "output_type": "stream",
     "text": [
      "\n",
      "USDCHF_hourly_fractal_dimension_normalized_weight.csv\n"
     ]
    },
    {
     "data": {
      "text/html": [
       "<style type=\"text/css\">\n",
       "</style>\n",
       "<table id=\"T_8f248\">\n",
       "  <thead>\n",
       "    <tr>\n",
       "      <th class=\"blank level0\" >&nbsp;</th>\n",
       "      <th id=\"T_8f248_level0_col0\" class=\"col_heading level0 col0\" >Model</th>\n",
       "      <th id=\"T_8f248_level0_col1\" class=\"col_heading level0 col1\" >MAE</th>\n",
       "      <th id=\"T_8f248_level0_col2\" class=\"col_heading level0 col2\" >MSE</th>\n",
       "      <th id=\"T_8f248_level0_col3\" class=\"col_heading level0 col3\" >RMSE</th>\n",
       "      <th id=\"T_8f248_level0_col4\" class=\"col_heading level0 col4\" >R2</th>\n",
       "      <th id=\"T_8f248_level0_col5\" class=\"col_heading level0 col5\" >RMSLE</th>\n",
       "      <th id=\"T_8f248_level0_col6\" class=\"col_heading level0 col6\" >MAPE</th>\n",
       "    </tr>\n",
       "  </thead>\n",
       "  <tbody>\n",
       "    <tr>\n",
       "      <th id=\"T_8f248_level0_row0\" class=\"row_heading level0 row0\" >0</th>\n",
       "      <td id=\"T_8f248_row0_col0\" class=\"data row0 col0\" >Ridge Regression</td>\n",
       "      <td id=\"T_8f248_row0_col1\" class=\"data row0 col1\" >0.6685</td>\n",
       "      <td id=\"T_8f248_row0_col2\" class=\"data row0 col2\" >0.7934</td>\n",
       "      <td id=\"T_8f248_row0_col3\" class=\"data row0 col3\" >0.8907</td>\n",
       "      <td id=\"T_8f248_row0_col4\" class=\"data row0 col4\" >-320.9393</td>\n",
       "      <td id=\"T_8f248_row0_col5\" class=\"data row0 col5\" >0.4015</td>\n",
       "      <td id=\"T_8f248_row0_col6\" class=\"data row0 col6\" >0.7007</td>\n",
       "    </tr>\n",
       "  </tbody>\n",
       "</table>\n"
      ],
      "text/plain": [
       "<pandas.io.formats.style.Styler at 0x207a8ece2d0>"
      ]
     },
     "metadata": {},
     "output_type": "display_data"
    },
    {
     "name": "stdout",
     "output_type": "stream",
     "text": [
      "\n",
      "USDCNY_hourly_fractal_dimension_normalized_weight.csv\n"
     ]
    },
    {
     "data": {
      "text/html": [
       "<style type=\"text/css\">\n",
       "</style>\n",
       "<table id=\"T_3adab\">\n",
       "  <thead>\n",
       "    <tr>\n",
       "      <th class=\"blank level0\" >&nbsp;</th>\n",
       "      <th id=\"T_3adab_level0_col0\" class=\"col_heading level0 col0\" >Model</th>\n",
       "      <th id=\"T_3adab_level0_col1\" class=\"col_heading level0 col1\" >MAE</th>\n",
       "      <th id=\"T_3adab_level0_col2\" class=\"col_heading level0 col2\" >MSE</th>\n",
       "      <th id=\"T_3adab_level0_col3\" class=\"col_heading level0 col3\" >RMSE</th>\n",
       "      <th id=\"T_3adab_level0_col4\" class=\"col_heading level0 col4\" >R2</th>\n",
       "      <th id=\"T_3adab_level0_col5\" class=\"col_heading level0 col5\" >RMSLE</th>\n",
       "      <th id=\"T_3adab_level0_col6\" class=\"col_heading level0 col6\" >MAPE</th>\n",
       "    </tr>\n",
       "  </thead>\n",
       "  <tbody>\n",
       "    <tr>\n",
       "      <th id=\"T_3adab_level0_row0\" class=\"row_heading level0 row0\" >0</th>\n",
       "      <td id=\"T_3adab_row0_col0\" class=\"data row0 col0\" >Ridge Regression</td>\n",
       "      <td id=\"T_3adab_row0_col1\" class=\"data row0 col1\" >1.0296</td>\n",
       "      <td id=\"T_3adab_row0_col2\" class=\"data row0 col2\" >3.2869</td>\n",
       "      <td id=\"T_3adab_row0_col3\" class=\"data row0 col3\" >1.8130</td>\n",
       "      <td id=\"T_3adab_row0_col4\" class=\"data row0 col4\" >-34.2471</td>\n",
       "      <td id=\"T_3adab_row0_col5\" class=\"data row0 col5\" >0.1864</td>\n",
       "      <td id=\"T_3adab_row0_col6\" class=\"data row0 col6\" >0.1569</td>\n",
       "    </tr>\n",
       "  </tbody>\n",
       "</table>\n"
      ],
      "text/plain": [
       "<pandas.io.formats.style.Styler at 0x207b1c64150>"
      ]
     },
     "metadata": {},
     "output_type": "display_data"
    },
    {
     "name": "stdout",
     "output_type": "stream",
     "text": [
      "\n",
      "USDCZK_hourly_fractal_dimension_normalized_weight.csv\n"
     ]
    },
    {
     "data": {
      "text/html": [
       "<style type=\"text/css\">\n",
       "</style>\n",
       "<table id=\"T_c86ed\">\n",
       "  <thead>\n",
       "    <tr>\n",
       "      <th class=\"blank level0\" >&nbsp;</th>\n",
       "      <th id=\"T_c86ed_level0_col0\" class=\"col_heading level0 col0\" >Model</th>\n",
       "      <th id=\"T_c86ed_level0_col1\" class=\"col_heading level0 col1\" >MAE</th>\n",
       "      <th id=\"T_c86ed_level0_col2\" class=\"col_heading level0 col2\" >MSE</th>\n",
       "      <th id=\"T_c86ed_level0_col3\" class=\"col_heading level0 col3\" >RMSE</th>\n",
       "      <th id=\"T_c86ed_level0_col4\" class=\"col_heading level0 col4\" >R2</th>\n",
       "      <th id=\"T_c86ed_level0_col5\" class=\"col_heading level0 col5\" >RMSLE</th>\n",
       "      <th id=\"T_c86ed_level0_col6\" class=\"col_heading level0 col6\" >MAPE</th>\n",
       "    </tr>\n",
       "  </thead>\n",
       "  <tbody>\n",
       "    <tr>\n",
       "      <th id=\"T_c86ed_level0_row0\" class=\"row_heading level0 row0\" >0</th>\n",
       "      <td id=\"T_c86ed_row0_col0\" class=\"data row0 col0\" >Ridge Regression</td>\n",
       "      <td id=\"T_c86ed_row0_col1\" class=\"data row0 col1\" >1.4209</td>\n",
       "      <td id=\"T_c86ed_row0_col2\" class=\"data row0 col2\" >3.2499</td>\n",
       "      <td id=\"T_c86ed_row0_col3\" class=\"data row0 col3\" >1.8028</td>\n",
       "      <td id=\"T_c86ed_row0_col4\" class=\"data row0 col4\" >0.3770</td>\n",
       "      <td id=\"T_c86ed_row0_col5\" class=\"data row0 col5\" >0.0809</td>\n",
       "      <td id=\"T_c86ed_row0_col6\" class=\"data row0 col6\" >0.0662</td>\n",
       "    </tr>\n",
       "  </tbody>\n",
       "</table>\n"
      ],
      "text/plain": [
       "<pandas.io.formats.style.Styler at 0x207ad35d3d0>"
      ]
     },
     "metadata": {},
     "output_type": "display_data"
    },
    {
     "name": "stdout",
     "output_type": "stream",
     "text": [
      "\n",
      "USDDKK_hourly_fractal_dimension_normalized_weight.csv\n"
     ]
    },
    {
     "data": {
      "text/html": [
       "<style type=\"text/css\">\n",
       "</style>\n",
       "<table id=\"T_105e5\">\n",
       "  <thead>\n",
       "    <tr>\n",
       "      <th class=\"blank level0\" >&nbsp;</th>\n",
       "      <th id=\"T_105e5_level0_col0\" class=\"col_heading level0 col0\" >Model</th>\n",
       "      <th id=\"T_105e5_level0_col1\" class=\"col_heading level0 col1\" >MAE</th>\n",
       "      <th id=\"T_105e5_level0_col2\" class=\"col_heading level0 col2\" >MSE</th>\n",
       "      <th id=\"T_105e5_level0_col3\" class=\"col_heading level0 col3\" >RMSE</th>\n",
       "      <th id=\"T_105e5_level0_col4\" class=\"col_heading level0 col4\" >R2</th>\n",
       "      <th id=\"T_105e5_level0_col5\" class=\"col_heading level0 col5\" >RMSLE</th>\n",
       "      <th id=\"T_105e5_level0_col6\" class=\"col_heading level0 col6\" >MAPE</th>\n",
       "    </tr>\n",
       "  </thead>\n",
       "  <tbody>\n",
       "    <tr>\n",
       "      <th id=\"T_105e5_level0_row0\" class=\"row_heading level0 row0\" >0</th>\n",
       "      <td id=\"T_105e5_row0_col0\" class=\"data row0 col0\" >Ridge Regression</td>\n",
       "      <td id=\"T_105e5_row0_col1\" class=\"data row0 col1\" >0.5590</td>\n",
       "      <td id=\"T_105e5_row0_col2\" class=\"data row0 col2\" >0.7828</td>\n",
       "      <td id=\"T_105e5_row0_col3\" class=\"data row0 col3\" >0.8848</td>\n",
       "      <td id=\"T_105e5_row0_col4\" class=\"data row0 col4\" >-1.1733</td>\n",
       "      <td id=\"T_105e5_row0_col5\" class=\"data row0 col5\" >0.1013</td>\n",
       "      <td id=\"T_105e5_row0_col6\" class=\"data row0 col6\" >0.0889</td>\n",
       "    </tr>\n",
       "  </tbody>\n",
       "</table>\n"
      ],
      "text/plain": [
       "<pandas.io.formats.style.Styler at 0x207af4c4190>"
      ]
     },
     "metadata": {},
     "output_type": "display_data"
    },
    {
     "name": "stdout",
     "output_type": "stream",
     "text": [
      "\n",
      "USDHKD_hourly_fractal_dimension_normalized_weight.csv\n"
     ]
    },
    {
     "data": {
      "text/html": [
       "<style type=\"text/css\">\n",
       "</style>\n",
       "<table id=\"T_b0fb6\">\n",
       "  <thead>\n",
       "    <tr>\n",
       "      <th class=\"blank level0\" >&nbsp;</th>\n",
       "      <th id=\"T_b0fb6_level0_col0\" class=\"col_heading level0 col0\" >Model</th>\n",
       "      <th id=\"T_b0fb6_level0_col1\" class=\"col_heading level0 col1\" >MAE</th>\n",
       "      <th id=\"T_b0fb6_level0_col2\" class=\"col_heading level0 col2\" >MSE</th>\n",
       "      <th id=\"T_b0fb6_level0_col3\" class=\"col_heading level0 col3\" >RMSE</th>\n",
       "      <th id=\"T_b0fb6_level0_col4\" class=\"col_heading level0 col4\" >R2</th>\n",
       "      <th id=\"T_b0fb6_level0_col5\" class=\"col_heading level0 col5\" >RMSLE</th>\n",
       "      <th id=\"T_b0fb6_level0_col6\" class=\"col_heading level0 col6\" >MAPE</th>\n",
       "    </tr>\n",
       "  </thead>\n",
       "  <tbody>\n",
       "    <tr>\n",
       "      <th id=\"T_b0fb6_level0_row0\" class=\"row_heading level0 row0\" >0</th>\n",
       "      <td id=\"T_b0fb6_row0_col0\" class=\"data row0 col0\" >Ridge Regression</td>\n",
       "      <td id=\"T_b0fb6_row0_col1\" class=\"data row0 col1\" >0.5574</td>\n",
       "      <td id=\"T_b0fb6_row0_col2\" class=\"data row0 col2\" >0.5327</td>\n",
       "      <td id=\"T_b0fb6_row0_col3\" class=\"data row0 col3\" >0.7299</td>\n",
       "      <td id=\"T_b0fb6_row0_col4\" class=\"data row0 col4\" >-458.7023</td>\n",
       "      <td id=\"T_b0fb6_row0_col5\" class=\"data row0 col5\" >0.0727</td>\n",
       "      <td id=\"T_b0fb6_row0_col6\" class=\"data row0 col6\" >0.0716</td>\n",
       "    </tr>\n",
       "  </tbody>\n",
       "</table>\n"
      ],
      "text/plain": [
       "<pandas.io.formats.style.Styler at 0x207b1d74610>"
      ]
     },
     "metadata": {},
     "output_type": "display_data"
    },
    {
     "name": "stdout",
     "output_type": "stream",
     "text": [
      "\n",
      "USDHUF_hourly_fractal_dimension_normalized_weight.csv\n"
     ]
    },
    {
     "data": {
      "text/html": [
       "<style type=\"text/css\">\n",
       "</style>\n",
       "<table id=\"T_bbeb0\">\n",
       "  <thead>\n",
       "    <tr>\n",
       "      <th class=\"blank level0\" >&nbsp;</th>\n",
       "      <th id=\"T_bbeb0_level0_col0\" class=\"col_heading level0 col0\" >Model</th>\n",
       "      <th id=\"T_bbeb0_level0_col1\" class=\"col_heading level0 col1\" >MAE</th>\n",
       "      <th id=\"T_bbeb0_level0_col2\" class=\"col_heading level0 col2\" >MSE</th>\n",
       "      <th id=\"T_bbeb0_level0_col3\" class=\"col_heading level0 col3\" >RMSE</th>\n",
       "      <th id=\"T_bbeb0_level0_col4\" class=\"col_heading level0 col4\" >R2</th>\n",
       "      <th id=\"T_bbeb0_level0_col5\" class=\"col_heading level0 col5\" >RMSLE</th>\n",
       "      <th id=\"T_bbeb0_level0_col6\" class=\"col_heading level0 col6\" >MAPE</th>\n",
       "    </tr>\n",
       "  </thead>\n",
       "  <tbody>\n",
       "    <tr>\n",
       "      <th id=\"T_bbeb0_level0_row0\" class=\"row_heading level0 row0\" >0</th>\n",
       "      <td id=\"T_bbeb0_row0_col0\" class=\"data row0 col0\" >Ridge Regression</td>\n",
       "      <td id=\"T_bbeb0_row0_col1\" class=\"data row0 col1\" >27.0940</td>\n",
       "      <td id=\"T_bbeb0_row0_col2\" class=\"data row0 col2\" >1317.7759</td>\n",
       "      <td id=\"T_bbeb0_row0_col3\" class=\"data row0 col3\" >36.3012</td>\n",
       "      <td id=\"T_bbeb0_row0_col4\" class=\"data row0 col4\" >0.4604</td>\n",
       "      <td id=\"T_bbeb0_row0_col5\" class=\"data row0 col5\" >0.1355</td>\n",
       "      <td id=\"T_bbeb0_row0_col6\" class=\"data row0 col6\" >0.1037</td>\n",
       "    </tr>\n",
       "  </tbody>\n",
       "</table>\n"
      ],
      "text/plain": [
       "<pandas.io.formats.style.Styler at 0x207b06b2950>"
      ]
     },
     "metadata": {},
     "output_type": "display_data"
    },
    {
     "name": "stdout",
     "output_type": "stream",
     "text": [
      "\n",
      "USDJPY_hourly_fractal_dimension_normalized_weight.csv\n"
     ]
    },
    {
     "data": {
      "text/html": [
       "<style type=\"text/css\">\n",
       "</style>\n",
       "<table id=\"T_a21f3\">\n",
       "  <thead>\n",
       "    <tr>\n",
       "      <th class=\"blank level0\" >&nbsp;</th>\n",
       "      <th id=\"T_a21f3_level0_col0\" class=\"col_heading level0 col0\" >Model</th>\n",
       "      <th id=\"T_a21f3_level0_col1\" class=\"col_heading level0 col1\" >MAE</th>\n",
       "      <th id=\"T_a21f3_level0_col2\" class=\"col_heading level0 col2\" >MSE</th>\n",
       "      <th id=\"T_a21f3_level0_col3\" class=\"col_heading level0 col3\" >RMSE</th>\n",
       "      <th id=\"T_a21f3_level0_col4\" class=\"col_heading level0 col4\" >R2</th>\n",
       "      <th id=\"T_a21f3_level0_col5\" class=\"col_heading level0 col5\" >RMSLE</th>\n",
       "      <th id=\"T_a21f3_level0_col6\" class=\"col_heading level0 col6\" >MAPE</th>\n",
       "    </tr>\n",
       "  </thead>\n",
       "  <tbody>\n",
       "    <tr>\n",
       "      <th id=\"T_a21f3_level0_row0\" class=\"row_heading level0 row0\" >0</th>\n",
       "      <td id=\"T_a21f3_row0_col0\" class=\"data row0 col0\" >Ridge Regression</td>\n",
       "      <td id=\"T_a21f3_row0_col1\" class=\"data row0 col1\" >7.5811</td>\n",
       "      <td id=\"T_a21f3_row0_col2\" class=\"data row0 col2\" >109.3099</td>\n",
       "      <td id=\"T_a21f3_row0_col3\" class=\"data row0 col3\" >10.4551</td>\n",
       "      <td id=\"T_a21f3_row0_col4\" class=\"data row0 col4\" >0.5330</td>\n",
       "      <td id=\"T_a21f3_row0_col5\" class=\"data row0 col5\" >0.1035</td>\n",
       "      <td id=\"T_a21f3_row0_col6\" class=\"data row0 col6\" >0.0766</td>\n",
       "    </tr>\n",
       "  </tbody>\n",
       "</table>\n"
      ],
      "text/plain": [
       "<pandas.io.formats.style.Styler at 0x207a732e350>"
      ]
     },
     "metadata": {},
     "output_type": "display_data"
    },
    {
     "name": "stdout",
     "output_type": "stream",
     "text": [
      "\n",
      "USDMXN_hourly_fractal_dimension_normalized_weight.csv\n"
     ]
    },
    {
     "data": {
      "text/html": [
       "<style type=\"text/css\">\n",
       "</style>\n",
       "<table id=\"T_6b55a\">\n",
       "  <thead>\n",
       "    <tr>\n",
       "      <th class=\"blank level0\" >&nbsp;</th>\n",
       "      <th id=\"T_6b55a_level0_col0\" class=\"col_heading level0 col0\" >Model</th>\n",
       "      <th id=\"T_6b55a_level0_col1\" class=\"col_heading level0 col1\" >MAE</th>\n",
       "      <th id=\"T_6b55a_level0_col2\" class=\"col_heading level0 col2\" >MSE</th>\n",
       "      <th id=\"T_6b55a_level0_col3\" class=\"col_heading level0 col3\" >RMSE</th>\n",
       "      <th id=\"T_6b55a_level0_col4\" class=\"col_heading level0 col4\" >R2</th>\n",
       "      <th id=\"T_6b55a_level0_col5\" class=\"col_heading level0 col5\" >RMSLE</th>\n",
       "      <th id=\"T_6b55a_level0_col6\" class=\"col_heading level0 col6\" >MAPE</th>\n",
       "    </tr>\n",
       "  </thead>\n",
       "  <tbody>\n",
       "    <tr>\n",
       "      <th id=\"T_6b55a_level0_row0\" class=\"row_heading level0 row0\" >0</th>\n",
       "      <td id=\"T_6b55a_row0_col0\" class=\"data row0 col0\" >Ridge Regression</td>\n",
       "      <td id=\"T_6b55a_row0_col1\" class=\"data row0 col1\" >1.9883</td>\n",
       "      <td id=\"T_6b55a_row0_col2\" class=\"data row0 col2\" >4.7921</td>\n",
       "      <td id=\"T_6b55a_row0_col3\" class=\"data row0 col3\" >2.1891</td>\n",
       "      <td id=\"T_6b55a_row0_col4\" class=\"data row0 col4\" >0.5747</td>\n",
       "      <td id=\"T_6b55a_row0_col5\" class=\"data row0 col5\" >0.1244</td>\n",
       "      <td id=\"T_6b55a_row0_col6\" class=\"data row0 col6\" >0.1226</td>\n",
       "    </tr>\n",
       "  </tbody>\n",
       "</table>\n"
      ],
      "text/plain": [
       "<pandas.io.formats.style.Styler at 0x207b0819c50>"
      ]
     },
     "metadata": {},
     "output_type": "display_data"
    },
    {
     "name": "stdout",
     "output_type": "stream",
     "text": [
      "\n",
      "USDNOK_hourly_fractal_dimension_normalized_weight.csv\n"
     ]
    },
    {
     "data": {
      "text/html": [
       "<style type=\"text/css\">\n",
       "</style>\n",
       "<table id=\"T_f387f\">\n",
       "  <thead>\n",
       "    <tr>\n",
       "      <th class=\"blank level0\" >&nbsp;</th>\n",
       "      <th id=\"T_f387f_level0_col0\" class=\"col_heading level0 col0\" >Model</th>\n",
       "      <th id=\"T_f387f_level0_col1\" class=\"col_heading level0 col1\" >MAE</th>\n",
       "      <th id=\"T_f387f_level0_col2\" class=\"col_heading level0 col2\" >MSE</th>\n",
       "      <th id=\"T_f387f_level0_col3\" class=\"col_heading level0 col3\" >RMSE</th>\n",
       "      <th id=\"T_f387f_level0_col4\" class=\"col_heading level0 col4\" >R2</th>\n",
       "      <th id=\"T_f387f_level0_col5\" class=\"col_heading level0 col5\" >RMSLE</th>\n",
       "      <th id=\"T_f387f_level0_col6\" class=\"col_heading level0 col6\" >MAPE</th>\n",
       "    </tr>\n",
       "  </thead>\n",
       "  <tbody>\n",
       "    <tr>\n",
       "      <th id=\"T_f387f_level0_row0\" class=\"row_heading level0 row0\" >0</th>\n",
       "      <td id=\"T_f387f_row0_col0\" class=\"data row0 col0\" >Ridge Regression</td>\n",
       "      <td id=\"T_f387f_row0_col1\" class=\"data row0 col1\" >0.9163</td>\n",
       "      <td id=\"T_f387f_row0_col2\" class=\"data row0 col2\" >1.2370</td>\n",
       "      <td id=\"T_f387f_row0_col3\" class=\"data row0 col3\" >1.1122</td>\n",
       "      <td id=\"T_f387f_row0_col4\" class=\"data row0 col4\" >0.4100</td>\n",
       "      <td id=\"T_f387f_row0_col5\" class=\"data row0 col5\" >0.1175</td>\n",
       "      <td id=\"T_f387f_row0_col6\" class=\"data row0 col6\" >0.1152</td>\n",
       "    </tr>\n",
       "  </tbody>\n",
       "</table>\n"
      ],
      "text/plain": [
       "<pandas.io.formats.style.Styler at 0x207af4bb950>"
      ]
     },
     "metadata": {},
     "output_type": "display_data"
    },
    {
     "name": "stdout",
     "output_type": "stream",
     "text": [
      "\n",
      "USDPLN_hourly_fractal_dimension_normalized_weight.csv\n"
     ]
    },
    {
     "data": {
      "text/html": [
       "<style type=\"text/css\">\n",
       "</style>\n",
       "<table id=\"T_f8e77\">\n",
       "  <thead>\n",
       "    <tr>\n",
       "      <th class=\"blank level0\" >&nbsp;</th>\n",
       "      <th id=\"T_f8e77_level0_col0\" class=\"col_heading level0 col0\" >Model</th>\n",
       "      <th id=\"T_f8e77_level0_col1\" class=\"col_heading level0 col1\" >MAE</th>\n",
       "      <th id=\"T_f8e77_level0_col2\" class=\"col_heading level0 col2\" >MSE</th>\n",
       "      <th id=\"T_f8e77_level0_col3\" class=\"col_heading level0 col3\" >RMSE</th>\n",
       "      <th id=\"T_f8e77_level0_col4\" class=\"col_heading level0 col4\" >R2</th>\n",
       "      <th id=\"T_f8e77_level0_col5\" class=\"col_heading level0 col5\" >RMSLE</th>\n",
       "      <th id=\"T_f8e77_level0_col6\" class=\"col_heading level0 col6\" >MAPE</th>\n",
       "    </tr>\n",
       "  </thead>\n",
       "  <tbody>\n",
       "    <tr>\n",
       "      <th id=\"T_f8e77_level0_row0\" class=\"row_heading level0 row0\" >0</th>\n",
       "      <td id=\"T_f8e77_row0_col0\" class=\"data row0 col0\" >Ridge Regression</td>\n",
       "      <td id=\"T_f8e77_row0_col1\" class=\"data row0 col1\" >0.8077</td>\n",
       "      <td id=\"T_f8e77_row0_col2\" class=\"data row0 col2\" >2.3233</td>\n",
       "      <td id=\"T_f8e77_row0_col3\" class=\"data row0 col3\" >1.5242</td>\n",
       "      <td id=\"T_f8e77_row0_col4\" class=\"data row0 col4\" >-9.6957</td>\n",
       "      <td id=\"T_f8e77_row0_col5\" class=\"data row0 col5\" >0.2318</td>\n",
       "      <td id=\"T_f8e77_row0_col6\" class=\"data row0 col6\" >0.2214</td>\n",
       "    </tr>\n",
       "  </tbody>\n",
       "</table>\n"
      ],
      "text/plain": [
       "<pandas.io.formats.style.Styler at 0x207aabcff10>"
      ]
     },
     "metadata": {},
     "output_type": "display_data"
    },
    {
     "name": "stdout",
     "output_type": "stream",
     "text": [
      "\n",
      "USDSEK_hourly_fractal_dimension_normalized_weight.csv\n"
     ]
    },
    {
     "data": {
      "text/html": [
       "<style type=\"text/css\">\n",
       "</style>\n",
       "<table id=\"T_65cd0\">\n",
       "  <thead>\n",
       "    <tr>\n",
       "      <th class=\"blank level0\" >&nbsp;</th>\n",
       "      <th id=\"T_65cd0_level0_col0\" class=\"col_heading level0 col0\" >Model</th>\n",
       "      <th id=\"T_65cd0_level0_col1\" class=\"col_heading level0 col1\" >MAE</th>\n",
       "      <th id=\"T_65cd0_level0_col2\" class=\"col_heading level0 col2\" >MSE</th>\n",
       "      <th id=\"T_65cd0_level0_col3\" class=\"col_heading level0 col3\" >RMSE</th>\n",
       "      <th id=\"T_65cd0_level0_col4\" class=\"col_heading level0 col4\" >R2</th>\n",
       "      <th id=\"T_65cd0_level0_col5\" class=\"col_heading level0 col5\" >RMSLE</th>\n",
       "      <th id=\"T_65cd0_level0_col6\" class=\"col_heading level0 col6\" >MAPE</th>\n",
       "    </tr>\n",
       "  </thead>\n",
       "  <tbody>\n",
       "    <tr>\n",
       "      <th id=\"T_65cd0_level0_row0\" class=\"row_heading level0 row0\" >0</th>\n",
       "      <td id=\"T_65cd0_row0_col0\" class=\"data row0 col0\" >Ridge Regression</td>\n",
       "      <td id=\"T_65cd0_row0_col1\" class=\"data row0 col1\" >0.7769</td>\n",
       "      <td id=\"T_65cd0_row0_col2\" class=\"data row0 col2\" >1.0035</td>\n",
       "      <td id=\"T_65cd0_row0_col3\" class=\"data row0 col3\" >1.0017</td>\n",
       "      <td id=\"T_65cd0_row0_col4\" class=\"data row0 col4\" >0.3505</td>\n",
       "      <td id=\"T_65cd0_row0_col5\" class=\"data row0 col5\" >0.0983</td>\n",
       "      <td id=\"T_65cd0_row0_col6\" class=\"data row0 col6\" >0.0899</td>\n",
       "    </tr>\n",
       "  </tbody>\n",
       "</table>\n"
      ],
      "text/plain": [
       "<pandas.io.formats.style.Styler at 0x207b0202250>"
      ]
     },
     "metadata": {},
     "output_type": "display_data"
    },
    {
     "name": "stdout",
     "output_type": "stream",
     "text": [
      "\n",
      "USDSGD_hourly_fractal_dimension_normalized_weight.csv\n"
     ]
    },
    {
     "data": {
      "text/html": [
       "<style type=\"text/css\">\n",
       "</style>\n",
       "<table id=\"T_a9d24\">\n",
       "  <thead>\n",
       "    <tr>\n",
       "      <th class=\"blank level0\" >&nbsp;</th>\n",
       "      <th id=\"T_a9d24_level0_col0\" class=\"col_heading level0 col0\" >Model</th>\n",
       "      <th id=\"T_a9d24_level0_col1\" class=\"col_heading level0 col1\" >MAE</th>\n",
       "      <th id=\"T_a9d24_level0_col2\" class=\"col_heading level0 col2\" >MSE</th>\n",
       "      <th id=\"T_a9d24_level0_col3\" class=\"col_heading level0 col3\" >RMSE</th>\n",
       "      <th id=\"T_a9d24_level0_col4\" class=\"col_heading level0 col4\" >R2</th>\n",
       "      <th id=\"T_a9d24_level0_col5\" class=\"col_heading level0 col5\" >RMSLE</th>\n",
       "      <th id=\"T_a9d24_level0_col6\" class=\"col_heading level0 col6\" >MAPE</th>\n",
       "    </tr>\n",
       "  </thead>\n",
       "  <tbody>\n",
       "    <tr>\n",
       "      <th id=\"T_a9d24_level0_row0\" class=\"row_heading level0 row0\" >0</th>\n",
       "      <td id=\"T_a9d24_row0_col0\" class=\"data row0 col0\" >Ridge Regression</td>\n",
       "      <td id=\"T_a9d24_row0_col1\" class=\"data row0 col1\" >0.8315</td>\n",
       "      <td id=\"T_a9d24_row0_col2\" class=\"data row0 col2\" >1.3872</td>\n",
       "      <td id=\"T_a9d24_row0_col3\" class=\"data row0 col3\" >1.1778</td>\n",
       "      <td id=\"T_a9d24_row0_col4\" class=\"data row0 col4\" >-386.8211</td>\n",
       "      <td id=\"T_a9d24_row0_col5\" class=\"data row0 col5\" >0.3859</td>\n",
       "      <td id=\"T_a9d24_row0_col6\" class=\"data row0 col6\" >0.6230</td>\n",
       "    </tr>\n",
       "  </tbody>\n",
       "</table>\n"
      ],
      "text/plain": [
       "<pandas.io.formats.style.Styler at 0x207b08289d0>"
      ]
     },
     "metadata": {},
     "output_type": "display_data"
    },
    {
     "name": "stdout",
     "output_type": "stream",
     "text": [
      "\n"
     ]
    }
   ],
   "source": [
    "from pycaret.regression import *\n",
    "# Establishing path for the folder which contains all the csv files.\n",
    "input_folder = \"C:/Users/aksha/Downloads/data_eng_fin/classification/hourly_data/fd_normalized/weighted_avg_output_folder\"\n",
    "\n",
    "# Get a list of all csv files in the input folder\n",
    "csv_files = [csv_file for csv_file in os.listdir(input_folder) if csv_file.endswith('.csv')]\n",
    "df_list = []\n",
    "\n",
    "for csv_file in csv_files:\n",
    "    # Read the csv file and only extract three required columns\n",
    "    df_list.append(pd.read_csv(os.path.join(input_folder, csv_file)))\n",
    "    \n",
    "df = pd.concat(df_list, ignore_index=True)\n",
    "df.dropna(subset=['VWAP'], inplace=True)\n",
    "regression_setup = setup(data=df, target='VWAP', train_size=0.7)\n",
    "best = compare_models()\n",
    "scores = []\n",
    "for i, df_ in enumerate(df_list):\n",
    "    df_.dropna(subset=['VWAP'], inplace=True)\n",
    "    # print(csv_files[i])  # Commented the line\n",
    "    predict_model(best, data = df_)\n",
    "    scores.append((csv_files[i][:-4], pull()[\"RMSE\"][0]))\n",
    "    print()"
   ]
  },
  {
   "cell_type": "code",
   "execution_count": 3,
   "metadata": {},
   "outputs": [],
   "source": [
    "def generate_currency_pair_classes_report(scores):\n",
    "    \"\"\"\n",
    "    Generate a report of currency pair classes based on scores.\n",
    "\n",
    "    Args:\n",
    "        scores (list): A list of tuples containing currency pair scores.\n",
    "\n",
    "    Returns:\n",
    "        None\n",
    "    \"\"\"\n",
    "    pair_errors = sorted(scores, key=lambda a: a[1])\n",
    "    classes = [*[\"Forecastable\"] * 3, *[\"Partially Forecastable\"] * 4, *[\"Non Forecastable\"] * 3]\n",
    "    data = {\"Currency Pairs\": [], \"Errors\": [], \"Class\": []}\n",
    "\n",
    "    for i in range(10):\n",
    "        data[\"Currency Pairs\"].append(pair_errors[i][0])\n",
    "        data[\"Errors\"].append(pair_errors[i][1])\n",
    "        data[\"Class\"].append(classes[i])\n",
    "\n",
    "    output_folder = \"C:/Users/aksha/Downloads/data_eng_fin/classification/hourly_data/fd_normalized/weighted_avg_output_folder/report\"\n",
    "    pd.DataFrame(data).to_csv(output_folder + \"Currency Pair Classes.csv\")\n"
   ]
  }
 ],
 "metadata": {
  "kernelspec": {
   "display_name": "base",
   "language": "python",
   "name": "python3"
  },
  "language_info": {
   "codemirror_mode": {
    "name": "ipython",
    "version": 3
   },
   "file_extension": ".py",
   "mimetype": "text/x-python",
   "name": "python",
   "nbconvert_exporter": "python",
   "pygments_lexer": "ipython3",
   "version": "3.11.5"
  }
 },
 "nbformat": 4,
 "nbformat_minor": 2
}
